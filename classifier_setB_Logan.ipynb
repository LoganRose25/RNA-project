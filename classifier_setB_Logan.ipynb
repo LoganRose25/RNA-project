{
 "cells": [
  {
   "cell_type": "code",
   "execution_count": 1,
   "metadata": {},
   "outputs": [],
   "source": [
    "import pandas as pd\n",
    "import numpy as np"
   ]
  },
  {
   "cell_type": "code",
   "execution_count": 2,
   "metadata": {},
   "outputs": [
    {
     "data": {
      "text/html": [
       "<div>\n",
       "<style scoped>\n",
       "    .dataframe tbody tr th:only-of-type {\n",
       "        vertical-align: middle;\n",
       "    }\n",
       "\n",
       "    .dataframe tbody tr th {\n",
       "        vertical-align: top;\n",
       "    }\n",
       "\n",
       "    .dataframe thead th {\n",
       "        text-align: right;\n",
       "    }\n",
       "</style>\n",
       "<table border=\"1\" class=\"dataframe\">\n",
       "  <thead>\n",
       "    <tr style=\"text-align: right;\">\n",
       "      <th></th>\n",
       "      <th>Id</th>\n",
       "      <th>Similarity</th>\n",
       "      <th>Variance</th>\n",
       "      <th>Acc MFE</th>\n",
       "      <th>Acc SHAPE</th>\n",
       "    </tr>\n",
       "  </thead>\n",
       "  <tbody>\n",
       "    <tr>\n",
       "      <th>0</th>\n",
       "      <td>0</td>\n",
       "      <td>57.951651</td>\n",
       "      <td>692.158185</td>\n",
       "      <td>23.4</td>\n",
       "      <td>63.0</td>\n",
       "    </tr>\n",
       "    <tr>\n",
       "      <th>1</th>\n",
       "      <td>1</td>\n",
       "      <td>37.627688</td>\n",
       "      <td>370.143742</td>\n",
       "      <td>6.6</td>\n",
       "      <td>72.1</td>\n",
       "    </tr>\n",
       "    <tr>\n",
       "      <th>2</th>\n",
       "      <td>2</td>\n",
       "      <td>75.272133</td>\n",
       "      <td>300.378489</td>\n",
       "      <td>31.9</td>\n",
       "      <td>68.8</td>\n",
       "    </tr>\n",
       "    <tr>\n",
       "      <th>3</th>\n",
       "      <td>3</td>\n",
       "      <td>45.569388</td>\n",
       "      <td>115.620528</td>\n",
       "      <td>14.4</td>\n",
       "      <td>80.0</td>\n",
       "    </tr>\n",
       "    <tr>\n",
       "      <th>4</th>\n",
       "      <td>4</td>\n",
       "      <td>87.567179</td>\n",
       "      <td>338.506930</td>\n",
       "      <td>25.2</td>\n",
       "      <td>78.4</td>\n",
       "    </tr>\n",
       "  </tbody>\n",
       "</table>\n",
       "</div>"
      ],
      "text/plain": [
       "   Id  Similarity    Variance  Acc MFE  Acc SHAPE\n",
       "0   0   57.951651  692.158185     23.4       63.0\n",
       "1   1   37.627688  370.143742      6.6       72.1\n",
       "2   2   75.272133  300.378489     31.9       68.8\n",
       "3   3   45.569388  115.620528     14.4       80.0\n",
       "4   4   87.567179  338.506930     25.2       78.4"
      ]
     },
     "execution_count": 2,
     "metadata": {},
     "output_type": "execute_result"
    }
   ],
   "source": [
    "#read sim and variance values for TrainSetB\n",
    "inputdirectory=r\"C:/Users/Logan Rose/Downloads/RNA-project-main/RNA-project-main/\"\n",
    "inputfile='similarity_and_variance_TrainSetB_no_shape.csv'\n",
    "df=pd.read_csv(inputdirectory+inputfile,names=['Id','Similarity','Variance','Acc MFE','Acc SHAPE'])\n",
    "df.head()"
   ]
  },
  {
   "cell_type": "code",
   "execution_count": 3,
   "metadata": {},
   "outputs": [
    {
     "data": {
      "text/plain": [
       "(1061, 5)"
      ]
     },
     "execution_count": 3,
     "metadata": {},
     "output_type": "execute_result"
    }
   ],
   "source": [
    "df.shape"
   ]
  },
  {
   "cell_type": "code",
   "execution_count": 4,
   "metadata": {},
   "outputs": [
    {
     "data": {
      "text/html": [
       "<div>\n",
       "<style scoped>\n",
       "    .dataframe tbody tr th:only-of-type {\n",
       "        vertical-align: middle;\n",
       "    }\n",
       "\n",
       "    .dataframe tbody tr th {\n",
       "        vertical-align: top;\n",
       "    }\n",
       "\n",
       "    .dataframe thead th {\n",
       "        text-align: right;\n",
       "    }\n",
       "</style>\n",
       "<table border=\"1\" class=\"dataframe\">\n",
       "  <thead>\n",
       "    <tr style=\"text-align: right;\">\n",
       "      <th></th>\n",
       "      <th>Id</th>\n",
       "      <th>Similarity SHAPE33</th>\n",
       "      <th>Variance SHAPE33</th>\n",
       "      <th>Acc MFE</th>\n",
       "      <th>Acc SHAPE</th>\n",
       "    </tr>\n",
       "  </thead>\n",
       "  <tbody>\n",
       "    <tr>\n",
       "      <th>0</th>\n",
       "      <td>0</td>\n",
       "      <td>50.240048</td>\n",
       "      <td>86.747493</td>\n",
       "      <td>23.4</td>\n",
       "      <td>63.0</td>\n",
       "    </tr>\n",
       "    <tr>\n",
       "      <th>1</th>\n",
       "      <td>1</td>\n",
       "      <td>47.660746</td>\n",
       "      <td>26.887352</td>\n",
       "      <td>6.6</td>\n",
       "      <td>72.1</td>\n",
       "    </tr>\n",
       "    <tr>\n",
       "      <th>2</th>\n",
       "      <td>2</td>\n",
       "      <td>53.763597</td>\n",
       "      <td>67.334734</td>\n",
       "      <td>31.9</td>\n",
       "      <td>68.8</td>\n",
       "    </tr>\n",
       "    <tr>\n",
       "      <th>3</th>\n",
       "      <td>3</td>\n",
       "      <td>34.870981</td>\n",
       "      <td>69.634158</td>\n",
       "      <td>14.4</td>\n",
       "      <td>80.0</td>\n",
       "    </tr>\n",
       "    <tr>\n",
       "      <th>4</th>\n",
       "      <td>4</td>\n",
       "      <td>52.831890</td>\n",
       "      <td>88.601832</td>\n",
       "      <td>25.2</td>\n",
       "      <td>78.4</td>\n",
       "    </tr>\n",
       "  </tbody>\n",
       "</table>\n",
       "</div>"
      ],
      "text/plain": [
       "   Id  Similarity SHAPE33  Variance SHAPE33  Acc MFE  Acc SHAPE\n",
       "0   0           50.240048         86.747493     23.4       63.0\n",
       "1   1           47.660746         26.887352      6.6       72.1\n",
       "2   2           53.763597         67.334734     31.9       68.8\n",
       "3   3           34.870981         69.634158     14.4       80.0\n",
       "4   4           52.831890         88.601832     25.2       78.4"
      ]
     },
     "execution_count": 4,
     "metadata": {},
     "output_type": "execute_result"
    }
   ],
   "source": [
    "#read values for Sim with SHAPE and Var with SHAPE for TrainSetB\n",
    "inputdirectory=r\"C:/Users/Logan Rose/Downloads/RNA-project-main/RNA-project-main/\"\n",
    "inputfile='similarity_and_variance_TrainSetB_with_shape33.csv'\n",
    "df1=pd.read_csv(inputdirectory+inputfile,names=['Id','Similarity SHAPE33','Variance SHAPE33','Acc MFE','Acc SHAPE'])\n",
    "df1.head()"
   ]
  },
  {
   "cell_type": "code",
   "execution_count": 5,
   "metadata": {},
   "outputs": [
    {
     "data": {
      "text/plain": [
       "False"
      ]
     },
     "execution_count": 5,
     "metadata": {},
     "output_type": "execute_result"
    }
   ],
   "source": [
    "df1.isnull().values.any()"
   ]
  },
  {
   "cell_type": "code",
   "execution_count": 6,
   "metadata": {},
   "outputs": [
    {
     "data": {
      "text/plain": [
       "(1061, 5)"
      ]
     },
     "execution_count": 6,
     "metadata": {},
     "output_type": "execute_result"
    }
   ],
   "source": [
    "df1.shape"
   ]
  },
  {
   "cell_type": "code",
   "execution_count": 7,
   "metadata": {},
   "outputs": [
    {
     "data": {
      "text/html": [
       "<div>\n",
       "<style scoped>\n",
       "    .dataframe tbody tr th:only-of-type {\n",
       "        vertical-align: middle;\n",
       "    }\n",
       "\n",
       "    .dataframe tbody tr th {\n",
       "        vertical-align: top;\n",
       "    }\n",
       "\n",
       "    .dataframe thead th {\n",
       "        text-align: right;\n",
       "    }\n",
       "</style>\n",
       "<table border=\"1\" class=\"dataframe\">\n",
       "  <thead>\n",
       "    <tr style=\"text-align: right;\">\n",
       "      <th></th>\n",
       "      <th>Id</th>\n",
       "      <th>Similarity</th>\n",
       "      <th>Variance</th>\n",
       "      <th>Acc MFE</th>\n",
       "      <th>Acc SHAPE</th>\n",
       "    </tr>\n",
       "  </thead>\n",
       "  <tbody>\n",
       "    <tr>\n",
       "      <th>0</th>\n",
       "      <td>0</td>\n",
       "      <td>85.206834</td>\n",
       "      <td>65.590910</td>\n",
       "      <td>28.7</td>\n",
       "      <td>81.2</td>\n",
       "    </tr>\n",
       "    <tr>\n",
       "      <th>1</th>\n",
       "      <td>1</td>\n",
       "      <td>41.586762</td>\n",
       "      <td>1493.297404</td>\n",
       "      <td>20.6</td>\n",
       "      <td>77.3</td>\n",
       "    </tr>\n",
       "    <tr>\n",
       "      <th>2</th>\n",
       "      <td>2</td>\n",
       "      <td>42.318602</td>\n",
       "      <td>571.386856</td>\n",
       "      <td>19.9</td>\n",
       "      <td>49.5</td>\n",
       "    </tr>\n",
       "    <tr>\n",
       "      <th>3</th>\n",
       "      <td>3</td>\n",
       "      <td>82.917642</td>\n",
       "      <td>177.482578</td>\n",
       "      <td>0.0</td>\n",
       "      <td>74.1</td>\n",
       "    </tr>\n",
       "    <tr>\n",
       "      <th>4</th>\n",
       "      <td>4</td>\n",
       "      <td>68.436426</td>\n",
       "      <td>654.509620</td>\n",
       "      <td>18.0</td>\n",
       "      <td>66.8</td>\n",
       "    </tr>\n",
       "  </tbody>\n",
       "</table>\n",
       "</div>"
      ],
      "text/plain": [
       "   Id  Similarity     Variance  Acc MFE  Acc SHAPE\n",
       "0   0   85.206834    65.590910     28.7       81.2\n",
       "1   1   41.586762  1493.297404     20.6       77.3\n",
       "2   2   42.318602   571.386856     19.9       49.5\n",
       "3   3   82.917642   177.482578      0.0       74.1\n",
       "4   4   68.436426   654.509620     18.0       66.8"
      ]
     },
     "execution_count": 7,
     "metadata": {},
     "output_type": "execute_result"
    }
   ],
   "source": [
    "#read sim and variance values for TestSetB\n",
    "inputdirectory=r\"C:/Users/Logan Rose/Downloads/RNA-project-main/RNA-project-main/\"\n",
    "inputfile='similarity_and_variance_TestSetB_no_shape.csv'\n",
    "df3=pd.read_csv(inputdirectory+inputfile,names=['Id','Similarity','Variance','Acc MFE','Acc SHAPE'])\n",
    "df3.head()"
   ]
  },
  {
   "cell_type": "code",
   "execution_count": 8,
   "metadata": {},
   "outputs": [
    {
     "data": {
      "text/plain": [
       "(428, 5)"
      ]
     },
     "execution_count": 8,
     "metadata": {},
     "output_type": "execute_result"
    }
   ],
   "source": [
    "df3.shape"
   ]
  },
  {
   "cell_type": "code",
   "execution_count": 9,
   "metadata": {},
   "outputs": [
    {
     "data": {
      "text/html": [
       "<div>\n",
       "<style scoped>\n",
       "    .dataframe tbody tr th:only-of-type {\n",
       "        vertical-align: middle;\n",
       "    }\n",
       "\n",
       "    .dataframe tbody tr th {\n",
       "        vertical-align: top;\n",
       "    }\n",
       "\n",
       "    .dataframe thead th {\n",
       "        text-align: right;\n",
       "    }\n",
       "</style>\n",
       "<table border=\"1\" class=\"dataframe\">\n",
       "  <thead>\n",
       "    <tr style=\"text-align: right;\">\n",
       "      <th></th>\n",
       "      <th>Id</th>\n",
       "      <th>Similarity SHAPE33</th>\n",
       "      <th>Variance SHAPE33</th>\n",
       "      <th>Acc MFE</th>\n",
       "      <th>Acc SHAPE</th>\n",
       "    </tr>\n",
       "  </thead>\n",
       "  <tbody>\n",
       "    <tr>\n",
       "      <th>0</th>\n",
       "      <td>0</td>\n",
       "      <td>47.835229</td>\n",
       "      <td>132.388877</td>\n",
       "      <td>28.7</td>\n",
       "      <td>81.2</td>\n",
       "    </tr>\n",
       "    <tr>\n",
       "      <th>1</th>\n",
       "      <td>1</td>\n",
       "      <td>62.467397</td>\n",
       "      <td>675.506457</td>\n",
       "      <td>20.6</td>\n",
       "      <td>77.3</td>\n",
       "    </tr>\n",
       "    <tr>\n",
       "      <th>2</th>\n",
       "      <td>2</td>\n",
       "      <td>59.465509</td>\n",
       "      <td>10.712319</td>\n",
       "      <td>19.9</td>\n",
       "      <td>49.5</td>\n",
       "    </tr>\n",
       "    <tr>\n",
       "      <th>3</th>\n",
       "      <td>3</td>\n",
       "      <td>52.351392</td>\n",
       "      <td>78.650790</td>\n",
       "      <td>0.0</td>\n",
       "      <td>74.1</td>\n",
       "    </tr>\n",
       "    <tr>\n",
       "      <th>4</th>\n",
       "      <td>4</td>\n",
       "      <td>44.405405</td>\n",
       "      <td>209.770660</td>\n",
       "      <td>18.0</td>\n",
       "      <td>66.8</td>\n",
       "    </tr>\n",
       "  </tbody>\n",
       "</table>\n",
       "</div>"
      ],
      "text/plain": [
       "   Id  Similarity SHAPE33  Variance SHAPE33  Acc MFE  Acc SHAPE\n",
       "0   0           47.835229        132.388877     28.7       81.2\n",
       "1   1           62.467397        675.506457     20.6       77.3\n",
       "2   2           59.465509         10.712319     19.9       49.5\n",
       "3   3           52.351392         78.650790      0.0       74.1\n",
       "4   4           44.405405        209.770660     18.0       66.8"
      ]
     },
     "execution_count": 9,
     "metadata": {},
     "output_type": "execute_result"
    }
   ],
   "source": [
    "#read values for Sim with SHAPE and Var with SHAPE for TestSetB\n",
    "inputdirectory=r\"C:/Users/Logan Rose/Downloads/RNA-project-main/RNA-project-main/\"\n",
    "inputfile='similarity_and_variance_TestSetB_with_shape33.csv'\n",
    "df4=pd.read_csv(inputdirectory+inputfile,names=['Id','Similarity SHAPE33','Variance SHAPE33','Acc MFE','Acc SHAPE'])\n",
    "df4.head()"
   ]
  },
  {
   "cell_type": "code",
   "execution_count": 10,
   "metadata": {},
   "outputs": [
    {
     "data": {
      "text/plain": [
       "(428, 5)"
      ]
     },
     "execution_count": 10,
     "metadata": {},
     "output_type": "execute_result"
    }
   ],
   "source": [
    "df4.shape"
   ]
  },
  {
   "cell_type": "code",
   "execution_count": 11,
   "metadata": {},
   "outputs": [
    {
     "data": {
      "text/html": [
       "<div>\n",
       "<style scoped>\n",
       "    .dataframe tbody tr th:only-of-type {\n",
       "        vertical-align: middle;\n",
       "    }\n",
       "\n",
       "    .dataframe tbody tr th {\n",
       "        vertical-align: top;\n",
       "    }\n",
       "\n",
       "    .dataframe thead th {\n",
       "        text-align: right;\n",
       "    }\n",
       "</style>\n",
       "<table border=\"1\" class=\"dataframe\">\n",
       "  <thead>\n",
       "    <tr style=\"text-align: right;\">\n",
       "      <th></th>\n",
       "      <th>File</th>\n",
       "      <th>Id</th>\n",
       "      <th>Identifier</th>\n",
       "      <th>norms</th>\n",
       "    </tr>\n",
       "  </thead>\n",
       "  <tbody>\n",
       "    <tr>\n",
       "      <th>0</th>\n",
       "      <td>0_no_shape.csv</td>\n",
       "      <td>0</td>\n",
       "      <td>Test_B_No_Shape</td>\n",
       "      <td>65.637211</td>\n",
       "    </tr>\n",
       "    <tr>\n",
       "      <th>1</th>\n",
       "      <td>1_no_shape.csv</td>\n",
       "      <td>1</td>\n",
       "      <td>Test_B_No_Shape</td>\n",
       "      <td>65.021130</td>\n",
       "    </tr>\n",
       "    <tr>\n",
       "      <th>2</th>\n",
       "      <td>2_no_shape.csv</td>\n",
       "      <td>2</td>\n",
       "      <td>Test_B_No_Shape</td>\n",
       "      <td>65.254635</td>\n",
       "    </tr>\n",
       "    <tr>\n",
       "      <th>3</th>\n",
       "      <td>3_no_shape.csv</td>\n",
       "      <td>3</td>\n",
       "      <td>Test_B_No_Shape</td>\n",
       "      <td>64.854884</td>\n",
       "    </tr>\n",
       "    <tr>\n",
       "      <th>4</th>\n",
       "      <td>4_no_shape.csv</td>\n",
       "      <td>4</td>\n",
       "      <td>Test_B_No_Shape</td>\n",
       "      <td>65.122592</td>\n",
       "    </tr>\n",
       "  </tbody>\n",
       "</table>\n",
       "</div>"
      ],
      "text/plain": [
       "             File  Id       Identifier      norms\n",
       "0  0_no_shape.csv   0  Test_B_No_Shape  65.637211\n",
       "1  1_no_shape.csv   1  Test_B_No_Shape  65.021130\n",
       "2  2_no_shape.csv   2  Test_B_No_Shape  65.254635\n",
       "3  3_no_shape.csv   3  Test_B_No_Shape  64.854884\n",
       "4  4_no_shape.csv   4  Test_B_No_Shape  65.122592"
      ]
     },
     "execution_count": 11,
     "metadata": {},
     "output_type": "execute_result"
    }
   ],
   "source": [
    "#read 0-Norms for TestSetB\n",
    "inputdirectory=r\"C:/Users/Logan Rose/Downloads/RNA-project-main/RNA-project-main/hom0/\"\n",
    "inputfile='Norms_TestB.csv'\n",
    "plTestSetB0=pd.read_csv(inputdirectory+inputfile,names=['File','Id','Identifier','norms'], header=None, skiprows=1)\n",
    "plTestSetB0.head()"
   ]
  },
  {
   "cell_type": "code",
   "execution_count": 12,
   "metadata": {},
   "outputs": [
    {
     "data": {
      "text/html": [
       "<div>\n",
       "<style scoped>\n",
       "    .dataframe tbody tr th:only-of-type {\n",
       "        vertical-align: middle;\n",
       "    }\n",
       "\n",
       "    .dataframe tbody tr th {\n",
       "        vertical-align: top;\n",
       "    }\n",
       "\n",
       "    .dataframe thead th {\n",
       "        text-align: right;\n",
       "    }\n",
       "</style>\n",
       "<table border=\"1\" class=\"dataframe\">\n",
       "  <thead>\n",
       "    <tr style=\"text-align: right;\">\n",
       "      <th></th>\n",
       "      <th>File</th>\n",
       "      <th>Id</th>\n",
       "      <th>Identifier</th>\n",
       "      <th>norms</th>\n",
       "    </tr>\n",
       "  </thead>\n",
       "  <tbody>\n",
       "    <tr>\n",
       "      <th>0</th>\n",
       "      <td>0_no_shape.csv</td>\n",
       "      <td>0</td>\n",
       "      <td>Test_B_No_Shape</td>\n",
       "      <td>0.140160</td>\n",
       "    </tr>\n",
       "    <tr>\n",
       "      <th>1</th>\n",
       "      <td>1_no_shape.csv</td>\n",
       "      <td>1</td>\n",
       "      <td>Test_B_No_Shape</td>\n",
       "      <td>0.145259</td>\n",
       "    </tr>\n",
       "    <tr>\n",
       "      <th>2</th>\n",
       "      <td>2_no_shape.csv</td>\n",
       "      <td>2</td>\n",
       "      <td>Test_B_No_Shape</td>\n",
       "      <td>0.145699</td>\n",
       "    </tr>\n",
       "    <tr>\n",
       "      <th>3</th>\n",
       "      <td>3_no_shape.csv</td>\n",
       "      <td>3</td>\n",
       "      <td>Test_B_No_Shape</td>\n",
       "      <td>0.280974</td>\n",
       "    </tr>\n",
       "    <tr>\n",
       "      <th>4</th>\n",
       "      <td>4_no_shape.csv</td>\n",
       "      <td>4</td>\n",
       "      <td>Test_B_No_Shape</td>\n",
       "      <td>0.335401</td>\n",
       "    </tr>\n",
       "  </tbody>\n",
       "</table>\n",
       "</div>"
      ],
      "text/plain": [
       "             File  Id       Identifier     norms\n",
       "0  0_no_shape.csv   0  Test_B_No_Shape  0.140160\n",
       "1  1_no_shape.csv   1  Test_B_No_Shape  0.145259\n",
       "2  2_no_shape.csv   2  Test_B_No_Shape  0.145699\n",
       "3  3_no_shape.csv   3  Test_B_No_Shape  0.280974\n",
       "4  4_no_shape.csv   4  Test_B_No_Shape  0.335401"
      ]
     },
     "execution_count": 12,
     "metadata": {},
     "output_type": "execute_result"
    }
   ],
   "source": [
    "#read 1-norms for TestSetB\n",
    "inputdirectory=r\"C:/Users/Logan Rose/Downloads/RNA-project-main/RNA-project-main/hom1/\"\n",
    "inputfile='Norms_TestB.csv'\n",
    "plTestSetB1=pd.read_csv(inputdirectory+inputfile,names=['File','Id','Identifier','norms'], header=None, skiprows=1)\n",
    "plTestSetB1.head()"
   ]
  },
  {
   "cell_type": "code",
   "execution_count": 13,
   "metadata": {},
   "outputs": [
    {
     "data": {
      "text/plain": [
       "(424, 4)"
      ]
     },
     "execution_count": 13,
     "metadata": {},
     "output_type": "execute_result"
    }
   ],
   "source": [
    "plTestSetB0.shape"
   ]
  },
  {
   "cell_type": "code",
   "execution_count": 14,
   "metadata": {},
   "outputs": [
    {
     "data": {
      "text/html": [
       "<div>\n",
       "<style scoped>\n",
       "    .dataframe tbody tr th:only-of-type {\n",
       "        vertical-align: middle;\n",
       "    }\n",
       "\n",
       "    .dataframe tbody tr th {\n",
       "        vertical-align: top;\n",
       "    }\n",
       "\n",
       "    .dataframe thead th {\n",
       "        text-align: right;\n",
       "    }\n",
       "</style>\n",
       "<table border=\"1\" class=\"dataframe\">\n",
       "  <thead>\n",
       "    <tr style=\"text-align: right;\">\n",
       "      <th></th>\n",
       "      <th>File</th>\n",
       "      <th>Id</th>\n",
       "      <th>Identifier</th>\n",
       "      <th>norms</th>\n",
       "    </tr>\n",
       "  </thead>\n",
       "  <tbody>\n",
       "    <tr>\n",
       "      <th>0</th>\n",
       "      <td>0_with_shape.csv</td>\n",
       "      <td>0</td>\n",
       "      <td>Test_B_With_Shape</td>\n",
       "      <td>64.646707</td>\n",
       "    </tr>\n",
       "    <tr>\n",
       "      <th>1</th>\n",
       "      <td>1_with_shape.csv</td>\n",
       "      <td>1</td>\n",
       "      <td>Test_B_With_Shape</td>\n",
       "      <td>64.714740</td>\n",
       "    </tr>\n",
       "    <tr>\n",
       "      <th>2</th>\n",
       "      <td>2_with_shape.csv</td>\n",
       "      <td>2</td>\n",
       "      <td>Test_B_With_Shape</td>\n",
       "      <td>64.654629</td>\n",
       "    </tr>\n",
       "    <tr>\n",
       "      <th>3</th>\n",
       "      <td>3_with_shape.csv</td>\n",
       "      <td>3</td>\n",
       "      <td>Test_B_With_Shape</td>\n",
       "      <td>64.648546</td>\n",
       "    </tr>\n",
       "    <tr>\n",
       "      <th>4</th>\n",
       "      <td>4_with_shape.csv</td>\n",
       "      <td>4</td>\n",
       "      <td>Test_B_With_Shape</td>\n",
       "      <td>64.647578</td>\n",
       "    </tr>\n",
       "  </tbody>\n",
       "</table>\n",
       "</div>"
      ],
      "text/plain": [
       "               File  Id         Identifier      norms\n",
       "0  0_with_shape.csv   0  Test_B_With_Shape  64.646707\n",
       "1  1_with_shape.csv   1  Test_B_With_Shape  64.714740\n",
       "2  2_with_shape.csv   2  Test_B_With_Shape  64.654629\n",
       "3  3_with_shape.csv   3  Test_B_With_Shape  64.648546\n",
       "4  4_with_shape.csv   4  Test_B_With_Shape  64.647578"
      ]
     },
     "execution_count": 14,
     "metadata": {},
     "output_type": "execute_result"
    }
   ],
   "source": [
    "#read 0-norms (with SHAPE) for TestSetB\n",
    "inputdirectory=r\"C:/Users/Logan Rose/Downloads/RNA-project-main/RNA-project-main/hom0/\"\n",
    "inputfile='Norms_TestBS.csv'\n",
    "plTestSetBShape0=pd.read_csv(inputdirectory+inputfile,names=['File','Id','Identifier','norms'], header=None, skiprows=1)\n",
    "plTestSetBShape0.head()"
   ]
  },
  {
   "cell_type": "code",
   "execution_count": 15,
   "metadata": {},
   "outputs": [
    {
     "data": {
      "text/html": [
       "<div>\n",
       "<style scoped>\n",
       "    .dataframe tbody tr th:only-of-type {\n",
       "        vertical-align: middle;\n",
       "    }\n",
       "\n",
       "    .dataframe tbody tr th {\n",
       "        vertical-align: top;\n",
       "    }\n",
       "\n",
       "    .dataframe thead th {\n",
       "        text-align: right;\n",
       "    }\n",
       "</style>\n",
       "<table border=\"1\" class=\"dataframe\">\n",
       "  <thead>\n",
       "    <tr style=\"text-align: right;\">\n",
       "      <th></th>\n",
       "      <th>File</th>\n",
       "      <th>Id</th>\n",
       "      <th>Identifier</th>\n",
       "      <th>norms</th>\n",
       "    </tr>\n",
       "  </thead>\n",
       "  <tbody>\n",
       "    <tr>\n",
       "      <th>0</th>\n",
       "      <td>0_with_shape.csv</td>\n",
       "      <td>0</td>\n",
       "      <td>Test_B_With_Shape</td>\n",
       "      <td>0.003335</td>\n",
       "    </tr>\n",
       "    <tr>\n",
       "      <th>1</th>\n",
       "      <td>1_with_shape.csv</td>\n",
       "      <td>1</td>\n",
       "      <td>Test_B_With_Shape</td>\n",
       "      <td>0.000376</td>\n",
       "    </tr>\n",
       "    <tr>\n",
       "      <th>2</th>\n",
       "      <td>2_with_shape.csv</td>\n",
       "      <td>2</td>\n",
       "      <td>Test_B_With_Shape</td>\n",
       "      <td>0.000039</td>\n",
       "    </tr>\n",
       "    <tr>\n",
       "      <th>3</th>\n",
       "      <td>3_with_shape.csv</td>\n",
       "      <td>3</td>\n",
       "      <td>Test_B_With_Shape</td>\n",
       "      <td>0.024962</td>\n",
       "    </tr>\n",
       "    <tr>\n",
       "      <th>4</th>\n",
       "      <td>4_with_shape.csv</td>\n",
       "      <td>4</td>\n",
       "      <td>Test_B_With_Shape</td>\n",
       "      <td>0.000778</td>\n",
       "    </tr>\n",
       "  </tbody>\n",
       "</table>\n",
       "</div>"
      ],
      "text/plain": [
       "               File  Id         Identifier     norms\n",
       "0  0_with_shape.csv   0  Test_B_With_Shape  0.003335\n",
       "1  1_with_shape.csv   1  Test_B_With_Shape  0.000376\n",
       "2  2_with_shape.csv   2  Test_B_With_Shape  0.000039\n",
       "3  3_with_shape.csv   3  Test_B_With_Shape  0.024962\n",
       "4  4_with_shape.csv   4  Test_B_With_Shape  0.000778"
      ]
     },
     "execution_count": 15,
     "metadata": {},
     "output_type": "execute_result"
    }
   ],
   "source": [
    "#Read 1-norms (with SHAPE) for TestSetB\n",
    "inputdirectory=r\"C:/Users/Logan Rose/Downloads/RNA-project-main/RNA-project-main/hom1/\"\n",
    "inputfile='Norms_TestBS.csv'\n",
    "plTestSetBShape1=pd.read_csv(inputdirectory+inputfile,names=['File','Id','Identifier','norms'], header=None, skiprows=1)\n",
    "plTestSetBShape1.head()"
   ]
  },
  {
   "cell_type": "code",
   "execution_count": 16,
   "metadata": {},
   "outputs": [
    {
     "data": {
      "text/plain": [
       "(424, 4)"
      ]
     },
     "execution_count": 16,
     "metadata": {},
     "output_type": "execute_result"
    }
   ],
   "source": [
    "plTestSetBShape1.shape"
   ]
  },
  {
   "cell_type": "code",
   "execution_count": 17,
   "metadata": {},
   "outputs": [
    {
     "data": {
      "text/html": [
       "<div>\n",
       "<style scoped>\n",
       "    .dataframe tbody tr th:only-of-type {\n",
       "        vertical-align: middle;\n",
       "    }\n",
       "\n",
       "    .dataframe tbody tr th {\n",
       "        vertical-align: top;\n",
       "    }\n",
       "\n",
       "    .dataframe thead th {\n",
       "        text-align: right;\n",
       "    }\n",
       "</style>\n",
       "<table border=\"1\" class=\"dataframe\">\n",
       "  <thead>\n",
       "    <tr style=\"text-align: right;\">\n",
       "      <th></th>\n",
       "      <th>File</th>\n",
       "      <th>Id</th>\n",
       "      <th>Identifier</th>\n",
       "      <th>norms</th>\n",
       "    </tr>\n",
       "  </thead>\n",
       "  <tbody>\n",
       "    <tr>\n",
       "      <th>0</th>\n",
       "      <td>0_no_shape.csv</td>\n",
       "      <td>0</td>\n",
       "      <td>Train_B_No_Shape</td>\n",
       "      <td>64.669061</td>\n",
       "    </tr>\n",
       "    <tr>\n",
       "      <th>1</th>\n",
       "      <td>1_no_shape.csv</td>\n",
       "      <td>1</td>\n",
       "      <td>Train_B_No_Shape</td>\n",
       "      <td>64.649767</td>\n",
       "    </tr>\n",
       "    <tr>\n",
       "      <th>2</th>\n",
       "      <td>2_no_shape.csv</td>\n",
       "      <td>2</td>\n",
       "      <td>Train_B_No_Shape</td>\n",
       "      <td>64.662980</td>\n",
       "    </tr>\n",
       "    <tr>\n",
       "      <th>3</th>\n",
       "      <td>3_no_shape.csv</td>\n",
       "      <td>3</td>\n",
       "      <td>Train_B_No_Shape</td>\n",
       "      <td>64.646815</td>\n",
       "    </tr>\n",
       "    <tr>\n",
       "      <th>4</th>\n",
       "      <td>4_no_shape.csv</td>\n",
       "      <td>4</td>\n",
       "      <td>Train_B_No_Shape</td>\n",
       "      <td>64.649489</td>\n",
       "    </tr>\n",
       "  </tbody>\n",
       "</table>\n",
       "</div>"
      ],
      "text/plain": [
       "             File  Id        Identifier      norms\n",
       "0  0_no_shape.csv   0  Train_B_No_Shape  64.669061\n",
       "1  1_no_shape.csv   1  Train_B_No_Shape  64.649767\n",
       "2  2_no_shape.csv   2  Train_B_No_Shape  64.662980\n",
       "3  3_no_shape.csv   3  Train_B_No_Shape  64.646815\n",
       "4  4_no_shape.csv   4  Train_B_No_Shape  64.649489"
      ]
     },
     "execution_count": 17,
     "metadata": {},
     "output_type": "execute_result"
    }
   ],
   "source": [
    "#read 0-Norms for TrainSetB\n",
    "inputdirectory=r\"C:/Users/Logan Rose/Downloads/RNA-project-main/RNA-project-main/hom0/\"\n",
    "inputfile='Norms_TrainB.csv'\n",
    "plTrainSetB0=pd.read_csv(inputdirectory+inputfile,names=['File','Id','Identifier','norms'], header=None, skiprows=1)\n",
    "plTrainSetB0.head()"
   ]
  },
  {
   "cell_type": "code",
   "execution_count": 18,
   "metadata": {},
   "outputs": [
    {
     "data": {
      "text/html": [
       "<div>\n",
       "<style scoped>\n",
       "    .dataframe tbody tr th:only-of-type {\n",
       "        vertical-align: middle;\n",
       "    }\n",
       "\n",
       "    .dataframe tbody tr th {\n",
       "        vertical-align: top;\n",
       "    }\n",
       "\n",
       "    .dataframe thead th {\n",
       "        text-align: right;\n",
       "    }\n",
       "</style>\n",
       "<table border=\"1\" class=\"dataframe\">\n",
       "  <thead>\n",
       "    <tr style=\"text-align: right;\">\n",
       "      <th></th>\n",
       "      <th>File</th>\n",
       "      <th>Id</th>\n",
       "      <th>Identifier</th>\n",
       "      <th>norms</th>\n",
       "    </tr>\n",
       "  </thead>\n",
       "  <tbody>\n",
       "    <tr>\n",
       "      <th>0</th>\n",
       "      <td>0_no_shape.csv</td>\n",
       "      <td>0</td>\n",
       "      <td>Train_B_No_Shape</td>\n",
       "      <td>0.005278</td>\n",
       "    </tr>\n",
       "    <tr>\n",
       "      <th>1</th>\n",
       "      <td>1_no_shape.csv</td>\n",
       "      <td>1</td>\n",
       "      <td>Train_B_No_Shape</td>\n",
       "      <td>0.000223</td>\n",
       "    </tr>\n",
       "    <tr>\n",
       "      <th>2</th>\n",
       "      <td>2_no_shape.csv</td>\n",
       "      <td>2</td>\n",
       "      <td>Train_B_No_Shape</td>\n",
       "      <td>0.000871</td>\n",
       "    </tr>\n",
       "    <tr>\n",
       "      <th>3</th>\n",
       "      <td>3_no_shape.csv</td>\n",
       "      <td>3</td>\n",
       "      <td>Train_B_No_Shape</td>\n",
       "      <td>0.005095</td>\n",
       "    </tr>\n",
       "    <tr>\n",
       "      <th>4</th>\n",
       "      <td>4_no_shape.csv</td>\n",
       "      <td>4</td>\n",
       "      <td>Train_B_No_Shape</td>\n",
       "      <td>0.001268</td>\n",
       "    </tr>\n",
       "  </tbody>\n",
       "</table>\n",
       "</div>"
      ],
      "text/plain": [
       "             File  Id        Identifier     norms\n",
       "0  0_no_shape.csv   0  Train_B_No_Shape  0.005278\n",
       "1  1_no_shape.csv   1  Train_B_No_Shape  0.000223\n",
       "2  2_no_shape.csv   2  Train_B_No_Shape  0.000871\n",
       "3  3_no_shape.csv   3  Train_B_No_Shape  0.005095\n",
       "4  4_no_shape.csv   4  Train_B_No_Shape  0.001268"
      ]
     },
     "execution_count": 18,
     "metadata": {},
     "output_type": "execute_result"
    }
   ],
   "source": [
    "#read 1-Norms for TrainSetB\n",
    "inputdirectory=r\"C:/Users/Logan Rose/Downloads/RNA-project-main/RNA-project-main/hom1/\"\n",
    "inputfile='Norms_TrainB.csv'\n",
    "plTrainSetB1=pd.read_csv(inputdirectory+inputfile,names=['File','Id','Identifier','norms'], header=None, skiprows=1)\n",
    "plTrainSetB1.head()"
   ]
  },
  {
   "cell_type": "code",
   "execution_count": 19,
   "metadata": {},
   "outputs": [
    {
     "data": {
      "text/plain": [
       "(1030, 4)"
      ]
     },
     "execution_count": 19,
     "metadata": {},
     "output_type": "execute_result"
    }
   ],
   "source": [
    "plTrainSetB0.shape"
   ]
  },
  {
   "cell_type": "code",
   "execution_count": 20,
   "metadata": {},
   "outputs": [
    {
     "data": {
      "text/html": [
       "<div>\n",
       "<style scoped>\n",
       "    .dataframe tbody tr th:only-of-type {\n",
       "        vertical-align: middle;\n",
       "    }\n",
       "\n",
       "    .dataframe tbody tr th {\n",
       "        vertical-align: top;\n",
       "    }\n",
       "\n",
       "    .dataframe thead th {\n",
       "        text-align: right;\n",
       "    }\n",
       "</style>\n",
       "<table border=\"1\" class=\"dataframe\">\n",
       "  <thead>\n",
       "    <tr style=\"text-align: right;\">\n",
       "      <th></th>\n",
       "      <th>File</th>\n",
       "      <th>Id</th>\n",
       "      <th>Identifier</th>\n",
       "      <th>norms</th>\n",
       "    </tr>\n",
       "  </thead>\n",
       "  <tbody>\n",
       "    <tr>\n",
       "      <th>0</th>\n",
       "      <td>0_with_shape.csv</td>\n",
       "      <td>0</td>\n",
       "      <td>Train_B_With_Shape33</td>\n",
       "      <td>64.651964</td>\n",
       "    </tr>\n",
       "    <tr>\n",
       "      <th>1</th>\n",
       "      <td>1_with_shape.csv</td>\n",
       "      <td>1</td>\n",
       "      <td>Train_B_With_Shape33</td>\n",
       "      <td>64.656615</td>\n",
       "    </tr>\n",
       "    <tr>\n",
       "      <th>2</th>\n",
       "      <td>2_with_shape.csv</td>\n",
       "      <td>2</td>\n",
       "      <td>Train_B_With_Shape33</td>\n",
       "      <td>64.649820</td>\n",
       "    </tr>\n",
       "    <tr>\n",
       "      <th>3</th>\n",
       "      <td>3_with_shape.csv</td>\n",
       "      <td>3</td>\n",
       "      <td>Train_B_With_Shape33</td>\n",
       "      <td>64.648000</td>\n",
       "    </tr>\n",
       "    <tr>\n",
       "      <th>4</th>\n",
       "      <td>4_with_shape.csv</td>\n",
       "      <td>4</td>\n",
       "      <td>Train_B_With_Shape33</td>\n",
       "      <td>64.647274</td>\n",
       "    </tr>\n",
       "  </tbody>\n",
       "</table>\n",
       "</div>"
      ],
      "text/plain": [
       "               File  Id            Identifier      norms\n",
       "0  0_with_shape.csv   0  Train_B_With_Shape33  64.651964\n",
       "1  1_with_shape.csv   1  Train_B_With_Shape33  64.656615\n",
       "2  2_with_shape.csv   2  Train_B_With_Shape33  64.649820\n",
       "3  3_with_shape.csv   3  Train_B_With_Shape33  64.648000\n",
       "4  4_with_shape.csv   4  Train_B_With_Shape33  64.647274"
      ]
     },
     "execution_count": 20,
     "metadata": {},
     "output_type": "execute_result"
    }
   ],
   "source": [
    "#read 0-Norms (with SHAPE) for TrainSetB\n",
    "inputdirectory=r\"C:/Users/Logan Rose/Downloads/RNA-project-main/RNA-project-main/hom0/\"\n",
    "inputfile='Norms_TrainBS.csv'\n",
    "plTrainSetBShape0=pd.read_csv(inputdirectory+inputfile,names=['File','Id','Identifier','norms'], header=None, skiprows=1)\n",
    "plTrainSetBShape0.head()"
   ]
  },
  {
   "cell_type": "code",
   "execution_count": 21,
   "metadata": {},
   "outputs": [
    {
     "data": {
      "text/html": [
       "<div>\n",
       "<style scoped>\n",
       "    .dataframe tbody tr th:only-of-type {\n",
       "        vertical-align: middle;\n",
       "    }\n",
       "\n",
       "    .dataframe tbody tr th {\n",
       "        vertical-align: top;\n",
       "    }\n",
       "\n",
       "    .dataframe thead th {\n",
       "        text-align: right;\n",
       "    }\n",
       "</style>\n",
       "<table border=\"1\" class=\"dataframe\">\n",
       "  <thead>\n",
       "    <tr style=\"text-align: right;\">\n",
       "      <th></th>\n",
       "      <th>File</th>\n",
       "      <th>Id</th>\n",
       "      <th>Identifier</th>\n",
       "      <th>norms</th>\n",
       "    </tr>\n",
       "  </thead>\n",
       "  <tbody>\n",
       "    <tr>\n",
       "      <th>0</th>\n",
       "      <td>0_with_shape.csv</td>\n",
       "      <td>0</td>\n",
       "      <td>Train_B_With_Shape33</td>\n",
       "      <td>0.000000</td>\n",
       "    </tr>\n",
       "    <tr>\n",
       "      <th>1</th>\n",
       "      <td>1_with_shape.csv</td>\n",
       "      <td>1</td>\n",
       "      <td>Train_B_With_Shape33</td>\n",
       "      <td>0.001162</td>\n",
       "    </tr>\n",
       "    <tr>\n",
       "      <th>2</th>\n",
       "      <td>2_with_shape.csv</td>\n",
       "      <td>2</td>\n",
       "      <td>Train_B_With_Shape33</td>\n",
       "      <td>0.000325</td>\n",
       "    </tr>\n",
       "    <tr>\n",
       "      <th>3</th>\n",
       "      <td>3_with_shape.csv</td>\n",
       "      <td>3</td>\n",
       "      <td>Train_B_With_Shape33</td>\n",
       "      <td>0.002846</td>\n",
       "    </tr>\n",
       "    <tr>\n",
       "      <th>4</th>\n",
       "      <td>4_with_shape.csv</td>\n",
       "      <td>4</td>\n",
       "      <td>Train_B_With_Shape33</td>\n",
       "      <td>0.003622</td>\n",
       "    </tr>\n",
       "  </tbody>\n",
       "</table>\n",
       "</div>"
      ],
      "text/plain": [
       "               File  Id            Identifier     norms\n",
       "0  0_with_shape.csv   0  Train_B_With_Shape33  0.000000\n",
       "1  1_with_shape.csv   1  Train_B_With_Shape33  0.001162\n",
       "2  2_with_shape.csv   2  Train_B_With_Shape33  0.000325\n",
       "3  3_with_shape.csv   3  Train_B_With_Shape33  0.002846\n",
       "4  4_with_shape.csv   4  Train_B_With_Shape33  0.003622"
      ]
     },
     "execution_count": 21,
     "metadata": {},
     "output_type": "execute_result"
    }
   ],
   "source": [
    "#read 1-Norms (with SHAPE) for TrainSetB\n",
    "inputdirectory=r\"C:/Users/Logan Rose/Downloads/RNA-project-main/RNA-project-main/hom1/\"\n",
    "inputfile='Norms_TrainBS.csv'\n",
    "plTrainSetBShape1=pd.read_csv(inputdirectory+inputfile,names=['File','Id','Identifier','norms'], header=None, skiprows=1)\n",
    "plTrainSetBShape1.head()"
   ]
  },
  {
   "cell_type": "code",
   "execution_count": 22,
   "metadata": {},
   "outputs": [
    {
     "data": {
      "text/plain": [
       "(1030, 4)"
      ]
     },
     "execution_count": 22,
     "metadata": {},
     "output_type": "execute_result"
    }
   ],
   "source": [
    "plTrainSetBShape0.shape"
   ]
  },
  {
   "cell_type": "code",
   "execution_count": 23,
   "metadata": {},
   "outputs": [],
   "source": [
    "#index files in dictionary then create dataframe from dict\n",
    "#to match indexes from Matt's data\n",
    "#puts all of the features in the training set in one dict\n",
    "match_train = {}\n",
    "k=0\n",
    "for i in range(plTrainSetB0.shape[0]):#loops through seqs with norms\n",
    "    for j in range(df.shape[0]): #loops thru sequences with similarites\n",
    "        if (plTrainSetB0.iloc[i,1]==df.iloc[j,0]): #matches norms and similarities\n",
    "            match_train[k] =[df.iloc[j,0],df.iloc[j,1],df.iloc[j,2],df.iloc[j,3],df.iloc[j,4],df1.iloc[j,1],df1.iloc[j,2],plTrainSetB0.iloc[i,3],plTrainSetB1.iloc[i,3],plTrainSetBShape0.iloc[i,3],plTrainSetBShape1.iloc[i,3]]\n",
    "            k=k+1\n"
   ]
  },
  {
   "cell_type": "code",
   "execution_count": 25,
   "metadata": {},
   "outputs": [
    {
     "name": "stdout",
     "output_type": "stream",
     "text": [
      "1030\n"
     ]
    }
   ],
   "source": [
    "print(k)"
   ]
  },
  {
   "cell_type": "code",
   "execution_count": 26,
   "metadata": {},
   "outputs": [],
   "source": [
    "#convert to dataframe\n",
    "X_train=pd.DataFrame.from_dict(match_train, orient='index', columns=['Id','Similarity','Variance','Acc MFE','Acc SHAPE','Similarity SHAPE33','Variance SHAPE33','PL norm0','PL norm1','PL norm0 SHAPE','PL norm1 SHAPE'])"
   ]
  },
  {
   "cell_type": "code",
   "execution_count": 27,
   "metadata": {},
   "outputs": [
    {
     "data": {
      "text/html": [
       "<div>\n",
       "<style scoped>\n",
       "    .dataframe tbody tr th:only-of-type {\n",
       "        vertical-align: middle;\n",
       "    }\n",
       "\n",
       "    .dataframe tbody tr th {\n",
       "        vertical-align: top;\n",
       "    }\n",
       "\n",
       "    .dataframe thead th {\n",
       "        text-align: right;\n",
       "    }\n",
       "</style>\n",
       "<table border=\"1\" class=\"dataframe\">\n",
       "  <thead>\n",
       "    <tr style=\"text-align: right;\">\n",
       "      <th></th>\n",
       "      <th>Id</th>\n",
       "      <th>Similarity</th>\n",
       "      <th>Variance</th>\n",
       "      <th>Acc MFE</th>\n",
       "      <th>Acc SHAPE</th>\n",
       "      <th>Similarity SHAPE33</th>\n",
       "      <th>Variance SHAPE33</th>\n",
       "      <th>PL norm0</th>\n",
       "      <th>PL norm1</th>\n",
       "      <th>PL norm0 SHAPE</th>\n",
       "      <th>PL norm1 SHAPE</th>\n",
       "    </tr>\n",
       "  </thead>\n",
       "  <tbody>\n",
       "    <tr>\n",
       "      <th>0</th>\n",
       "      <td>0</td>\n",
       "      <td>57.951651</td>\n",
       "      <td>692.158185</td>\n",
       "      <td>23.4</td>\n",
       "      <td>63.0</td>\n",
       "      <td>50.240048</td>\n",
       "      <td>86.747493</td>\n",
       "      <td>64.669061</td>\n",
       "      <td>0.005278</td>\n",
       "      <td>64.651964</td>\n",
       "      <td>0.000000</td>\n",
       "    </tr>\n",
       "    <tr>\n",
       "      <th>1</th>\n",
       "      <td>1</td>\n",
       "      <td>37.627688</td>\n",
       "      <td>370.143742</td>\n",
       "      <td>6.6</td>\n",
       "      <td>72.1</td>\n",
       "      <td>47.660746</td>\n",
       "      <td>26.887352</td>\n",
       "      <td>64.649767</td>\n",
       "      <td>0.000223</td>\n",
       "      <td>64.656615</td>\n",
       "      <td>0.001162</td>\n",
       "    </tr>\n",
       "    <tr>\n",
       "      <th>2</th>\n",
       "      <td>2</td>\n",
       "      <td>75.272133</td>\n",
       "      <td>300.378489</td>\n",
       "      <td>31.9</td>\n",
       "      <td>68.8</td>\n",
       "      <td>53.763597</td>\n",
       "      <td>67.334734</td>\n",
       "      <td>64.662980</td>\n",
       "      <td>0.000871</td>\n",
       "      <td>64.649820</td>\n",
       "      <td>0.000325</td>\n",
       "    </tr>\n",
       "    <tr>\n",
       "      <th>3</th>\n",
       "      <td>3</td>\n",
       "      <td>45.569388</td>\n",
       "      <td>115.620528</td>\n",
       "      <td>14.4</td>\n",
       "      <td>80.0</td>\n",
       "      <td>34.870981</td>\n",
       "      <td>69.634158</td>\n",
       "      <td>64.646815</td>\n",
       "      <td>0.005095</td>\n",
       "      <td>64.648000</td>\n",
       "      <td>0.002846</td>\n",
       "    </tr>\n",
       "    <tr>\n",
       "      <th>4</th>\n",
       "      <td>4</td>\n",
       "      <td>87.567179</td>\n",
       "      <td>338.506930</td>\n",
       "      <td>25.2</td>\n",
       "      <td>78.4</td>\n",
       "      <td>52.831890</td>\n",
       "      <td>88.601832</td>\n",
       "      <td>64.649489</td>\n",
       "      <td>0.001268</td>\n",
       "      <td>64.647274</td>\n",
       "      <td>0.003622</td>\n",
       "    </tr>\n",
       "  </tbody>\n",
       "</table>\n",
       "</div>"
      ],
      "text/plain": [
       "   Id  Similarity    Variance  Acc MFE  Acc SHAPE  Similarity SHAPE33  \\\n",
       "0   0   57.951651  692.158185     23.4       63.0           50.240048   \n",
       "1   1   37.627688  370.143742      6.6       72.1           47.660746   \n",
       "2   2   75.272133  300.378489     31.9       68.8           53.763597   \n",
       "3   3   45.569388  115.620528     14.4       80.0           34.870981   \n",
       "4   4   87.567179  338.506930     25.2       78.4           52.831890   \n",
       "\n",
       "   Variance SHAPE33   PL norm0  PL norm1  PL norm0 SHAPE  PL norm1 SHAPE  \n",
       "0         86.747493  64.669061  0.005278       64.651964        0.000000  \n",
       "1         26.887352  64.649767  0.000223       64.656615        0.001162  \n",
       "2         67.334734  64.662980  0.000871       64.649820        0.000325  \n",
       "3         69.634158  64.646815  0.005095       64.648000        0.002846  \n",
       "4         88.601832  64.649489  0.001268       64.647274        0.003622  "
      ]
     },
     "execution_count": 27,
     "metadata": {},
     "output_type": "execute_result"
    }
   ],
   "source": [
    "X_train.head()"
   ]
  },
  {
   "cell_type": "code",
   "execution_count": 28,
   "metadata": {},
   "outputs": [
    {
     "data": {
      "text/plain": [
       "(1030, 11)"
      ]
     },
     "execution_count": 28,
     "metadata": {},
     "output_type": "execute_result"
    }
   ],
   "source": [
    "X_train.shape"
   ]
  },
  {
   "cell_type": "code",
   "execution_count": 29,
   "metadata": {},
   "outputs": [],
   "source": [
    "#directability threshold\n",
    "th=30"
   ]
  },
  {
   "cell_type": "code",
   "execution_count": 30,
   "metadata": {},
   "outputs": [],
   "source": [
    "#Classify based on accuracy (binary); separate training set into WP and NWP sequences\n",
    "#train_wp = {} #create empty dict to add WP sequences\n",
    "#train_nwp = {} create empty dict to add NWP sequences\n",
    "#k=0 #number of WP seqs\n",
    "#h=0 #number of NWP seqs\n",
    "#for i in range(X_train.shape[0]):\n",
    "    #if (X_train.iloc[i,3])>th: #if accuracy is above a set threshold\n",
    "        #train_wp[k] = [X_train.iloc[i,0],1] #seq is WP; label is 1; add to dict\n",
    "        #k=k+1\n",
    "    #else:\n",
    "        #train_nwp[h] = [X_train.iloc[i,0],0] #seq is NWP; label is 0; add to dict\n",
    "        #h=h+1\n",
    "#When classifying directability, comment this block of code out"
   ]
  },
  {
   "cell_type": "code",
   "execution_count": 31,
   "metadata": {},
   "outputs": [],
   "source": [
    "#For directability\n",
    "#splits training set into directable (dir) and non-directable (nd) sequences\n",
    "train_wp = {} #dictionary to store directable (DIR) sequences\n",
    "train_nwp = {} #dictionary to store non-directable (ND) sequences\n",
    "k=0 #count number of dir seqs; initialize as 0\n",
    "h=0 #count the number of nd seqs; initialize as 0\n",
    "for i in range(X_train.shape[0]):\n",
    "    if (X_train.iloc[i,4]-X_train.iloc[i,3])>th: #if accuracy_with_SHAPE-accuracy> some threshold\n",
    "        train_wp[k] = [X_train.iloc[i,0],1] #seq is directable; label is 1; add to dict\n",
    "        k=k+1 #add to count\n",
    "    else:\n",
    "        train_nwp[h] = [X_train.iloc[i,0],0] #seq is ND; label is 0; add to dict\n",
    "        h=h+1\n",
    "#When classifying accuracy, comment this block of code out"
   ]
  },
  {
   "cell_type": "code",
   "execution_count": 32,
   "metadata": {},
   "outputs": [
    {
     "name": "stdout",
     "output_type": "stream",
     "text": [
      "326\n"
     ]
    }
   ],
   "source": [
    "print(k) "
   ]
  },
  {
   "cell_type": "code",
   "execution_count": 33,
   "metadata": {},
   "outputs": [
    {
     "name": "stdout",
     "output_type": "stream",
     "text": [
      "704\n"
     ]
    }
   ],
   "source": [
    "print(h)"
   ]
  },
  {
   "cell_type": "code",
   "execution_count": 34,
   "metadata": {},
   "outputs": [],
   "source": [
    "#When classifying accuracy, comment this block of code out\n",
    "train_wp=pd.DataFrame.from_dict(train_wp, orient='index', columns=['Id','Labels']) "
   ]
  },
  {
   "cell_type": "code",
   "execution_count": 35,
   "metadata": {},
   "outputs": [],
   "source": [
    "#convert to dataframe with two columns: ID and Label (label should be 0)\n",
    "train_nwp=pd.DataFrame.from_dict(train_nwp, orient='index', columns=['Id','Labels'])"
   ]
  },
  {
   "cell_type": "code",
   "execution_count": 36,
   "metadata": {},
   "outputs": [
    {
     "data": {
      "text/plain": [
       "(326, 2)"
      ]
     },
     "execution_count": 36,
     "metadata": {},
     "output_type": "execute_result"
    }
   ],
   "source": [
    "train_wp.shape"
   ]
  },
  {
   "cell_type": "code",
   "execution_count": 37,
   "metadata": {},
   "outputs": [
    {
     "data": {
      "text/plain": [
       "(704, 2)"
      ]
     },
     "execution_count": 37,
     "metadata": {},
     "output_type": "execute_result"
    }
   ],
   "source": [
    "train_nwp.shape"
   ]
  },
  {
   "cell_type": "code",
   "execution_count": 38,
   "metadata": {},
   "outputs": [],
   "source": [
    "#now we balance the training sets to have an equal number of WP and NWP sequences (or an equal number of DIR and ND seqs)\n",
    "#take the set (either train_WP or train_NWP) with a lower number of h and k"
   ]
  },
  {
   "cell_type": "code",
   "execution_count": 39,
   "metadata": {},
   "outputs": [],
   "source": [
    "##make the number of WP seqs (or DIR) equal to the number of NWP (ND); use when there are more WP seqs\n",
    "##comment this block out otherwise\n",
    "#train_wp1=train_wp.iloc[:min(k,h),:]"
   ]
  },
  {
   "cell_type": "code",
   "execution_count": 40,
   "metadata": {},
   "outputs": [],
   "source": [
    "#make the number of NWP seqs (or ND) equal to the number of WP (DIR); use when there are more NWP seqs\n",
    "#comment out otherwise\n",
    "train_nwp1=train_nwp.iloc[:min(k,h),:]"
   ]
  },
  {
   "cell_type": "code",
   "execution_count": 41,
   "metadata": {},
   "outputs": [],
   "source": [
    "##balance training set to have equal WP and NWP seqs; use when more WP seqs initially\n",
    "##comment out otherwise\n",
    "#train_frames= [train_wp1,train_nwp]"
   ]
  },
  {
   "cell_type": "code",
   "execution_count": 42,
   "metadata": {},
   "outputs": [],
   "source": [
    "#balance training set to have equal WP and NWP seqs; use when more NWP seqs initially\n",
    "#comment this block out otherwise\n",
    "train_frames = [train_wp, train_nwp1]"
   ]
  },
  {
   "cell_type": "code",
   "execution_count": 43,
   "metadata": {},
   "outputs": [],
   "source": [
    "train_balanced = pd.concat(train_frames) #convert to dataframe"
   ]
  },
  {
   "cell_type": "code",
   "execution_count": 44,
   "metadata": {},
   "outputs": [],
   "source": [
    "train_balanced['Id']=train_balanced['Id'].astype('Int64') #convert IDs to int type"
   ]
  },
  {
   "cell_type": "code",
   "execution_count": 45,
   "metadata": {},
   "outputs": [
    {
     "data": {
      "text/plain": [
       "<bound method NDFrame.head of       Id  Labels\n",
       "0      0       1\n",
       "1      1       1\n",
       "2      2       1\n",
       "3      3       1\n",
       "4      4       1\n",
       "..   ...     ...\n",
       "321  574       0\n",
       "322  575       0\n",
       "323  576       0\n",
       "324  577       0\n",
       "325  578       0\n",
       "\n",
       "[652 rows x 2 columns]>"
      ]
     },
     "execution_count": 45,
     "metadata": {},
     "output_type": "execute_result"
    }
   ],
   "source": [
    "train_balanced.head"
   ]
  },
  {
   "cell_type": "code",
   "execution_count": 46,
   "metadata": {},
   "outputs": [],
   "source": [
    "y_train=train_balanced.iloc[:,1].values #store the labels of the training set"
   ]
  },
  {
   "cell_type": "code",
   "execution_count": 47,
   "metadata": {},
   "outputs": [],
   "source": [
    "X_train=X_train.loc[X_train['Id'].isin(train_balanced.iloc[:,0]),:]#balanced set"
   ]
  },
  {
   "cell_type": "code",
   "execution_count": 48,
   "metadata": {},
   "outputs": [
    {
     "data": {
      "text/html": [
       "<div>\n",
       "<style scoped>\n",
       "    .dataframe tbody tr th:only-of-type {\n",
       "        vertical-align: middle;\n",
       "    }\n",
       "\n",
       "    .dataframe tbody tr th {\n",
       "        vertical-align: top;\n",
       "    }\n",
       "\n",
       "    .dataframe thead th {\n",
       "        text-align: right;\n",
       "    }\n",
       "</style>\n",
       "<table border=\"1\" class=\"dataframe\">\n",
       "  <thead>\n",
       "    <tr style=\"text-align: right;\">\n",
       "      <th></th>\n",
       "      <th>Id</th>\n",
       "      <th>Similarity</th>\n",
       "      <th>Variance</th>\n",
       "      <th>Acc MFE</th>\n",
       "      <th>Acc SHAPE</th>\n",
       "      <th>Similarity SHAPE33</th>\n",
       "      <th>Variance SHAPE33</th>\n",
       "      <th>PL norm0</th>\n",
       "      <th>PL norm1</th>\n",
       "      <th>PL norm0 SHAPE</th>\n",
       "      <th>PL norm1 SHAPE</th>\n",
       "    </tr>\n",
       "  </thead>\n",
       "  <tbody>\n",
       "    <tr>\n",
       "      <th>0</th>\n",
       "      <td>0</td>\n",
       "      <td>57.951651</td>\n",
       "      <td>692.158185</td>\n",
       "      <td>23.4</td>\n",
       "      <td>63.0</td>\n",
       "      <td>50.240048</td>\n",
       "      <td>86.747493</td>\n",
       "      <td>64.669061</td>\n",
       "      <td>0.005278</td>\n",
       "      <td>64.651964</td>\n",
       "      <td>0.000000</td>\n",
       "    </tr>\n",
       "    <tr>\n",
       "      <th>1</th>\n",
       "      <td>1</td>\n",
       "      <td>37.627688</td>\n",
       "      <td>370.143742</td>\n",
       "      <td>6.6</td>\n",
       "      <td>72.1</td>\n",
       "      <td>47.660746</td>\n",
       "      <td>26.887352</td>\n",
       "      <td>64.649767</td>\n",
       "      <td>0.000223</td>\n",
       "      <td>64.656615</td>\n",
       "      <td>0.001162</td>\n",
       "    </tr>\n",
       "    <tr>\n",
       "      <th>2</th>\n",
       "      <td>2</td>\n",
       "      <td>75.272133</td>\n",
       "      <td>300.378489</td>\n",
       "      <td>31.9</td>\n",
       "      <td>68.8</td>\n",
       "      <td>53.763597</td>\n",
       "      <td>67.334734</td>\n",
       "      <td>64.662980</td>\n",
       "      <td>0.000871</td>\n",
       "      <td>64.649820</td>\n",
       "      <td>0.000325</td>\n",
       "    </tr>\n",
       "    <tr>\n",
       "      <th>3</th>\n",
       "      <td>3</td>\n",
       "      <td>45.569388</td>\n",
       "      <td>115.620528</td>\n",
       "      <td>14.4</td>\n",
       "      <td>80.0</td>\n",
       "      <td>34.870981</td>\n",
       "      <td>69.634158</td>\n",
       "      <td>64.646815</td>\n",
       "      <td>0.005095</td>\n",
       "      <td>64.648000</td>\n",
       "      <td>0.002846</td>\n",
       "    </tr>\n",
       "    <tr>\n",
       "      <th>4</th>\n",
       "      <td>4</td>\n",
       "      <td>87.567179</td>\n",
       "      <td>338.506930</td>\n",
       "      <td>25.2</td>\n",
       "      <td>78.4</td>\n",
       "      <td>52.831890</td>\n",
       "      <td>88.601832</td>\n",
       "      <td>64.649489</td>\n",
       "      <td>0.001268</td>\n",
       "      <td>64.647274</td>\n",
       "      <td>0.003622</td>\n",
       "    </tr>\n",
       "  </tbody>\n",
       "</table>\n",
       "</div>"
      ],
      "text/plain": [
       "   Id  Similarity    Variance  Acc MFE  Acc SHAPE  Similarity SHAPE33  \\\n",
       "0   0   57.951651  692.158185     23.4       63.0           50.240048   \n",
       "1   1   37.627688  370.143742      6.6       72.1           47.660746   \n",
       "2   2   75.272133  300.378489     31.9       68.8           53.763597   \n",
       "3   3   45.569388  115.620528     14.4       80.0           34.870981   \n",
       "4   4   87.567179  338.506930     25.2       78.4           52.831890   \n",
       "\n",
       "   Variance SHAPE33   PL norm0  PL norm1  PL norm0 SHAPE  PL norm1 SHAPE  \n",
       "0         86.747493  64.669061  0.005278       64.651964        0.000000  \n",
       "1         26.887352  64.649767  0.000223       64.656615        0.001162  \n",
       "2         67.334734  64.662980  0.000871       64.649820        0.000325  \n",
       "3         69.634158  64.646815  0.005095       64.648000        0.002846  \n",
       "4         88.601832  64.649489  0.001268       64.647274        0.003622  "
      ]
     },
     "execution_count": 48,
     "metadata": {},
     "output_type": "execute_result"
    }
   ],
   "source": [
    "X_train.head()"
   ]
  },
  {
   "cell_type": "code",
   "execution_count": 49,
   "metadata": {},
   "outputs": [
    {
     "data": {
      "text/html": [
       "<div>\n",
       "<style scoped>\n",
       "    .dataframe tbody tr th:only-of-type {\n",
       "        vertical-align: middle;\n",
       "    }\n",
       "\n",
       "    .dataframe tbody tr th {\n",
       "        vertical-align: top;\n",
       "    }\n",
       "\n",
       "    .dataframe thead th {\n",
       "        text-align: right;\n",
       "    }\n",
       "</style>\n",
       "<table border=\"1\" class=\"dataframe\">\n",
       "  <thead>\n",
       "    <tr style=\"text-align: right;\">\n",
       "      <th></th>\n",
       "      <th>Similarity</th>\n",
       "      <th>Variance</th>\n",
       "      <th>Similarity SHAPE33</th>\n",
       "      <th>Variance SHAPE33</th>\n",
       "      <th>PL norm0</th>\n",
       "      <th>PL norm1</th>\n",
       "      <th>PL norm0 SHAPE</th>\n",
       "      <th>PL norm1 SHAPE</th>\n",
       "    </tr>\n",
       "  </thead>\n",
       "  <tbody>\n",
       "    <tr>\n",
       "      <th>0</th>\n",
       "      <td>57.951651</td>\n",
       "      <td>692.158185</td>\n",
       "      <td>50.240048</td>\n",
       "      <td>86.747493</td>\n",
       "      <td>64.669061</td>\n",
       "      <td>0.005278</td>\n",
       "      <td>64.651964</td>\n",
       "      <td>0.000000</td>\n",
       "    </tr>\n",
       "    <tr>\n",
       "      <th>1</th>\n",
       "      <td>37.627688</td>\n",
       "      <td>370.143742</td>\n",
       "      <td>47.660746</td>\n",
       "      <td>26.887352</td>\n",
       "      <td>64.649767</td>\n",
       "      <td>0.000223</td>\n",
       "      <td>64.656615</td>\n",
       "      <td>0.001162</td>\n",
       "    </tr>\n",
       "    <tr>\n",
       "      <th>2</th>\n",
       "      <td>75.272133</td>\n",
       "      <td>300.378489</td>\n",
       "      <td>53.763597</td>\n",
       "      <td>67.334734</td>\n",
       "      <td>64.662980</td>\n",
       "      <td>0.000871</td>\n",
       "      <td>64.649820</td>\n",
       "      <td>0.000325</td>\n",
       "    </tr>\n",
       "    <tr>\n",
       "      <th>3</th>\n",
       "      <td>45.569388</td>\n",
       "      <td>115.620528</td>\n",
       "      <td>34.870981</td>\n",
       "      <td>69.634158</td>\n",
       "      <td>64.646815</td>\n",
       "      <td>0.005095</td>\n",
       "      <td>64.648000</td>\n",
       "      <td>0.002846</td>\n",
       "    </tr>\n",
       "    <tr>\n",
       "      <th>4</th>\n",
       "      <td>87.567179</td>\n",
       "      <td>338.506930</td>\n",
       "      <td>52.831890</td>\n",
       "      <td>88.601832</td>\n",
       "      <td>64.649489</td>\n",
       "      <td>0.001268</td>\n",
       "      <td>64.647274</td>\n",
       "      <td>0.003622</td>\n",
       "    </tr>\n",
       "  </tbody>\n",
       "</table>\n",
       "</div>"
      ],
      "text/plain": [
       "   Similarity    Variance  Similarity SHAPE33  Variance SHAPE33   PL norm0  \\\n",
       "0   57.951651  692.158185           50.240048         86.747493  64.669061   \n",
       "1   37.627688  370.143742           47.660746         26.887352  64.649767   \n",
       "2   75.272133  300.378489           53.763597         67.334734  64.662980   \n",
       "3   45.569388  115.620528           34.870981         69.634158  64.646815   \n",
       "4   87.567179  338.506930           52.831890         88.601832  64.649489   \n",
       "\n",
       "   PL norm1  PL norm0 SHAPE  PL norm1 SHAPE  \n",
       "0  0.005278       64.651964        0.000000  \n",
       "1  0.000223       64.656615        0.001162  \n",
       "2  0.000871       64.649820        0.000325  \n",
       "3  0.005095       64.648000        0.002846  \n",
       "4  0.001268       64.647274        0.003622  "
      ]
     },
     "execution_count": 49,
     "metadata": {},
     "output_type": "execute_result"
    }
   ],
   "source": [
    "#make it so the Training set only contains the 8 similarity/var and topological features\n",
    "X_train=X_train.drop(columns=['Id','Acc MFE','Acc SHAPE'])\n",
    "X_train.head()"
   ]
  },
  {
   "cell_type": "code",
   "execution_count": 50,
   "metadata": {},
   "outputs": [
    {
     "data": {
      "text/plain": [
       "(652, 8)"
      ]
     },
     "execution_count": 50,
     "metadata": {},
     "output_type": "execute_result"
    }
   ],
   "source": [
    "X_train.shape"
   ]
  },
  {
   "cell_type": "code",
   "execution_count": 51,
   "metadata": {},
   "outputs": [
    {
     "data": {
      "text/plain": [
       "False"
      ]
     },
     "execution_count": 51,
     "metadata": {},
     "output_type": "execute_result"
    }
   ],
   "source": [
    "X_train.isnull().values.any()"
   ]
  },
  {
   "cell_type": "code",
   "execution_count": 52,
   "metadata": {},
   "outputs": [],
   "source": [
    "##Option to remove the 4 similarity/variance features\n",
    "#X_train=X_train.drop(columns=['PL norm0','PL norm0 SHAPE','PL norm1','PL norm1 SHAPE'])"
   ]
  },
  {
   "cell_type": "code",
   "execution_count": 53,
   "metadata": {},
   "outputs": [],
   "source": [
    "##Option to remove the 4 topological features\n",
    "#X_train=X_train.drop(columns=['Similarity','Variance','Similarity SHAPE33','Variance SHAPE33'])"
   ]
  },
  {
   "cell_type": "code",
   "execution_count": 54,
   "metadata": {},
   "outputs": [
    {
     "data": {
      "text/html": [
       "<div>\n",
       "<style scoped>\n",
       "    .dataframe tbody tr th:only-of-type {\n",
       "        vertical-align: middle;\n",
       "    }\n",
       "\n",
       "    .dataframe tbody tr th {\n",
       "        vertical-align: top;\n",
       "    }\n",
       "\n",
       "    .dataframe thead th {\n",
       "        text-align: right;\n",
       "    }\n",
       "</style>\n",
       "<table border=\"1\" class=\"dataframe\">\n",
       "  <thead>\n",
       "    <tr style=\"text-align: right;\">\n",
       "      <th></th>\n",
       "      <th>Similarity</th>\n",
       "      <th>Variance</th>\n",
       "      <th>Similarity SHAPE33</th>\n",
       "      <th>Variance SHAPE33</th>\n",
       "      <th>PL norm0</th>\n",
       "      <th>PL norm1</th>\n",
       "      <th>PL norm0 SHAPE</th>\n",
       "      <th>PL norm1 SHAPE</th>\n",
       "    </tr>\n",
       "  </thead>\n",
       "  <tbody>\n",
       "    <tr>\n",
       "      <th>0</th>\n",
       "      <td>57.951651</td>\n",
       "      <td>692.158185</td>\n",
       "      <td>50.240048</td>\n",
       "      <td>86.747493</td>\n",
       "      <td>64.669061</td>\n",
       "      <td>0.005278</td>\n",
       "      <td>64.651964</td>\n",
       "      <td>0.000000</td>\n",
       "    </tr>\n",
       "    <tr>\n",
       "      <th>1</th>\n",
       "      <td>37.627688</td>\n",
       "      <td>370.143742</td>\n",
       "      <td>47.660746</td>\n",
       "      <td>26.887352</td>\n",
       "      <td>64.649767</td>\n",
       "      <td>0.000223</td>\n",
       "      <td>64.656615</td>\n",
       "      <td>0.001162</td>\n",
       "    </tr>\n",
       "    <tr>\n",
       "      <th>2</th>\n",
       "      <td>75.272133</td>\n",
       "      <td>300.378489</td>\n",
       "      <td>53.763597</td>\n",
       "      <td>67.334734</td>\n",
       "      <td>64.662980</td>\n",
       "      <td>0.000871</td>\n",
       "      <td>64.649820</td>\n",
       "      <td>0.000325</td>\n",
       "    </tr>\n",
       "    <tr>\n",
       "      <th>3</th>\n",
       "      <td>45.569388</td>\n",
       "      <td>115.620528</td>\n",
       "      <td>34.870981</td>\n",
       "      <td>69.634158</td>\n",
       "      <td>64.646815</td>\n",
       "      <td>0.005095</td>\n",
       "      <td>64.648000</td>\n",
       "      <td>0.002846</td>\n",
       "    </tr>\n",
       "    <tr>\n",
       "      <th>4</th>\n",
       "      <td>87.567179</td>\n",
       "      <td>338.506930</td>\n",
       "      <td>52.831890</td>\n",
       "      <td>88.601832</td>\n",
       "      <td>64.649489</td>\n",
       "      <td>0.001268</td>\n",
       "      <td>64.647274</td>\n",
       "      <td>0.003622</td>\n",
       "    </tr>\n",
       "  </tbody>\n",
       "</table>\n",
       "</div>"
      ],
      "text/plain": [
       "   Similarity    Variance  Similarity SHAPE33  Variance SHAPE33   PL norm0  \\\n",
       "0   57.951651  692.158185           50.240048         86.747493  64.669061   \n",
       "1   37.627688  370.143742           47.660746         26.887352  64.649767   \n",
       "2   75.272133  300.378489           53.763597         67.334734  64.662980   \n",
       "3   45.569388  115.620528           34.870981         69.634158  64.646815   \n",
       "4   87.567179  338.506930           52.831890         88.601832  64.649489   \n",
       "\n",
       "   PL norm1  PL norm0 SHAPE  PL norm1 SHAPE  \n",
       "0  0.005278       64.651964        0.000000  \n",
       "1  0.000223       64.656615        0.001162  \n",
       "2  0.000871       64.649820        0.000325  \n",
       "3  0.005095       64.648000        0.002846  \n",
       "4  0.001268       64.647274        0.003622  "
      ]
     },
     "execution_count": 54,
     "metadata": {},
     "output_type": "execute_result"
    }
   ],
   "source": [
    "X_train.head()"
   ]
  },
  {
   "cell_type": "code",
   "execution_count": 55,
   "metadata": {},
   "outputs": [],
   "source": [
    "#for test set\n",
    "#to match indexes from Matt's data\n",
    "#puts all of the features in the training set in one dict\n",
    "#same process as match train, but for the test sets\n",
    "match_test = {}\n",
    "k=0\n",
    "for i in range(plTestSetB0.shape[0]):\n",
    "    for j in range(df3.shape[0]):\n",
    "        if (plTestSetB0.iloc[i,1]==df3.iloc[j,0]):\n",
    "            #match_test[k] =[df3.iloc[j,0],df3.iloc[j,1],df3.iloc[j,2],df3.iloc[j,3],df3.iloc[j,4],df3.iloc[j,5],df4.iloc[j,2],df4.iloc[j,3],plTestSetA.iloc[i,4],plTestSetAShape.iloc[i,4]]\n",
    "            match_test[k] =[df3.iloc[j,0],df3.iloc[j,1],df3.iloc[j,2],df3.iloc[j,3],df3.iloc[j,4],df4.iloc[j,1],df4.iloc[j,2],plTestSetB0.iloc[i,3],plTestSetB1.iloc[i,3],plTestSetBShape0.iloc[i,3],plTestSetBShape1.iloc[i,3]]\n",
    "            k=k+1\n"
   ]
  },
  {
   "cell_type": "code",
   "execution_count": 56,
   "metadata": {},
   "outputs": [
    {
     "name": "stdout",
     "output_type": "stream",
     "text": [
      "424\n"
     ]
    }
   ],
   "source": [
    "print(k)"
   ]
  },
  {
   "cell_type": "code",
   "execution_count": 57,
   "metadata": {},
   "outputs": [],
   "source": [
    "#convert to dataframe\n",
    "X_test=pd.DataFrame.from_dict(match_test, orient='index', columns=['Id','Similarity','Variance','Acc MFE','Acc SHAPE','Similarity SHAPE33','Variance SHAPE33','PL norm0','PL norm1','PL norm0 SHAPE','PL norm1 SHAPE'])"
   ]
  },
  {
   "cell_type": "code",
   "execution_count": 58,
   "metadata": {},
   "outputs": [
    {
     "data": {
      "text/html": [
       "<div>\n",
       "<style scoped>\n",
       "    .dataframe tbody tr th:only-of-type {\n",
       "        vertical-align: middle;\n",
       "    }\n",
       "\n",
       "    .dataframe tbody tr th {\n",
       "        vertical-align: top;\n",
       "    }\n",
       "\n",
       "    .dataframe thead th {\n",
       "        text-align: right;\n",
       "    }\n",
       "</style>\n",
       "<table border=\"1\" class=\"dataframe\">\n",
       "  <thead>\n",
       "    <tr style=\"text-align: right;\">\n",
       "      <th></th>\n",
       "      <th>Id</th>\n",
       "      <th>Similarity</th>\n",
       "      <th>Variance</th>\n",
       "      <th>Acc MFE</th>\n",
       "      <th>Acc SHAPE</th>\n",
       "      <th>Similarity SHAPE33</th>\n",
       "      <th>Variance SHAPE33</th>\n",
       "      <th>PL norm0</th>\n",
       "      <th>PL norm1</th>\n",
       "      <th>PL norm0 SHAPE</th>\n",
       "      <th>PL norm1 SHAPE</th>\n",
       "    </tr>\n",
       "  </thead>\n",
       "  <tbody>\n",
       "    <tr>\n",
       "      <th>419</th>\n",
       "      <td>425</td>\n",
       "      <td>89.500969</td>\n",
       "      <td>81.271478</td>\n",
       "      <td>57.3</td>\n",
       "      <td>95.0</td>\n",
       "      <td>93.943472</td>\n",
       "      <td>13.789537</td>\n",
       "      <td>65.159721</td>\n",
       "      <td>0.697200</td>\n",
       "      <td>64.737028</td>\n",
       "      <td>0.000000</td>\n",
       "    </tr>\n",
       "    <tr>\n",
       "      <th>420</th>\n",
       "      <td>426</td>\n",
       "      <td>70.748538</td>\n",
       "      <td>394.514415</td>\n",
       "      <td>35.0</td>\n",
       "      <td>81.8</td>\n",
       "      <td>90.580964</td>\n",
       "      <td>44.559121</td>\n",
       "      <td>64.932667</td>\n",
       "      <td>0.474893</td>\n",
       "      <td>64.658787</td>\n",
       "      <td>0.000193</td>\n",
       "    </tr>\n",
       "    <tr>\n",
       "      <th>421</th>\n",
       "      <td>427</td>\n",
       "      <td>55.854213</td>\n",
       "      <td>630.282729</td>\n",
       "      <td>62.9</td>\n",
       "      <td>97.7</td>\n",
       "      <td>96.373200</td>\n",
       "      <td>82.130563</td>\n",
       "      <td>65.153114</td>\n",
       "      <td>0.108781</td>\n",
       "      <td>65.151873</td>\n",
       "      <td>0.001767</td>\n",
       "    </tr>\n",
       "    <tr>\n",
       "      <th>422</th>\n",
       "      <td>428</td>\n",
       "      <td>98.921090</td>\n",
       "      <td>9.917563</td>\n",
       "      <td>62.3</td>\n",
       "      <td>95.5</td>\n",
       "      <td>83.079421</td>\n",
       "      <td>304.662217</td>\n",
       "      <td>65.762078</td>\n",
       "      <td>1.232238</td>\n",
       "      <td>64.906062</td>\n",
       "      <td>0.000000</td>\n",
       "    </tr>\n",
       "    <tr>\n",
       "      <th>423</th>\n",
       "      <td>429</td>\n",
       "      <td>95.447635</td>\n",
       "      <td>23.827262</td>\n",
       "      <td>74.5</td>\n",
       "      <td>97.6</td>\n",
       "      <td>98.318606</td>\n",
       "      <td>9.830611</td>\n",
       "      <td>65.643822</td>\n",
       "      <td>1.641188</td>\n",
       "      <td>64.926436</td>\n",
       "      <td>0.000000</td>\n",
       "    </tr>\n",
       "  </tbody>\n",
       "</table>\n",
       "</div>"
      ],
      "text/plain": [
       "      Id  Similarity    Variance  Acc MFE  Acc SHAPE  Similarity SHAPE33  \\\n",
       "419  425   89.500969   81.271478     57.3       95.0           93.943472   \n",
       "420  426   70.748538  394.514415     35.0       81.8           90.580964   \n",
       "421  427   55.854213  630.282729     62.9       97.7           96.373200   \n",
       "422  428   98.921090    9.917563     62.3       95.5           83.079421   \n",
       "423  429   95.447635   23.827262     74.5       97.6           98.318606   \n",
       "\n",
       "     Variance SHAPE33   PL norm0  PL norm1  PL norm0 SHAPE  PL norm1 SHAPE  \n",
       "419         13.789537  65.159721  0.697200       64.737028        0.000000  \n",
       "420         44.559121  64.932667  0.474893       64.658787        0.000193  \n",
       "421         82.130563  65.153114  0.108781       65.151873        0.001767  \n",
       "422        304.662217  65.762078  1.232238       64.906062        0.000000  \n",
       "423          9.830611  65.643822  1.641188       64.926436        0.000000  "
      ]
     },
     "execution_count": 58,
     "metadata": {},
     "output_type": "execute_result"
    }
   ],
   "source": [
    "X_test.tail()"
   ]
  },
  {
   "cell_type": "code",
   "execution_count": 59,
   "metadata": {},
   "outputs": [
    {
     "data": {
      "text/plain": [
       "(424, 11)"
      ]
     },
     "execution_count": 59,
     "metadata": {},
     "output_type": "execute_result"
    }
   ],
   "source": [
    "X_test.shape"
   ]
  },
  {
   "cell_type": "code",
   "execution_count": 60,
   "metadata": {},
   "outputs": [],
   "source": [
    "## test for accuracy (binary)\n",
    "##split test set into WP and NWP sequences\n",
    "#test_wp = {} #empty dict to add WP sequences\n",
    "#test_nwp = {} #empty dict to add WP sequences\n",
    "#k=0 #count number of WP seqs; initialize as 0\n",
    "#h=0 #number of NWP seqs; initialize as 0\n",
    "#for i in range(X_test.shape[0]):\n",
    "    #if (X_test.iloc[i,3])>th: #if acc is above the threshold:\n",
    "        #test_wp[k] = [X_test.iloc[i,0], 1] #seq is WP; add to dict; label is 1\n",
    "        #k=k+1\n",
    "    #else:\n",
    "        #test_nwp[h] = [X_test.iloc[i,0], 0] #seq is NWP; add to dict; label is 0\n",
    "        #h=h+1\n",
    "##Comment this block of code out when testing for directability"
   ]
  },
  {
   "cell_type": "code",
   "execution_count": 61,
   "metadata": {},
   "outputs": [],
   "source": [
    "#Directability\n",
    "#split seq into directble (dir) and non-directable (ND) seqs\n",
    "test_wp = {} #empty dict to add DIR sequences\n",
    "test_nwp = {} #empty dict to add ND sequences\n",
    "k=0 #count the number of DIR seqs; initialize counter as 0\n",
    "h=0 #count the number of ND seqs; initialize counter as 0\n",
    "for i in range(X_test.shape[0]):\n",
    "    if (X_test.iloc[i,4]-X_test.iloc[i,3])>th:#if acc_after_shape-acc>threshold\n",
    "        test_wp[k] = [X_test.iloc[i,0], 1] #seq is dir; add to dict; label is 1\n",
    "        k=k+1 #increment count\n",
    "    else: #if acc_after_shape-acc<=threshold\n",
    "        test_nwp[h] = [X_test.iloc[i,0], 0] #seq is ND; add to dict; label is 0\n",
    "        h=h+1\n",
    "#Comment this block of code out when testing for accuracy"
   ]
  },
  {
   "cell_type": "code",
   "execution_count": 62,
   "metadata": {},
   "outputs": [
    {
     "name": "stdout",
     "output_type": "stream",
     "text": [
      "208\n"
     ]
    }
   ],
   "source": [
    "print(k)"
   ]
  },
  {
   "cell_type": "code",
   "execution_count": 63,
   "metadata": {},
   "outputs": [
    {
     "name": "stdout",
     "output_type": "stream",
     "text": [
      "216\n"
     ]
    }
   ],
   "source": [
    "print(h)"
   ]
  },
  {
   "cell_type": "code",
   "execution_count": 64,
   "metadata": {},
   "outputs": [],
   "source": [
    "test_wp=pd.DataFrame.from_dict(test_wp, orient='index', columns=['Id','Labels']) #convert dict to df"
   ]
  },
  {
   "cell_type": "code",
   "execution_count": 65,
   "metadata": {},
   "outputs": [],
   "source": [
    "test_nwp=pd.DataFrame.from_dict(test_nwp, orient='index', columns=['Id','Labels'])"
   ]
  },
  {
   "cell_type": "code",
   "execution_count": 66,
   "metadata": {},
   "outputs": [
    {
     "data": {
      "text/plain": [
       "(208, 2)"
      ]
     },
     "execution_count": 66,
     "metadata": {},
     "output_type": "execute_result"
    }
   ],
   "source": [
    "test_wp.shape"
   ]
  },
  {
   "cell_type": "code",
   "execution_count": 67,
   "metadata": {},
   "outputs": [
    {
     "data": {
      "text/plain": [
       "(216, 2)"
      ]
     },
     "execution_count": 67,
     "metadata": {},
     "output_type": "execute_result"
    }
   ],
   "source": [
    "test_nwp.shape"
   ]
  },
  {
   "cell_type": "code",
   "execution_count": 68,
   "metadata": {},
   "outputs": [],
   "source": [
    "##make the number of WP seqs (or DIR) equal to the number of NWP (ND); use when there are more WP seqs\n",
    "##otherwise comment out\n",
    "#test_wp1=test_wp.iloc[:min(h,k),:]"
   ]
  },
  {
   "cell_type": "code",
   "execution_count": 69,
   "metadata": {},
   "outputs": [],
   "source": [
    "#make the number of NWP seqs (or ND) equal to the number of WP (DIR); use when there are more NWP seqs\n",
    "#otherwise comment this block out\n",
    "test_nwp1=test_nwp.iloc[:min(h,k),:]"
   ]
  },
  {
   "cell_type": "code",
   "execution_count": 70,
   "metadata": {},
   "outputs": [],
   "source": [
    "##balance test set to have equal WP and NWP seqs; use when more WP seqs in test set\n",
    "##otherwise, comment this block of code out\n",
    "#test_frames = [test_wp1, test_nwp]"
   ]
  },
  {
   "cell_type": "code",
   "execution_count": 71,
   "metadata": {},
   "outputs": [],
   "source": [
    "##balance test set; use when there are more NWP seqs\n",
    "##otherwise, comment this block of code out\n",
    "test_frames = [test_wp, test_nwp1]"
   ]
  },
  {
   "cell_type": "code",
   "execution_count": 72,
   "metadata": {},
   "outputs": [],
   "source": [
    "test_balanced = pd.concat(test_frames) #convert to df"
   ]
  },
  {
   "cell_type": "code",
   "execution_count": 73,
   "metadata": {},
   "outputs": [],
   "source": [
    "test_balanced['Id']=test_balanced['Id'].astype('Int64') #convert IDs to int type"
   ]
  },
  {
   "cell_type": "code",
   "execution_count": 74,
   "metadata": {},
   "outputs": [
    {
     "data": {
      "text/plain": [
       "<bound method NDFrame.head of       Id  Labels\n",
       "0      0       1\n",
       "1      1       1\n",
       "2      3       1\n",
       "3      4       1\n",
       "4      5       1\n",
       "..   ...     ...\n",
       "203  406       0\n",
       "204  407       0\n",
       "205  408       0\n",
       "206  409       0\n",
       "207  411       0\n",
       "\n",
       "[416 rows x 2 columns]>"
      ]
     },
     "execution_count": 74,
     "metadata": {},
     "output_type": "execute_result"
    }
   ],
   "source": [
    "test_balanced.head"
   ]
  },
  {
   "cell_type": "code",
   "execution_count": 75,
   "metadata": {},
   "outputs": [],
   "source": [
    "y_test=test_balanced.iloc[:,1].values #store the labels of the test set (1 WP (or DIR) and 0 NWP (or ND)"
   ]
  },
  {
   "cell_type": "code",
   "execution_count": 76,
   "metadata": {},
   "outputs": [],
   "source": [
    "#update original test set (with features) to be balanced\n",
    "X_test=X_test.loc[X_test['Id'].isin(test_balanced.iloc[:,0]),:]"
   ]
  },
  {
   "cell_type": "code",
   "execution_count": 77,
   "metadata": {},
   "outputs": [
    {
     "data": {
      "text/html": [
       "<div>\n",
       "<style scoped>\n",
       "    .dataframe tbody tr th:only-of-type {\n",
       "        vertical-align: middle;\n",
       "    }\n",
       "\n",
       "    .dataframe tbody tr th {\n",
       "        vertical-align: top;\n",
       "    }\n",
       "\n",
       "    .dataframe thead th {\n",
       "        text-align: right;\n",
       "    }\n",
       "</style>\n",
       "<table border=\"1\" class=\"dataframe\">\n",
       "  <thead>\n",
       "    <tr style=\"text-align: right;\">\n",
       "      <th></th>\n",
       "      <th>Id</th>\n",
       "      <th>Similarity</th>\n",
       "      <th>Variance</th>\n",
       "      <th>Acc MFE</th>\n",
       "      <th>Acc SHAPE</th>\n",
       "      <th>Similarity SHAPE33</th>\n",
       "      <th>Variance SHAPE33</th>\n",
       "      <th>PL norm0</th>\n",
       "      <th>PL norm1</th>\n",
       "      <th>PL norm0 SHAPE</th>\n",
       "      <th>PL norm1 SHAPE</th>\n",
       "    </tr>\n",
       "  </thead>\n",
       "  <tbody>\n",
       "    <tr>\n",
       "      <th>0</th>\n",
       "      <td>0</td>\n",
       "      <td>85.206834</td>\n",
       "      <td>65.590910</td>\n",
       "      <td>28.7</td>\n",
       "      <td>81.2</td>\n",
       "      <td>47.835229</td>\n",
       "      <td>132.388877</td>\n",
       "      <td>65.637211</td>\n",
       "      <td>0.140160</td>\n",
       "      <td>64.646707</td>\n",
       "      <td>0.003335</td>\n",
       "    </tr>\n",
       "    <tr>\n",
       "      <th>1</th>\n",
       "      <td>1</td>\n",
       "      <td>41.586762</td>\n",
       "      <td>1493.297404</td>\n",
       "      <td>20.6</td>\n",
       "      <td>77.3</td>\n",
       "      <td>62.467397</td>\n",
       "      <td>675.506457</td>\n",
       "      <td>65.021130</td>\n",
       "      <td>0.145259</td>\n",
       "      <td>64.714740</td>\n",
       "      <td>0.000376</td>\n",
       "    </tr>\n",
       "    <tr>\n",
       "      <th>2</th>\n",
       "      <td>2</td>\n",
       "      <td>42.318602</td>\n",
       "      <td>571.386856</td>\n",
       "      <td>19.9</td>\n",
       "      <td>49.5</td>\n",
       "      <td>59.465509</td>\n",
       "      <td>10.712319</td>\n",
       "      <td>65.254635</td>\n",
       "      <td>0.145699</td>\n",
       "      <td>64.654629</td>\n",
       "      <td>0.000039</td>\n",
       "    </tr>\n",
       "    <tr>\n",
       "      <th>3</th>\n",
       "      <td>3</td>\n",
       "      <td>82.917642</td>\n",
       "      <td>177.482578</td>\n",
       "      <td>0.0</td>\n",
       "      <td>74.1</td>\n",
       "      <td>52.351392</td>\n",
       "      <td>78.650790</td>\n",
       "      <td>64.854884</td>\n",
       "      <td>0.280974</td>\n",
       "      <td>64.648546</td>\n",
       "      <td>0.024962</td>\n",
       "    </tr>\n",
       "    <tr>\n",
       "      <th>4</th>\n",
       "      <td>4</td>\n",
       "      <td>68.436426</td>\n",
       "      <td>654.509620</td>\n",
       "      <td>18.0</td>\n",
       "      <td>66.8</td>\n",
       "      <td>44.405405</td>\n",
       "      <td>209.770660</td>\n",
       "      <td>65.122592</td>\n",
       "      <td>0.335401</td>\n",
       "      <td>64.647578</td>\n",
       "      <td>0.000778</td>\n",
       "    </tr>\n",
       "  </tbody>\n",
       "</table>\n",
       "</div>"
      ],
      "text/plain": [
       "   Id  Similarity     Variance  Acc MFE  Acc SHAPE  Similarity SHAPE33  \\\n",
       "0   0   85.206834    65.590910     28.7       81.2           47.835229   \n",
       "1   1   41.586762  1493.297404     20.6       77.3           62.467397   \n",
       "2   2   42.318602   571.386856     19.9       49.5           59.465509   \n",
       "3   3   82.917642   177.482578      0.0       74.1           52.351392   \n",
       "4   4   68.436426   654.509620     18.0       66.8           44.405405   \n",
       "\n",
       "   Variance SHAPE33   PL norm0  PL norm1  PL norm0 SHAPE  PL norm1 SHAPE  \n",
       "0        132.388877  65.637211  0.140160       64.646707        0.003335  \n",
       "1        675.506457  65.021130  0.145259       64.714740        0.000376  \n",
       "2         10.712319  65.254635  0.145699       64.654629        0.000039  \n",
       "3         78.650790  64.854884  0.280974       64.648546        0.024962  \n",
       "4        209.770660  65.122592  0.335401       64.647578        0.000778  "
      ]
     },
     "execution_count": 77,
     "metadata": {},
     "output_type": "execute_result"
    }
   ],
   "source": [
    "X_test.head()"
   ]
  },
  {
   "cell_type": "code",
   "execution_count": 78,
   "metadata": {},
   "outputs": [],
   "source": [
    "#remove everything but the 8 features\n",
    "X_test=X_test.drop(columns=['Id','Acc MFE','Acc SHAPE'])"
   ]
  },
  {
   "cell_type": "code",
   "execution_count": 79,
   "metadata": {},
   "outputs": [
    {
     "data": {
      "text/html": [
       "<div>\n",
       "<style scoped>\n",
       "    .dataframe tbody tr th:only-of-type {\n",
       "        vertical-align: middle;\n",
       "    }\n",
       "\n",
       "    .dataframe tbody tr th {\n",
       "        vertical-align: top;\n",
       "    }\n",
       "\n",
       "    .dataframe thead th {\n",
       "        text-align: right;\n",
       "    }\n",
       "</style>\n",
       "<table border=\"1\" class=\"dataframe\">\n",
       "  <thead>\n",
       "    <tr style=\"text-align: right;\">\n",
       "      <th></th>\n",
       "      <th>Similarity</th>\n",
       "      <th>Variance</th>\n",
       "      <th>Similarity SHAPE33</th>\n",
       "      <th>Variance SHAPE33</th>\n",
       "      <th>PL norm0</th>\n",
       "      <th>PL norm1</th>\n",
       "      <th>PL norm0 SHAPE</th>\n",
       "      <th>PL norm1 SHAPE</th>\n",
       "    </tr>\n",
       "  </thead>\n",
       "  <tbody>\n",
       "    <tr>\n",
       "      <th>0</th>\n",
       "      <td>85.206834</td>\n",
       "      <td>65.590910</td>\n",
       "      <td>47.835229</td>\n",
       "      <td>132.388877</td>\n",
       "      <td>65.637211</td>\n",
       "      <td>0.140160</td>\n",
       "      <td>64.646707</td>\n",
       "      <td>0.003335</td>\n",
       "    </tr>\n",
       "    <tr>\n",
       "      <th>1</th>\n",
       "      <td>41.586762</td>\n",
       "      <td>1493.297404</td>\n",
       "      <td>62.467397</td>\n",
       "      <td>675.506457</td>\n",
       "      <td>65.021130</td>\n",
       "      <td>0.145259</td>\n",
       "      <td>64.714740</td>\n",
       "      <td>0.000376</td>\n",
       "    </tr>\n",
       "    <tr>\n",
       "      <th>2</th>\n",
       "      <td>42.318602</td>\n",
       "      <td>571.386856</td>\n",
       "      <td>59.465509</td>\n",
       "      <td>10.712319</td>\n",
       "      <td>65.254635</td>\n",
       "      <td>0.145699</td>\n",
       "      <td>64.654629</td>\n",
       "      <td>0.000039</td>\n",
       "    </tr>\n",
       "    <tr>\n",
       "      <th>3</th>\n",
       "      <td>82.917642</td>\n",
       "      <td>177.482578</td>\n",
       "      <td>52.351392</td>\n",
       "      <td>78.650790</td>\n",
       "      <td>64.854884</td>\n",
       "      <td>0.280974</td>\n",
       "      <td>64.648546</td>\n",
       "      <td>0.024962</td>\n",
       "    </tr>\n",
       "    <tr>\n",
       "      <th>4</th>\n",
       "      <td>68.436426</td>\n",
       "      <td>654.509620</td>\n",
       "      <td>44.405405</td>\n",
       "      <td>209.770660</td>\n",
       "      <td>65.122592</td>\n",
       "      <td>0.335401</td>\n",
       "      <td>64.647578</td>\n",
       "      <td>0.000778</td>\n",
       "    </tr>\n",
       "  </tbody>\n",
       "</table>\n",
       "</div>"
      ],
      "text/plain": [
       "   Similarity     Variance  Similarity SHAPE33  Variance SHAPE33   PL norm0  \\\n",
       "0   85.206834    65.590910           47.835229        132.388877  65.637211   \n",
       "1   41.586762  1493.297404           62.467397        675.506457  65.021130   \n",
       "2   42.318602   571.386856           59.465509         10.712319  65.254635   \n",
       "3   82.917642   177.482578           52.351392         78.650790  64.854884   \n",
       "4   68.436426   654.509620           44.405405        209.770660  65.122592   \n",
       "\n",
       "   PL norm1  PL norm0 SHAPE  PL norm1 SHAPE  \n",
       "0  0.140160       64.646707        0.003335  \n",
       "1  0.145259       64.714740        0.000376  \n",
       "2  0.145699       64.654629        0.000039  \n",
       "3  0.280974       64.648546        0.024962  \n",
       "4  0.335401       64.647578        0.000778  "
      ]
     },
     "execution_count": 79,
     "metadata": {},
     "output_type": "execute_result"
    }
   ],
   "source": [
    "X_test.head()"
   ]
  },
  {
   "cell_type": "code",
   "execution_count": 80,
   "metadata": {},
   "outputs": [
    {
     "data": {
      "text/plain": [
       "(416, 8)"
      ]
     },
     "execution_count": 80,
     "metadata": {},
     "output_type": "execute_result"
    }
   ],
   "source": [
    "X_test.shape"
   ]
  },
  {
   "cell_type": "code",
   "execution_count": 81,
   "metadata": {},
   "outputs": [
    {
     "data": {
      "text/plain": [
       "False"
      ]
     },
     "execution_count": 81,
     "metadata": {},
     "output_type": "execute_result"
    }
   ],
   "source": [
    "X_test.isnull().values.any()"
   ]
  },
  {
   "cell_type": "code",
   "execution_count": 82,
   "metadata": {},
   "outputs": [],
   "source": [
    "##option to remove the 4 similarity features\n",
    "#X_test=X_test.drop(columns=['PL norm0','PL norm0 SHAPE','PL norm1','PL norm1 SHAPE'])"
   ]
  },
  {
   "cell_type": "code",
   "execution_count": 83,
   "metadata": {},
   "outputs": [],
   "source": [
    "##option to remove the 4 topological data features\n",
    "#X_test=X_test.drop(columns=['Similarity','Variance','Similarity SHAPE33','Variance SHAPE33'])"
   ]
  },
  {
   "cell_type": "code",
   "execution_count": 84,
   "metadata": {},
   "outputs": [
    {
     "data": {
      "text/html": [
       "<div>\n",
       "<style scoped>\n",
       "    .dataframe tbody tr th:only-of-type {\n",
       "        vertical-align: middle;\n",
       "    }\n",
       "\n",
       "    .dataframe tbody tr th {\n",
       "        vertical-align: top;\n",
       "    }\n",
       "\n",
       "    .dataframe thead th {\n",
       "        text-align: right;\n",
       "    }\n",
       "</style>\n",
       "<table border=\"1\" class=\"dataframe\">\n",
       "  <thead>\n",
       "    <tr style=\"text-align: right;\">\n",
       "      <th></th>\n",
       "      <th>Similarity</th>\n",
       "      <th>Variance</th>\n",
       "      <th>Similarity SHAPE33</th>\n",
       "      <th>Variance SHAPE33</th>\n",
       "      <th>PL norm0</th>\n",
       "      <th>PL norm1</th>\n",
       "      <th>PL norm0 SHAPE</th>\n",
       "      <th>PL norm1 SHAPE</th>\n",
       "    </tr>\n",
       "  </thead>\n",
       "  <tbody>\n",
       "    <tr>\n",
       "      <th>0</th>\n",
       "      <td>85.206834</td>\n",
       "      <td>65.590910</td>\n",
       "      <td>47.835229</td>\n",
       "      <td>132.388877</td>\n",
       "      <td>65.637211</td>\n",
       "      <td>0.140160</td>\n",
       "      <td>64.646707</td>\n",
       "      <td>0.003335</td>\n",
       "    </tr>\n",
       "    <tr>\n",
       "      <th>1</th>\n",
       "      <td>41.586762</td>\n",
       "      <td>1493.297404</td>\n",
       "      <td>62.467397</td>\n",
       "      <td>675.506457</td>\n",
       "      <td>65.021130</td>\n",
       "      <td>0.145259</td>\n",
       "      <td>64.714740</td>\n",
       "      <td>0.000376</td>\n",
       "    </tr>\n",
       "    <tr>\n",
       "      <th>2</th>\n",
       "      <td>42.318602</td>\n",
       "      <td>571.386856</td>\n",
       "      <td>59.465509</td>\n",
       "      <td>10.712319</td>\n",
       "      <td>65.254635</td>\n",
       "      <td>0.145699</td>\n",
       "      <td>64.654629</td>\n",
       "      <td>0.000039</td>\n",
       "    </tr>\n",
       "    <tr>\n",
       "      <th>3</th>\n",
       "      <td>82.917642</td>\n",
       "      <td>177.482578</td>\n",
       "      <td>52.351392</td>\n",
       "      <td>78.650790</td>\n",
       "      <td>64.854884</td>\n",
       "      <td>0.280974</td>\n",
       "      <td>64.648546</td>\n",
       "      <td>0.024962</td>\n",
       "    </tr>\n",
       "    <tr>\n",
       "      <th>4</th>\n",
       "      <td>68.436426</td>\n",
       "      <td>654.509620</td>\n",
       "      <td>44.405405</td>\n",
       "      <td>209.770660</td>\n",
       "      <td>65.122592</td>\n",
       "      <td>0.335401</td>\n",
       "      <td>64.647578</td>\n",
       "      <td>0.000778</td>\n",
       "    </tr>\n",
       "  </tbody>\n",
       "</table>\n",
       "</div>"
      ],
      "text/plain": [
       "   Similarity     Variance  Similarity SHAPE33  Variance SHAPE33   PL norm0  \\\n",
       "0   85.206834    65.590910           47.835229        132.388877  65.637211   \n",
       "1   41.586762  1493.297404           62.467397        675.506457  65.021130   \n",
       "2   42.318602   571.386856           59.465509         10.712319  65.254635   \n",
       "3   82.917642   177.482578           52.351392         78.650790  64.854884   \n",
       "4   68.436426   654.509620           44.405405        209.770660  65.122592   \n",
       "\n",
       "   PL norm1  PL norm0 SHAPE  PL norm1 SHAPE  \n",
       "0  0.140160       64.646707        0.003335  \n",
       "1  0.145259       64.714740        0.000376  \n",
       "2  0.145699       64.654629        0.000039  \n",
       "3  0.280974       64.648546        0.024962  \n",
       "4  0.335401       64.647578        0.000778  "
      ]
     },
     "execution_count": 84,
     "metadata": {},
     "output_type": "execute_result"
    }
   ],
   "source": [
    "X_test.head()"
   ]
  },
  {
   "cell_type": "code",
   "execution_count": 85,
   "metadata": {},
   "outputs": [],
   "source": [
    "#X_test.head()"
   ]
  },
  {
   "cell_type": "code",
   "execution_count": 86,
   "metadata": {},
   "outputs": [
    {
     "data": {
      "text/plain": [
       "0.6634615384615384"
      ]
     },
     "execution_count": 86,
     "metadata": {},
     "output_type": "execute_result"
    }
   ],
   "source": [
    "#testing on balanced test set\n",
    "from sklearn.ensemble import RandomForestClassifier\n",
    "\n",
    "clf1 = RandomForestClassifier(max_depth=10, random_state=0, n_estimators=1000)\n",
    "clf1.fit(X_train, y_train)\n",
    "clf1.score(X_test, y_test)"
   ]
  },
  {
   "cell_type": "code",
   "execution_count": 87,
   "metadata": {},
   "outputs": [
    {
     "name": "stdout",
     "output_type": "stream",
     "text": [
      "[0.0858712  0.08776225 0.22491817 0.09697334 0.13449561 0.06061717\n",
      " 0.23245787 0.07690439]\n"
     ]
    }
   ],
   "source": [
    "#gives us the feature importances\n",
    "feature_importances = clf1.feature_importances_\n",
    "print(feature_importances)"
   ]
  },
  {
   "cell_type": "code",
   "execution_count": 88,
   "metadata": {},
   "outputs": [
    {
     "data": {
      "text/plain": [
       "(652, 8)"
      ]
     },
     "execution_count": 88,
     "metadata": {},
     "output_type": "execute_result"
    }
   ],
   "source": [
    "#size of training set\n",
    "X_train.shape"
   ]
  },
  {
   "cell_type": "code",
   "execution_count": 89,
   "metadata": {},
   "outputs": [
    {
     "data": {
      "text/plain": [
       "(416, 8)"
      ]
     },
     "execution_count": 89,
     "metadata": {},
     "output_type": "execute_result"
    }
   ],
   "source": [
    "#size of test set\n",
    "X_test.shape"
   ]
  }
 ],
 "metadata": {
  "kernelspec": {
   "display_name": "Python 3",
   "language": "python",
   "name": "python3"
  },
  "language_info": {
   "codemirror_mode": {
    "name": "ipython",
    "version": 3
   },
   "file_extension": ".py",
   "mimetype": "text/x-python",
   "name": "python",
   "nbconvert_exporter": "python",
   "pygments_lexer": "ipython3",
   "version": "3.8.3"
  }
 },
 "nbformat": 4,
 "nbformat_minor": 5
}
