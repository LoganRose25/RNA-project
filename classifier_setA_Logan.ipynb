{
 "cells": [
  {
   "cell_type": "code",
   "execution_count": 2,
   "metadata": {},
   "outputs": [],
   "source": [
    "import pandas as pd\n",
    "import numpy as np"
   ]
  },
  {
   "cell_type": "code",
   "execution_count": 5,
   "metadata": {},
   "outputs": [
    {
     "data": {
      "text/html": [
       "<div>\n",
       "<style scoped>\n",
       "    .dataframe tbody tr th:only-of-type {\n",
       "        vertical-align: middle;\n",
       "    }\n",
       "\n",
       "    .dataframe tbody tr th {\n",
       "        vertical-align: top;\n",
       "    }\n",
       "\n",
       "    .dataframe thead th {\n",
       "        text-align: right;\n",
       "    }\n",
       "</style>\n",
       "<table border=\"1\" class=\"dataframe\">\n",
       "  <thead>\n",
       "    <tr style=\"text-align: right;\">\n",
       "      <th></th>\n",
       "      <th>Id</th>\n",
       "      <th>Similarity</th>\n",
       "      <th>Variance</th>\n",
       "      <th>Acc MFE</th>\n",
       "      <th>Acc SHAPE</th>\n",
       "    </tr>\n",
       "  </thead>\n",
       "  <tbody>\n",
       "    <tr>\n",
       "      <th>0</th>\n",
       "      <td>0</td>\n",
       "      <td>63.530786</td>\n",
       "      <td>510.139674</td>\n",
       "      <td>25.7</td>\n",
       "      <td>88.4</td>\n",
       "    </tr>\n",
       "    <tr>\n",
       "      <th>1</th>\n",
       "      <td>1</td>\n",
       "      <td>89.472191</td>\n",
       "      <td>81.662673</td>\n",
       "      <td>13.4</td>\n",
       "      <td>84.0</td>\n",
       "    </tr>\n",
       "    <tr>\n",
       "      <th>2</th>\n",
       "      <td>2</td>\n",
       "      <td>83.509512</td>\n",
       "      <td>14.298034</td>\n",
       "      <td>12.6</td>\n",
       "      <td>90.2</td>\n",
       "    </tr>\n",
       "    <tr>\n",
       "      <th>3</th>\n",
       "      <td>3</td>\n",
       "      <td>93.700939</td>\n",
       "      <td>42.010788</td>\n",
       "      <td>79.6</td>\n",
       "      <td>92.4</td>\n",
       "    </tr>\n",
       "    <tr>\n",
       "      <th>4</th>\n",
       "      <td>4</td>\n",
       "      <td>76.075650</td>\n",
       "      <td>42.247469</td>\n",
       "      <td>64.6</td>\n",
       "      <td>93.8</td>\n",
       "    </tr>\n",
       "  </tbody>\n",
       "</table>\n",
       "</div>"
      ],
      "text/plain": [
       "   Id  Similarity    Variance  Acc MFE  Acc SHAPE\n",
       "0   0   63.530786  510.139674     25.7       88.4\n",
       "1   1   89.472191   81.662673     13.4       84.0\n",
       "2   2   83.509512   14.298034     12.6       90.2\n",
       "3   3   93.700939   42.010788     79.6       92.4\n",
       "4   4   76.075650   42.247469     64.6       93.8"
      ]
     },
     "execution_count": 5,
     "metadata": {},
     "output_type": "execute_result"
    }
   ],
   "source": [
    "#read sim and variance values for TrainSetA\n",
    "inputdirectory=r\"C:/Users/Logan Rose/Downloads/RNA-project-main/RNA-project-main/\" #note you will need to change the input directory\n",
    "#\"C:\\Users\\Logan Rose\\Downloads\\RNA-project-main\\RNA-project-main\\similarity_and_variance_TestSetA_no_shape.csv\"\n",
    "inputfile='similarity_and_variance_TrainSetA_no_shape.csv'\n",
    "df=pd.read_csv(inputdirectory+inputfile,names=['Id','Similarity','Variance','Acc MFE','Acc SHAPE'])\n",
    "df.head()"
   ]
  },
  {
   "cell_type": "code",
   "execution_count": 3,
   "metadata": {},
   "outputs": [
    {
     "data": {
      "text/plain": [
       "(3094, 5)"
      ]
     },
     "execution_count": 3,
     "metadata": {},
     "output_type": "execute_result"
    }
   ],
   "source": [
    "df.shape"
   ]
  },
  {
   "cell_type": "code",
   "execution_count": 6,
   "metadata": {},
   "outputs": [
    {
     "data": {
      "text/html": [
       "<div>\n",
       "<style scoped>\n",
       "    .dataframe tbody tr th:only-of-type {\n",
       "        vertical-align: middle;\n",
       "    }\n",
       "\n",
       "    .dataframe tbody tr th {\n",
       "        vertical-align: top;\n",
       "    }\n",
       "\n",
       "    .dataframe thead th {\n",
       "        text-align: right;\n",
       "    }\n",
       "</style>\n",
       "<table border=\"1\" class=\"dataframe\">\n",
       "  <thead>\n",
       "    <tr style=\"text-align: right;\">\n",
       "      <th></th>\n",
       "      <th>Id</th>\n",
       "      <th>Similarity SHAPE33</th>\n",
       "      <th>Variance SHAPE33</th>\n",
       "      <th>Acc MFE</th>\n",
       "      <th>Acc SHAPE</th>\n",
       "    </tr>\n",
       "  </thead>\n",
       "  <tbody>\n",
       "    <tr>\n",
       "      <th>3089</th>\n",
       "      <td>3161</td>\n",
       "      <td>81.656699</td>\n",
       "      <td>19.230885</td>\n",
       "      <td>38.8</td>\n",
       "      <td>94.8</td>\n",
       "    </tr>\n",
       "    <tr>\n",
       "      <th>3090</th>\n",
       "      <td>3162</td>\n",
       "      <td>77.428980</td>\n",
       "      <td>23.793259</td>\n",
       "      <td>38.0</td>\n",
       "      <td>95.5</td>\n",
       "    </tr>\n",
       "    <tr>\n",
       "      <th>3091</th>\n",
       "      <td>3163</td>\n",
       "      <td>91.642222</td>\n",
       "      <td>8.201062</td>\n",
       "      <td>47.8</td>\n",
       "      <td>100.0</td>\n",
       "    </tr>\n",
       "    <tr>\n",
       "      <th>3092</th>\n",
       "      <td>3164</td>\n",
       "      <td>77.586603</td>\n",
       "      <td>19.541901</td>\n",
       "      <td>38.3</td>\n",
       "      <td>95.4</td>\n",
       "    </tr>\n",
       "    <tr>\n",
       "      <th>3093</th>\n",
       "      <td>3165</td>\n",
       "      <td>93.037067</td>\n",
       "      <td>8.651074</td>\n",
       "      <td>13.0</td>\n",
       "      <td>98.7</td>\n",
       "    </tr>\n",
       "  </tbody>\n",
       "</table>\n",
       "</div>"
      ],
      "text/plain": [
       "        Id  Similarity SHAPE33  Variance SHAPE33  Acc MFE  Acc SHAPE\n",
       "3089  3161           81.656699         19.230885     38.8       94.8\n",
       "3090  3162           77.428980         23.793259     38.0       95.5\n",
       "3091  3163           91.642222          8.201062     47.8      100.0\n",
       "3092  3164           77.586603         19.541901     38.3       95.4\n",
       "3093  3165           93.037067          8.651074     13.0       98.7"
      ]
     },
     "execution_count": 6,
     "metadata": {},
     "output_type": "execute_result"
    }
   ],
   "source": [
    "#read values for Sim with SHAPE and Var with SHAPE for TrainSetA\n",
    "inputdirectory=r\"C:/Users/Logan Rose/Downloads/RNA-project-main/RNA-project-main/\"\n",
    "inputfile='similarity_and_variance_TrainSetA_with_shape33.csv'\n",
    "df1=pd.read_csv(inputdirectory+inputfile,names=['Id','Similarity SHAPE33','Variance SHAPE33','Acc MFE','Acc SHAPE'])\n",
    "df1.tail()"
   ]
  },
  {
   "cell_type": "code",
   "execution_count": 7,
   "metadata": {},
   "outputs": [
    {
     "data": {
      "text/plain": [
       "(3094, 5)"
      ]
     },
     "execution_count": 7,
     "metadata": {},
     "output_type": "execute_result"
    }
   ],
   "source": [
    "df1.shape"
   ]
  },
  {
   "cell_type": "code",
   "execution_count": 9,
   "metadata": {},
   "outputs": [
    {
     "data": {
      "text/html": [
       "<div>\n",
       "<style scoped>\n",
       "    .dataframe tbody tr th:only-of-type {\n",
       "        vertical-align: middle;\n",
       "    }\n",
       "\n",
       "    .dataframe tbody tr th {\n",
       "        vertical-align: top;\n",
       "    }\n",
       "\n",
       "    .dataframe thead th {\n",
       "        text-align: right;\n",
       "    }\n",
       "</style>\n",
       "<table border=\"1\" class=\"dataframe\">\n",
       "  <thead>\n",
       "    <tr style=\"text-align: right;\">\n",
       "      <th></th>\n",
       "      <th>Id</th>\n",
       "      <th>Similarity</th>\n",
       "      <th>Variance</th>\n",
       "      <th>Acc MFE</th>\n",
       "      <th>Acc SHAPE</th>\n",
       "    </tr>\n",
       "  </thead>\n",
       "  <tbody>\n",
       "    <tr>\n",
       "      <th>0</th>\n",
       "      <td>0</td>\n",
       "      <td>96.423690</td>\n",
       "      <td>58.736204</td>\n",
       "      <td>47.1</td>\n",
       "      <td>100.0</td>\n",
       "    </tr>\n",
       "    <tr>\n",
       "      <th>1</th>\n",
       "      <td>1</td>\n",
       "      <td>55.204598</td>\n",
       "      <td>1400.598193</td>\n",
       "      <td>54.7</td>\n",
       "      <td>100.0</td>\n",
       "    </tr>\n",
       "    <tr>\n",
       "      <th>2</th>\n",
       "      <td>2</td>\n",
       "      <td>81.206294</td>\n",
       "      <td>228.163154</td>\n",
       "      <td>73.2</td>\n",
       "      <td>97.6</td>\n",
       "    </tr>\n",
       "    <tr>\n",
       "      <th>3</th>\n",
       "      <td>3</td>\n",
       "      <td>94.482379</td>\n",
       "      <td>119.418192</td>\n",
       "      <td>90.7</td>\n",
       "      <td>97.6</td>\n",
       "    </tr>\n",
       "    <tr>\n",
       "      <th>4</th>\n",
       "      <td>4</td>\n",
       "      <td>38.345264</td>\n",
       "      <td>539.449350</td>\n",
       "      <td>55.1</td>\n",
       "      <td>97.4</td>\n",
       "    </tr>\n",
       "  </tbody>\n",
       "</table>\n",
       "</div>"
      ],
      "text/plain": [
       "   Id  Similarity     Variance  Acc MFE  Acc SHAPE\n",
       "0   0   96.423690    58.736204     47.1      100.0\n",
       "1   1   55.204598  1400.598193     54.7      100.0\n",
       "2   2   81.206294   228.163154     73.2       97.6\n",
       "3   3   94.482379   119.418192     90.7       97.6\n",
       "4   4   38.345264   539.449350     55.1       97.4"
      ]
     },
     "execution_count": 9,
     "metadata": {},
     "output_type": "execute_result"
    }
   ],
   "source": [
    "#read sim and variance values for TestSetA\n",
    "inputdirectory=r\"C:/Users/Logan Rose/Downloads/RNA-project-main/RNA-project-main/\"\n",
    "inputfile='similarity_and_variance_TestSetA_no_shape.csv'\n",
    "df3=pd.read_csv(inputdirectory+inputfile,names=['Id','Similarity','Variance','Acc MFE','Acc SHAPE'])\n",
    "df3.head()"
   ]
  },
  {
   "cell_type": "code",
   "execution_count": 7,
   "metadata": {},
   "outputs": [
    {
     "data": {
      "text/plain": [
       "(426, 5)"
      ]
     },
     "execution_count": 7,
     "metadata": {},
     "output_type": "execute_result"
    }
   ],
   "source": [
    "df3.shape"
   ]
  },
  {
   "cell_type": "code",
   "execution_count": 10,
   "metadata": {},
   "outputs": [
    {
     "data": {
      "text/html": [
       "<div>\n",
       "<style scoped>\n",
       "    .dataframe tbody tr th:only-of-type {\n",
       "        vertical-align: middle;\n",
       "    }\n",
       "\n",
       "    .dataframe tbody tr th {\n",
       "        vertical-align: top;\n",
       "    }\n",
       "\n",
       "    .dataframe thead th {\n",
       "        text-align: right;\n",
       "    }\n",
       "</style>\n",
       "<table border=\"1\" class=\"dataframe\">\n",
       "  <thead>\n",
       "    <tr style=\"text-align: right;\">\n",
       "      <th></th>\n",
       "      <th>Id</th>\n",
       "      <th>Similarity SHAPE33</th>\n",
       "      <th>Variance SHAPE33</th>\n",
       "      <th>Acc MFE</th>\n",
       "      <th>Acc SHAPE</th>\n",
       "    </tr>\n",
       "  </thead>\n",
       "  <tbody>\n",
       "    <tr>\n",
       "      <th>0</th>\n",
       "      <td>0</td>\n",
       "      <td>83.909287</td>\n",
       "      <td>62.903218</td>\n",
       "      <td>47.1</td>\n",
       "      <td>100.0</td>\n",
       "    </tr>\n",
       "    <tr>\n",
       "      <th>1</th>\n",
       "      <td>1</td>\n",
       "      <td>98.291925</td>\n",
       "      <td>14.163227</td>\n",
       "      <td>54.7</td>\n",
       "      <td>100.0</td>\n",
       "    </tr>\n",
       "    <tr>\n",
       "      <th>2</th>\n",
       "      <td>2</td>\n",
       "      <td>91.866090</td>\n",
       "      <td>181.236396</td>\n",
       "      <td>73.2</td>\n",
       "      <td>97.6</td>\n",
       "    </tr>\n",
       "    <tr>\n",
       "      <th>3</th>\n",
       "      <td>3</td>\n",
       "      <td>98.162743</td>\n",
       "      <td>42.056933</td>\n",
       "      <td>90.7</td>\n",
       "      <td>97.6</td>\n",
       "    </tr>\n",
       "    <tr>\n",
       "      <th>4</th>\n",
       "      <td>4</td>\n",
       "      <td>96.204819</td>\n",
       "      <td>27.614676</td>\n",
       "      <td>55.1</td>\n",
       "      <td>97.4</td>\n",
       "    </tr>\n",
       "  </tbody>\n",
       "</table>\n",
       "</div>"
      ],
      "text/plain": [
       "   Id  Similarity SHAPE33  Variance SHAPE33  Acc MFE  Acc SHAPE\n",
       "0   0           83.909287         62.903218     47.1      100.0\n",
       "1   1           98.291925         14.163227     54.7      100.0\n",
       "2   2           91.866090        181.236396     73.2       97.6\n",
       "3   3           98.162743         42.056933     90.7       97.6\n",
       "4   4           96.204819         27.614676     55.1       97.4"
      ]
     },
     "execution_count": 10,
     "metadata": {},
     "output_type": "execute_result"
    }
   ],
   "source": [
    "#read values for Sim with SHAPE and Var with SHAPE for TestSetA\n",
    "inputdirectory=r\"C:/Users/Logan Rose/Downloads/RNA-project-main/RNA-project-main/\"\n",
    "inputfile='similarity_and_variance_TestSetA_with_shape33.csv'\n",
    "df4=pd.read_csv(inputdirectory+inputfile,names=['Id','Similarity SHAPE33','Variance SHAPE33','Acc MFE','Acc SHAPE'])\n",
    "df4.head()"
   ]
  },
  {
   "cell_type": "code",
   "execution_count": 11,
   "metadata": {},
   "outputs": [
    {
     "data": {
      "text/plain": [
       "(426, 5)"
      ]
     },
     "execution_count": 11,
     "metadata": {},
     "output_type": "execute_result"
    }
   ],
   "source": [
    "df4.shape"
   ]
  },
  {
   "cell_type": "code",
   "execution_count": 12,
   "metadata": {},
   "outputs": [
    {
     "data": {
      "text/html": [
       "<div>\n",
       "<style scoped>\n",
       "    .dataframe tbody tr th:only-of-type {\n",
       "        vertical-align: middle;\n",
       "    }\n",
       "\n",
       "    .dataframe tbody tr th {\n",
       "        vertical-align: top;\n",
       "    }\n",
       "\n",
       "    .dataframe thead th {\n",
       "        text-align: right;\n",
       "    }\n",
       "</style>\n",
       "<table border=\"1\" class=\"dataframe\">\n",
       "  <thead>\n",
       "    <tr style=\"text-align: right;\">\n",
       "      <th></th>\n",
       "      <th>File</th>\n",
       "      <th>Id</th>\n",
       "      <th>Identifier</th>\n",
       "      <th>norms</th>\n",
       "    </tr>\n",
       "  </thead>\n",
       "  <tbody>\n",
       "    <tr>\n",
       "      <th>0</th>\n",
       "      <td>0_no_shape.csv</td>\n",
       "      <td>0</td>\n",
       "      <td>Test_A_No_Shape</td>\n",
       "      <td>64.998215</td>\n",
       "    </tr>\n",
       "    <tr>\n",
       "      <th>1</th>\n",
       "      <td>1_no_shape.csv</td>\n",
       "      <td>1</td>\n",
       "      <td>Test_A_No_Shape</td>\n",
       "      <td>65.194148</td>\n",
       "    </tr>\n",
       "    <tr>\n",
       "      <th>2</th>\n",
       "      <td>2_no_shape.csv</td>\n",
       "      <td>2</td>\n",
       "      <td>Test_A_No_Shape</td>\n",
       "      <td>64.758183</td>\n",
       "    </tr>\n",
       "    <tr>\n",
       "      <th>3</th>\n",
       "      <td>3_no_shape.csv</td>\n",
       "      <td>3</td>\n",
       "      <td>Test_A_No_Shape</td>\n",
       "      <td>64.873570</td>\n",
       "    </tr>\n",
       "    <tr>\n",
       "      <th>4</th>\n",
       "      <td>4_no_shape.csv</td>\n",
       "      <td>4</td>\n",
       "      <td>Test_A_No_Shape</td>\n",
       "      <td>64.819485</td>\n",
       "    </tr>\n",
       "  </tbody>\n",
       "</table>\n",
       "</div>"
      ],
      "text/plain": [
       "             File  Id       Identifier      norms\n",
       "0  0_no_shape.csv   0  Test_A_No_Shape  64.998215\n",
       "1  1_no_shape.csv   1  Test_A_No_Shape  65.194148\n",
       "2  2_no_shape.csv   2  Test_A_No_Shape  64.758183\n",
       "3  3_no_shape.csv   3  Test_A_No_Shape  64.873570\n",
       "4  4_no_shape.csv   4  Test_A_No_Shape  64.819485"
      ]
     },
     "execution_count": 12,
     "metadata": {},
     "output_type": "execute_result"
    }
   ],
   "source": [
    "#read 0-Norms for TestSetA\n",
    "inputdirectory=r\"C:/Users/Logan Rose/Downloads/RNA-project-main/RNA-project-main/hom0/\"\n",
    "inputfile='Norms_TestA.csv'\n",
    "plTestSetA0=pd.read_csv(inputdirectory+inputfile,names=['File','Id','Identifier','norms'], header=None, skiprows=1)\n",
    "plTestSetA0.head()"
   ]
  },
  {
   "cell_type": "code",
   "execution_count": 13,
   "metadata": {},
   "outputs": [
    {
     "data": {
      "text/html": [
       "<div>\n",
       "<style scoped>\n",
       "    .dataframe tbody tr th:only-of-type {\n",
       "        vertical-align: middle;\n",
       "    }\n",
       "\n",
       "    .dataframe tbody tr th {\n",
       "        vertical-align: top;\n",
       "    }\n",
       "\n",
       "    .dataframe thead th {\n",
       "        text-align: right;\n",
       "    }\n",
       "</style>\n",
       "<table border=\"1\" class=\"dataframe\">\n",
       "  <thead>\n",
       "    <tr style=\"text-align: right;\">\n",
       "      <th></th>\n",
       "      <th>File</th>\n",
       "      <th>Id</th>\n",
       "      <th>Identifier</th>\n",
       "      <th>norms</th>\n",
       "    </tr>\n",
       "  </thead>\n",
       "  <tbody>\n",
       "    <tr>\n",
       "      <th>0</th>\n",
       "      <td>0_no_shape.csv</td>\n",
       "      <td>0</td>\n",
       "      <td>Test_A_No_Shape</td>\n",
       "      <td>0.000000</td>\n",
       "    </tr>\n",
       "    <tr>\n",
       "      <th>1</th>\n",
       "      <td>1_no_shape.csv</td>\n",
       "      <td>1</td>\n",
       "      <td>Test_A_No_Shape</td>\n",
       "      <td>0.000000</td>\n",
       "    </tr>\n",
       "    <tr>\n",
       "      <th>2</th>\n",
       "      <td>2_no_shape.csv</td>\n",
       "      <td>2</td>\n",
       "      <td>Test_A_No_Shape</td>\n",
       "      <td>0.000000</td>\n",
       "    </tr>\n",
       "    <tr>\n",
       "      <th>3</th>\n",
       "      <td>3_no_shape.csv</td>\n",
       "      <td>3</td>\n",
       "      <td>Test_A_No_Shape</td>\n",
       "      <td>0.000161</td>\n",
       "    </tr>\n",
       "    <tr>\n",
       "      <th>4</th>\n",
       "      <td>4_no_shape.csv</td>\n",
       "      <td>4</td>\n",
       "      <td>Test_A_No_Shape</td>\n",
       "      <td>0.000000</td>\n",
       "    </tr>\n",
       "  </tbody>\n",
       "</table>\n",
       "</div>"
      ],
      "text/plain": [
       "             File  Id       Identifier     norms\n",
       "0  0_no_shape.csv   0  Test_A_No_Shape  0.000000\n",
       "1  1_no_shape.csv   1  Test_A_No_Shape  0.000000\n",
       "2  2_no_shape.csv   2  Test_A_No_Shape  0.000000\n",
       "3  3_no_shape.csv   3  Test_A_No_Shape  0.000161\n",
       "4  4_no_shape.csv   4  Test_A_No_Shape  0.000000"
      ]
     },
     "execution_count": 13,
     "metadata": {},
     "output_type": "execute_result"
    }
   ],
   "source": [
    "#read 1-norms for TestSetA\n",
    "inputdirectory=r\"C:/Users/Logan Rose/Downloads/RNA-project-main/RNA-project-main/hom1/\"\n",
    "inputfile='Norms_TestA.csv'\n",
    "plTestSetA1=pd.read_csv(inputdirectory+inputfile,names=['File','Id','Identifier','norms'], header=None, skiprows=1)\n",
    "plTestSetA1.head()"
   ]
  },
  {
   "cell_type": "code",
   "execution_count": 12,
   "metadata": {},
   "outputs": [
    {
     "data": {
      "text/plain": [
       "(426, 4)"
      ]
     },
     "execution_count": 12,
     "metadata": {},
     "output_type": "execute_result"
    }
   ],
   "source": [
    "plTestSetA1.shape"
   ]
  },
  {
   "cell_type": "code",
   "execution_count": 14,
   "metadata": {},
   "outputs": [
    {
     "data": {
      "text/html": [
       "<div>\n",
       "<style scoped>\n",
       "    .dataframe tbody tr th:only-of-type {\n",
       "        vertical-align: middle;\n",
       "    }\n",
       "\n",
       "    .dataframe tbody tr th {\n",
       "        vertical-align: top;\n",
       "    }\n",
       "\n",
       "    .dataframe thead th {\n",
       "        text-align: right;\n",
       "    }\n",
       "</style>\n",
       "<table border=\"1\" class=\"dataframe\">\n",
       "  <thead>\n",
       "    <tr style=\"text-align: right;\">\n",
       "      <th></th>\n",
       "      <th>File</th>\n",
       "      <th>Id</th>\n",
       "      <th>Identifier</th>\n",
       "      <th>norms</th>\n",
       "    </tr>\n",
       "  </thead>\n",
       "  <tbody>\n",
       "    <tr>\n",
       "      <th>0</th>\n",
       "      <td>0_with_shape.csv</td>\n",
       "      <td>0</td>\n",
       "      <td>Test_A_With_Shape</td>\n",
       "      <td>64.975018</td>\n",
       "    </tr>\n",
       "    <tr>\n",
       "      <th>1</th>\n",
       "      <td>1_with_shape.csv</td>\n",
       "      <td>1</td>\n",
       "      <td>Test_A_With_Shape</td>\n",
       "      <td>64.982104</td>\n",
       "    </tr>\n",
       "    <tr>\n",
       "      <th>2</th>\n",
       "      <td>2_with_shape.csv</td>\n",
       "      <td>2</td>\n",
       "      <td>Test_A_With_Shape</td>\n",
       "      <td>64.896292</td>\n",
       "    </tr>\n",
       "    <tr>\n",
       "      <th>3</th>\n",
       "      <td>3_with_shape.csv</td>\n",
       "      <td>3</td>\n",
       "      <td>Test_A_With_Shape</td>\n",
       "      <td>65.111365</td>\n",
       "    </tr>\n",
       "    <tr>\n",
       "      <th>4</th>\n",
       "      <td>4_with_shape.csv</td>\n",
       "      <td>4</td>\n",
       "      <td>Test_A_With_Shape</td>\n",
       "      <td>64.738559</td>\n",
       "    </tr>\n",
       "  </tbody>\n",
       "</table>\n",
       "</div>"
      ],
      "text/plain": [
       "               File  Id         Identifier      norms\n",
       "0  0_with_shape.csv   0  Test_A_With_Shape  64.975018\n",
       "1  1_with_shape.csv   1  Test_A_With_Shape  64.982104\n",
       "2  2_with_shape.csv   2  Test_A_With_Shape  64.896292\n",
       "3  3_with_shape.csv   3  Test_A_With_Shape  65.111365\n",
       "4  4_with_shape.csv   4  Test_A_With_Shape  64.738559"
      ]
     },
     "execution_count": 14,
     "metadata": {},
     "output_type": "execute_result"
    }
   ],
   "source": [
    "#read 0-norms (with SHAPE) for TestSetA\n",
    "inputdirectory=r\"C:/Users/Logan Rose/Downloads/RNA-project-main/RNA-project-main/hom0/\"\n",
    "inputfile='Norms_TestAS.csv'\n",
    "plTestSetAShape0=pd.read_csv(inputdirectory+inputfile,names=['File','Id','Identifier','norms'], header=None, skiprows=1)\n",
    "plTestSetAShape0.head()"
   ]
  },
  {
   "cell_type": "code",
   "execution_count": 15,
   "metadata": {},
   "outputs": [
    {
     "data": {
      "text/html": [
       "<div>\n",
       "<style scoped>\n",
       "    .dataframe tbody tr th:only-of-type {\n",
       "        vertical-align: middle;\n",
       "    }\n",
       "\n",
       "    .dataframe tbody tr th {\n",
       "        vertical-align: top;\n",
       "    }\n",
       "\n",
       "    .dataframe thead th {\n",
       "        text-align: right;\n",
       "    }\n",
       "</style>\n",
       "<table border=\"1\" class=\"dataframe\">\n",
       "  <thead>\n",
       "    <tr style=\"text-align: right;\">\n",
       "      <th></th>\n",
       "      <th>File</th>\n",
       "      <th>Id</th>\n",
       "      <th>Identifier</th>\n",
       "      <th>norms</th>\n",
       "    </tr>\n",
       "  </thead>\n",
       "  <tbody>\n",
       "    <tr>\n",
       "      <th>0</th>\n",
       "      <td>0_with_shape.csv</td>\n",
       "      <td>0</td>\n",
       "      <td>Test_A_With_Shape</td>\n",
       "      <td>0.000000</td>\n",
       "    </tr>\n",
       "    <tr>\n",
       "      <th>1</th>\n",
       "      <td>1_with_shape.csv</td>\n",
       "      <td>1</td>\n",
       "      <td>Test_A_With_Shape</td>\n",
       "      <td>0.000000</td>\n",
       "    </tr>\n",
       "    <tr>\n",
       "      <th>2</th>\n",
       "      <td>2_with_shape.csv</td>\n",
       "      <td>2</td>\n",
       "      <td>Test_A_With_Shape</td>\n",
       "      <td>0.000000</td>\n",
       "    </tr>\n",
       "    <tr>\n",
       "      <th>3</th>\n",
       "      <td>3_with_shape.csv</td>\n",
       "      <td>3</td>\n",
       "      <td>Test_A_With_Shape</td>\n",
       "      <td>0.002203</td>\n",
       "    </tr>\n",
       "    <tr>\n",
       "      <th>4</th>\n",
       "      <td>4_with_shape.csv</td>\n",
       "      <td>4</td>\n",
       "      <td>Test_A_With_Shape</td>\n",
       "      <td>0.000000</td>\n",
       "    </tr>\n",
       "  </tbody>\n",
       "</table>\n",
       "</div>"
      ],
      "text/plain": [
       "               File  Id         Identifier     norms\n",
       "0  0_with_shape.csv   0  Test_A_With_Shape  0.000000\n",
       "1  1_with_shape.csv   1  Test_A_With_Shape  0.000000\n",
       "2  2_with_shape.csv   2  Test_A_With_Shape  0.000000\n",
       "3  3_with_shape.csv   3  Test_A_With_Shape  0.002203\n",
       "4  4_with_shape.csv   4  Test_A_With_Shape  0.000000"
      ]
     },
     "execution_count": 15,
     "metadata": {},
     "output_type": "execute_result"
    }
   ],
   "source": [
    "#Read 1-norms (with SHAPE) for TestSetA\n",
    "inputdirectory=r\"C:/Users/Logan Rose/Downloads/RNA-project-main/RNA-project-main/hom1/\"\n",
    "inputfile='Norms_TestAS.csv'\n",
    "plTestSetAShape1=pd.read_csv(inputdirectory+inputfile,names=['File','Id','Identifier','norms'], header=None, skiprows=1)\n",
    "plTestSetAShape1.head()"
   ]
  },
  {
   "cell_type": "code",
   "execution_count": 119,
   "metadata": {},
   "outputs": [
    {
     "data": {
      "text/plain": [
       "(426, 4)"
      ]
     },
     "execution_count": 119,
     "metadata": {},
     "output_type": "execute_result"
    }
   ],
   "source": [
    "plTestSetAShape0.shape"
   ]
  },
  {
   "cell_type": "code",
   "execution_count": 16,
   "metadata": {},
   "outputs": [
    {
     "data": {
      "text/html": [
       "<div>\n",
       "<style scoped>\n",
       "    .dataframe tbody tr th:only-of-type {\n",
       "        vertical-align: middle;\n",
       "    }\n",
       "\n",
       "    .dataframe tbody tr th {\n",
       "        vertical-align: top;\n",
       "    }\n",
       "\n",
       "    .dataframe thead th {\n",
       "        text-align: right;\n",
       "    }\n",
       "</style>\n",
       "<table border=\"1\" class=\"dataframe\">\n",
       "  <thead>\n",
       "    <tr style=\"text-align: right;\">\n",
       "      <th></th>\n",
       "      <th>File</th>\n",
       "      <th>Id</th>\n",
       "      <th>Identifier</th>\n",
       "      <th>norms</th>\n",
       "    </tr>\n",
       "  </thead>\n",
       "  <tbody>\n",
       "    <tr>\n",
       "      <th>0</th>\n",
       "      <td>0_no_shape.csv</td>\n",
       "      <td>0</td>\n",
       "      <td>Train_A_No_Shape</td>\n",
       "      <td>64.646573</td>\n",
       "    </tr>\n",
       "    <tr>\n",
       "      <th>1</th>\n",
       "      <td>1_no_shape.csv</td>\n",
       "      <td>1</td>\n",
       "      <td>Train_A_No_Shape</td>\n",
       "      <td>64.646553</td>\n",
       "    </tr>\n",
       "    <tr>\n",
       "      <th>2</th>\n",
       "      <td>2_no_shape.csv</td>\n",
       "      <td>2</td>\n",
       "      <td>Train_A_No_Shape</td>\n",
       "      <td>64.646542</td>\n",
       "    </tr>\n",
       "    <tr>\n",
       "      <th>3</th>\n",
       "      <td>3_no_shape.csv</td>\n",
       "      <td>3</td>\n",
       "      <td>Train_A_No_Shape</td>\n",
       "      <td>64.663145</td>\n",
       "    </tr>\n",
       "    <tr>\n",
       "      <th>4</th>\n",
       "      <td>4_no_shape.csv</td>\n",
       "      <td>4</td>\n",
       "      <td>Train_A_No_Shape</td>\n",
       "      <td>64.646543</td>\n",
       "    </tr>\n",
       "  </tbody>\n",
       "</table>\n",
       "</div>"
      ],
      "text/plain": [
       "             File  Id        Identifier      norms\n",
       "0  0_no_shape.csv   0  Train_A_No_Shape  64.646573\n",
       "1  1_no_shape.csv   1  Train_A_No_Shape  64.646553\n",
       "2  2_no_shape.csv   2  Train_A_No_Shape  64.646542\n",
       "3  3_no_shape.csv   3  Train_A_No_Shape  64.663145\n",
       "4  4_no_shape.csv   4  Train_A_No_Shape  64.646543"
      ]
     },
     "execution_count": 16,
     "metadata": {},
     "output_type": "execute_result"
    }
   ],
   "source": [
    "#read 0-Norms for TrainSetA\n",
    "inputdirectory=r\"C:/Users/Logan Rose/Downloads/RNA-project-main/RNA-project-main/hom0/\"\n",
    "inputfile='Norms_TrainA.csv'\n",
    "plTrainSetA0=pd.read_csv(inputdirectory+inputfile,names=['File','Id','Identifier','norms'], header=None, skiprows=1)\n",
    "plTrainSetA0.head()"
   ]
  },
  {
   "cell_type": "code",
   "execution_count": 17,
   "metadata": {},
   "outputs": [
    {
     "data": {
      "text/html": [
       "<div>\n",
       "<style scoped>\n",
       "    .dataframe tbody tr th:only-of-type {\n",
       "        vertical-align: middle;\n",
       "    }\n",
       "\n",
       "    .dataframe tbody tr th {\n",
       "        vertical-align: top;\n",
       "    }\n",
       "\n",
       "    .dataframe thead th {\n",
       "        text-align: right;\n",
       "    }\n",
       "</style>\n",
       "<table border=\"1\" class=\"dataframe\">\n",
       "  <thead>\n",
       "    <tr style=\"text-align: right;\">\n",
       "      <th></th>\n",
       "      <th>File</th>\n",
       "      <th>Id</th>\n",
       "      <th>Identifier</th>\n",
       "      <th>norms</th>\n",
       "    </tr>\n",
       "  </thead>\n",
       "  <tbody>\n",
       "    <tr>\n",
       "      <th>0</th>\n",
       "      <td>0_no_shape.csv</td>\n",
       "      <td>0</td>\n",
       "      <td>Train_A_No_Shape</td>\n",
       "      <td>0.001230</td>\n",
       "    </tr>\n",
       "    <tr>\n",
       "      <th>1</th>\n",
       "      <td>1_no_shape.csv</td>\n",
       "      <td>1</td>\n",
       "      <td>Train_A_No_Shape</td>\n",
       "      <td>0.000249</td>\n",
       "    </tr>\n",
       "    <tr>\n",
       "      <th>2</th>\n",
       "      <td>2_no_shape.csv</td>\n",
       "      <td>2</td>\n",
       "      <td>Train_A_No_Shape</td>\n",
       "      <td>0.000744</td>\n",
       "    </tr>\n",
       "    <tr>\n",
       "      <th>3</th>\n",
       "      <td>3_no_shape.csv</td>\n",
       "      <td>3</td>\n",
       "      <td>Train_A_No_Shape</td>\n",
       "      <td>0.000000</td>\n",
       "    </tr>\n",
       "    <tr>\n",
       "      <th>4</th>\n",
       "      <td>4_no_shape.csv</td>\n",
       "      <td>4</td>\n",
       "      <td>Train_A_No_Shape</td>\n",
       "      <td>0.003214</td>\n",
       "    </tr>\n",
       "  </tbody>\n",
       "</table>\n",
       "</div>"
      ],
      "text/plain": [
       "             File  Id        Identifier     norms\n",
       "0  0_no_shape.csv   0  Train_A_No_Shape  0.001230\n",
       "1  1_no_shape.csv   1  Train_A_No_Shape  0.000249\n",
       "2  2_no_shape.csv   2  Train_A_No_Shape  0.000744\n",
       "3  3_no_shape.csv   3  Train_A_No_Shape  0.000000\n",
       "4  4_no_shape.csv   4  Train_A_No_Shape  0.003214"
      ]
     },
     "execution_count": 17,
     "metadata": {},
     "output_type": "execute_result"
    }
   ],
   "source": [
    "#read 1-Norms for TrainSetA\n",
    "inputdirectory=r\"C:/Users/Logan Rose/Downloads/RNA-project-main/RNA-project-main/hom1/\"\n",
    "inputfile='Norms_TrainA.csv'\n",
    "plTrainSetA1=pd.read_csv(inputdirectory+inputfile,names=['File','Id','Identifier','norms'], header=None, skiprows=1)\n",
    "plTrainSetA1.head()"
   ]
  },
  {
   "cell_type": "code",
   "execution_count": 18,
   "metadata": {},
   "outputs": [
    {
     "data": {
      "text/plain": [
       "(2503, 4)"
      ]
     },
     "execution_count": 18,
     "metadata": {},
     "output_type": "execute_result"
    }
   ],
   "source": [
    "plTrainSetA0.shape"
   ]
  },
  {
   "cell_type": "code",
   "execution_count": 20,
   "metadata": {},
   "outputs": [
    {
     "data": {
      "text/html": [
       "<div>\n",
       "<style scoped>\n",
       "    .dataframe tbody tr th:only-of-type {\n",
       "        vertical-align: middle;\n",
       "    }\n",
       "\n",
       "    .dataframe tbody tr th {\n",
       "        vertical-align: top;\n",
       "    }\n",
       "\n",
       "    .dataframe thead th {\n",
       "        text-align: right;\n",
       "    }\n",
       "</style>\n",
       "<table border=\"1\" class=\"dataframe\">\n",
       "  <thead>\n",
       "    <tr style=\"text-align: right;\">\n",
       "      <th></th>\n",
       "      <th>File</th>\n",
       "      <th>Id</th>\n",
       "      <th>Identifier</th>\n",
       "      <th>norms</th>\n",
       "    </tr>\n",
       "  </thead>\n",
       "  <tbody>\n",
       "    <tr>\n",
       "      <th>0</th>\n",
       "      <td>0_with_shape.csv</td>\n",
       "      <td>0</td>\n",
       "      <td>Train_A_With_Shape33</td>\n",
       "      <td>64.646545</td>\n",
       "    </tr>\n",
       "    <tr>\n",
       "      <th>1</th>\n",
       "      <td>1_with_shape.csv</td>\n",
       "      <td>1</td>\n",
       "      <td>Train_A_With_Shape33</td>\n",
       "      <td>64.646711</td>\n",
       "    </tr>\n",
       "    <tr>\n",
       "      <th>2</th>\n",
       "      <td>2_with_shape.csv</td>\n",
       "      <td>2</td>\n",
       "      <td>Train_A_With_Shape33</td>\n",
       "      <td>64.646542</td>\n",
       "    </tr>\n",
       "    <tr>\n",
       "      <th>3</th>\n",
       "      <td>3_with_shape.csv</td>\n",
       "      <td>3</td>\n",
       "      <td>Train_A_With_Shape33</td>\n",
       "      <td>64.651603</td>\n",
       "    </tr>\n",
       "    <tr>\n",
       "      <th>4</th>\n",
       "      <td>4_with_shape.csv</td>\n",
       "      <td>4</td>\n",
       "      <td>Train_A_With_Shape33</td>\n",
       "      <td>64.646558</td>\n",
       "    </tr>\n",
       "  </tbody>\n",
       "</table>\n",
       "</div>"
      ],
      "text/plain": [
       "               File  Id            Identifier      norms\n",
       "0  0_with_shape.csv   0  Train_A_With_Shape33  64.646545\n",
       "1  1_with_shape.csv   1  Train_A_With_Shape33  64.646711\n",
       "2  2_with_shape.csv   2  Train_A_With_Shape33  64.646542\n",
       "3  3_with_shape.csv   3  Train_A_With_Shape33  64.651603\n",
       "4  4_with_shape.csv   4  Train_A_With_Shape33  64.646558"
      ]
     },
     "execution_count": 20,
     "metadata": {},
     "output_type": "execute_result"
    }
   ],
   "source": [
    "#read 0-Norms for TrainSetA (with SHAPE)\n",
    "inputdirectory=r\"C:/Users/Logan Rose/Downloads/RNA-project-main/RNA-project-main/hom0/\"\n",
    "inputfile='Norms_TrainAS.csv'\n",
    "plTrainSetAShape0=pd.read_csv(inputdirectory+inputfile,names=['File','Id','Identifier','norms'], header=None, skiprows=1)\n",
    "plTrainSetAShape0.head()"
   ]
  },
  {
   "cell_type": "code",
   "execution_count": 22,
   "metadata": {},
   "outputs": [
    {
     "data": {
      "text/html": [
       "<div>\n",
       "<style scoped>\n",
       "    .dataframe tbody tr th:only-of-type {\n",
       "        vertical-align: middle;\n",
       "    }\n",
       "\n",
       "    .dataframe tbody tr th {\n",
       "        vertical-align: top;\n",
       "    }\n",
       "\n",
       "    .dataframe thead th {\n",
       "        text-align: right;\n",
       "    }\n",
       "</style>\n",
       "<table border=\"1\" class=\"dataframe\">\n",
       "  <thead>\n",
       "    <tr style=\"text-align: right;\">\n",
       "      <th></th>\n",
       "      <th>File</th>\n",
       "      <th>Id</th>\n",
       "      <th>Identifier</th>\n",
       "      <th>norms</th>\n",
       "    </tr>\n",
       "  </thead>\n",
       "  <tbody>\n",
       "    <tr>\n",
       "      <th>0</th>\n",
       "      <td>0_with_shape.csv</td>\n",
       "      <td>0</td>\n",
       "      <td>Train_A_With_Shape33</td>\n",
       "      <td>0.001711</td>\n",
       "    </tr>\n",
       "    <tr>\n",
       "      <th>1</th>\n",
       "      <td>1_with_shape.csv</td>\n",
       "      <td>1</td>\n",
       "      <td>Train_A_With_Shape33</td>\n",
       "      <td>0.001361</td>\n",
       "    </tr>\n",
       "    <tr>\n",
       "      <th>2</th>\n",
       "      <td>2_with_shape.csv</td>\n",
       "      <td>2</td>\n",
       "      <td>Train_A_With_Shape33</td>\n",
       "      <td>0.000151</td>\n",
       "    </tr>\n",
       "    <tr>\n",
       "      <th>3</th>\n",
       "      <td>3_with_shape.csv</td>\n",
       "      <td>3</td>\n",
       "      <td>Train_A_With_Shape33</td>\n",
       "      <td>0.003474</td>\n",
       "    </tr>\n",
       "    <tr>\n",
       "      <th>4</th>\n",
       "      <td>4_with_shape.csv</td>\n",
       "      <td>4</td>\n",
       "      <td>Train_A_With_Shape33</td>\n",
       "      <td>0.000854</td>\n",
       "    </tr>\n",
       "  </tbody>\n",
       "</table>\n",
       "</div>"
      ],
      "text/plain": [
       "               File  Id            Identifier     norms\n",
       "0  0_with_shape.csv   0  Train_A_With_Shape33  0.001711\n",
       "1  1_with_shape.csv   1  Train_A_With_Shape33  0.001361\n",
       "2  2_with_shape.csv   2  Train_A_With_Shape33  0.000151\n",
       "3  3_with_shape.csv   3  Train_A_With_Shape33  0.003474\n",
       "4  4_with_shape.csv   4  Train_A_With_Shape33  0.000854"
      ]
     },
     "execution_count": 22,
     "metadata": {},
     "output_type": "execute_result"
    }
   ],
   "source": [
    "#read 1-Norms for TrainSetA (with SHAPE)\n",
    "inputdirectory=r\"C:/Users/Logan Rose/Downloads/RNA-project-main/RNA-project-main/hom1/\"\n",
    "inputfile='Norms_TrainAS.csv'\n",
    "plTrainSetAShape1=pd.read_csv(inputdirectory+inputfile,names=['File','Id','Identifier','norms'], header=None, skiprows=1)\n",
    "plTrainSetAShape1.head()"
   ]
  },
  {
   "cell_type": "code",
   "execution_count": 23,
   "metadata": {},
   "outputs": [
    {
     "data": {
      "text/plain": [
       "(2503, 4)"
      ]
     },
     "execution_count": 23,
     "metadata": {},
     "output_type": "execute_result"
    }
   ],
   "source": [
    "plTrainSetAShape0.shape"
   ]
  },
  {
   "cell_type": "code",
   "execution_count": 24,
   "metadata": {},
   "outputs": [],
   "source": [
    "#index files in dictionary then create dataframe from dict\n",
    "#to match indexes from Matt's data\n",
    "#puts all of the features in the training set in one dict\n",
    "match_train = {}\n",
    "k=0\n",
    "for i in range(plTrainSetA0.shape[0]):\n",
    "    for j in range(df.shape[0]):\n",
    "        if (plTrainSetA0.iloc[i,1]==df.iloc[j,0]):\n",
    "            match_train[k] =[df.iloc[j,0],df.iloc[j,1],df.iloc[j,2],df.iloc[j,3],df.iloc[j,4],df1.iloc[j,1],df1.iloc[j,2],plTrainSetA0.iloc[i,3],plTrainSetA1.iloc[i,3],plTrainSetAShape0.iloc[i,3],plTrainSetAShape1.iloc[i,3]]\n",
    "            k=k+1"
   ]
  },
  {
   "cell_type": "code",
   "execution_count": 25,
   "metadata": {},
   "outputs": [
    {
     "name": "stdout",
     "output_type": "stream",
     "text": [
      "2503\n"
     ]
    }
   ],
   "source": [
    "#get number of seqs in Training Set\n",
    "print(k)"
   ]
  },
  {
   "cell_type": "code",
   "execution_count": 26,
   "metadata": {},
   "outputs": [],
   "source": [
    "#convert to dataframe\n",
    "X_train=pd.DataFrame.from_dict(match_train, orient='index', columns=['Id','Similarity','Variance','Acc MFE','Acc SHAPE','Similarity SHAPE33','Variance SHAPE33','PL norm0','PL norm1','PL norm0 SHAPE','PL norm1 SHAPE'])"
   ]
  },
  {
   "cell_type": "code",
   "execution_count": 27,
   "metadata": {},
   "outputs": [
    {
     "data": {
      "text/html": [
       "<div>\n",
       "<style scoped>\n",
       "    .dataframe tbody tr th:only-of-type {\n",
       "        vertical-align: middle;\n",
       "    }\n",
       "\n",
       "    .dataframe tbody tr th {\n",
       "        vertical-align: top;\n",
       "    }\n",
       "\n",
       "    .dataframe thead th {\n",
       "        text-align: right;\n",
       "    }\n",
       "</style>\n",
       "<table border=\"1\" class=\"dataframe\">\n",
       "  <thead>\n",
       "    <tr style=\"text-align: right;\">\n",
       "      <th></th>\n",
       "      <th>Id</th>\n",
       "      <th>Similarity</th>\n",
       "      <th>Variance</th>\n",
       "      <th>Acc MFE</th>\n",
       "      <th>Acc SHAPE</th>\n",
       "      <th>Similarity SHAPE33</th>\n",
       "      <th>Variance SHAPE33</th>\n",
       "      <th>PL norm0</th>\n",
       "      <th>PL norm1</th>\n",
       "      <th>PL norm0 SHAPE</th>\n",
       "      <th>PL norm1 SHAPE</th>\n",
       "    </tr>\n",
       "  </thead>\n",
       "  <tbody>\n",
       "    <tr>\n",
       "      <th>0</th>\n",
       "      <td>0</td>\n",
       "      <td>63.530786</td>\n",
       "      <td>510.139674</td>\n",
       "      <td>25.7</td>\n",
       "      <td>88.4</td>\n",
       "      <td>38.045195</td>\n",
       "      <td>25.589018</td>\n",
       "      <td>64.646573</td>\n",
       "      <td>0.001230</td>\n",
       "      <td>64.646545</td>\n",
       "      <td>0.001711</td>\n",
       "    </tr>\n",
       "    <tr>\n",
       "      <th>1</th>\n",
       "      <td>1</td>\n",
       "      <td>89.472191</td>\n",
       "      <td>81.662673</td>\n",
       "      <td>13.4</td>\n",
       "      <td>84.0</td>\n",
       "      <td>45.424910</td>\n",
       "      <td>128.552599</td>\n",
       "      <td>64.646553</td>\n",
       "      <td>0.000249</td>\n",
       "      <td>64.646711</td>\n",
       "      <td>0.001361</td>\n",
       "    </tr>\n",
       "    <tr>\n",
       "      <th>2</th>\n",
       "      <td>2</td>\n",
       "      <td>83.509512</td>\n",
       "      <td>14.298034</td>\n",
       "      <td>12.6</td>\n",
       "      <td>90.2</td>\n",
       "      <td>48.843246</td>\n",
       "      <td>28.679412</td>\n",
       "      <td>64.646542</td>\n",
       "      <td>0.000744</td>\n",
       "      <td>64.646542</td>\n",
       "      <td>0.000151</td>\n",
       "    </tr>\n",
       "    <tr>\n",
       "      <th>3</th>\n",
       "      <td>3</td>\n",
       "      <td>93.700939</td>\n",
       "      <td>42.010788</td>\n",
       "      <td>79.6</td>\n",
       "      <td>92.4</td>\n",
       "      <td>82.763514</td>\n",
       "      <td>72.320808</td>\n",
       "      <td>64.663145</td>\n",
       "      <td>0.000000</td>\n",
       "      <td>64.651603</td>\n",
       "      <td>0.003474</td>\n",
       "    </tr>\n",
       "    <tr>\n",
       "      <th>4</th>\n",
       "      <td>4</td>\n",
       "      <td>76.075650</td>\n",
       "      <td>42.247469</td>\n",
       "      <td>64.6</td>\n",
       "      <td>93.8</td>\n",
       "      <td>89.460440</td>\n",
       "      <td>8.769784</td>\n",
       "      <td>64.646543</td>\n",
       "      <td>0.003214</td>\n",
       "      <td>64.646558</td>\n",
       "      <td>0.000854</td>\n",
       "    </tr>\n",
       "  </tbody>\n",
       "</table>\n",
       "</div>"
      ],
      "text/plain": [
       "   Id  Similarity    Variance  Acc MFE  Acc SHAPE  Similarity SHAPE33  \\\n",
       "0   0   63.530786  510.139674     25.7       88.4           38.045195   \n",
       "1   1   89.472191   81.662673     13.4       84.0           45.424910   \n",
       "2   2   83.509512   14.298034     12.6       90.2           48.843246   \n",
       "3   3   93.700939   42.010788     79.6       92.4           82.763514   \n",
       "4   4   76.075650   42.247469     64.6       93.8           89.460440   \n",
       "\n",
       "   Variance SHAPE33   PL norm0  PL norm1  PL norm0 SHAPE  PL norm1 SHAPE  \n",
       "0         25.589018  64.646573  0.001230       64.646545        0.001711  \n",
       "1        128.552599  64.646553  0.000249       64.646711        0.001361  \n",
       "2         28.679412  64.646542  0.000744       64.646542        0.000151  \n",
       "3         72.320808  64.663145  0.000000       64.651603        0.003474  \n",
       "4          8.769784  64.646543  0.003214       64.646558        0.000854  "
      ]
     },
     "execution_count": 27,
     "metadata": {},
     "output_type": "execute_result"
    }
   ],
   "source": [
    "X_train.head()"
   ]
  },
  {
   "cell_type": "code",
   "execution_count": 29,
   "metadata": {},
   "outputs": [
    {
     "data": {
      "text/plain": [
       "(2503, 11)"
      ]
     },
     "execution_count": 29,
     "metadata": {},
     "output_type": "execute_result"
    }
   ],
   "source": [
    "X_train.shape"
   ]
  },
  {
   "cell_type": "code",
   "execution_count": 30,
   "metadata": {},
   "outputs": [],
   "source": [
    "#threshold\n",
    "th=25"
   ]
  },
  {
   "cell_type": "code",
   "execution_count": 31,
   "metadata": {},
   "outputs": [],
   "source": [
    "##Classify based on accuracy (binary); separate training set into WP and NWP sequences\n",
    "#train_wp = {} #create empty dict to add WP sequences\n",
    "#train_nwp = {} #empty dict to add NWP seqs\n",
    "#k=0 #number of WP seqs\n",
    "#h=0 #number of NWP seqs\n",
    "#for i in range(X_train.shape[0]):\n",
    "    #if (X_train.iloc[i,3])>th: #if accuracy is above a set threshold\n",
    "        #train_wp[k] = [X_train.iloc[i,0],1] #seq is WP; label is 1; add to dict\n",
    "        #k=k+1\n",
    "    #else:\n",
    "        #train_nwp[h] = [X_train.iloc[i,0],0] #seq is NWP; label is 0; add to dict\n",
    "        #h=h+1\n",
    "        \n",
    "##When classifying directability, comment this block of code out"
   ]
  },
  {
   "cell_type": "code",
   "execution_count": 32,
   "metadata": {},
   "outputs": [],
   "source": [
    "#For directability\n",
    "#splits training set into directable (dir) and non-directable (nd) sequences\n",
    "train_wp = {} #dictionary to store directable (DIR) sequences\n",
    "train_nwp = {} #dictionary to store non-directable (ND) seqs\n",
    "k=0 #count number of dir seqs; initialize as 0\n",
    "h=0 #count number of nd seqs; initialize as 0\n",
    "for i in range(X_train.shape[0]):\n",
    "    if (X_train.iloc[i,4]-X_train.iloc[i,3])>th: #if accuracy_with_SHAPE-accuracy> some threshold\n",
    "        train_wp[k] = [X_train.iloc[i,0],1] #The sequence is labelled as directable (1), ID added to dict\n",
    "        k=k+1\n",
    "    else: #if accuracy_with_SHAPE-accuracy<= some threshold\n",
    "        train_nwp[h] = [X_train.iloc[i,0],0] #The sequence is labelled as non-directable (0), ID added to dict\n",
    "        h=h+1\n",
    "        \n",
    "#When classifying accuracy, comment this block of code out"
   ]
  },
  {
   "cell_type": "code",
   "execution_count": 33,
   "metadata": {},
   "outputs": [
    {
     "name": "stdout",
     "output_type": "stream",
     "text": [
      "1554\n"
     ]
    }
   ],
   "source": [
    "print(k)"
   ]
  },
  {
   "cell_type": "code",
   "execution_count": 34,
   "metadata": {},
   "outputs": [
    {
     "name": "stdout",
     "output_type": "stream",
     "text": [
      "949\n"
     ]
    }
   ],
   "source": [
    "print(h)"
   ]
  },
  {
   "cell_type": "code",
   "execution_count": 35,
   "metadata": {},
   "outputs": [],
   "source": [
    "#convert to dataframe with two columns: ID and Label (label should be 1)\n",
    "train_wp=pd.DataFrame.from_dict(train_wp, orient='index', columns=['Id','Labels'])"
   ]
  },
  {
   "cell_type": "code",
   "execution_count": 36,
   "metadata": {},
   "outputs": [],
   "source": [
    "#convert to dataframe with two columns: ID and Label (label should be 0)\n",
    "train_nwp=pd.DataFrame.from_dict(train_nwp, orient='index', columns=['Id','Labels'])"
   ]
  },
  {
   "cell_type": "code",
   "execution_count": 37,
   "metadata": {},
   "outputs": [
    {
     "data": {
      "text/html": [
       "<div>\n",
       "<style scoped>\n",
       "    .dataframe tbody tr th:only-of-type {\n",
       "        vertical-align: middle;\n",
       "    }\n",
       "\n",
       "    .dataframe tbody tr th {\n",
       "        vertical-align: top;\n",
       "    }\n",
       "\n",
       "    .dataframe thead th {\n",
       "        text-align: right;\n",
       "    }\n",
       "</style>\n",
       "<table border=\"1\" class=\"dataframe\">\n",
       "  <thead>\n",
       "    <tr style=\"text-align: right;\">\n",
       "      <th></th>\n",
       "      <th>Id</th>\n",
       "      <th>Labels</th>\n",
       "    </tr>\n",
       "  </thead>\n",
       "  <tbody>\n",
       "    <tr>\n",
       "      <th>1549</th>\n",
       "      <td>3161</td>\n",
       "      <td>1</td>\n",
       "    </tr>\n",
       "    <tr>\n",
       "      <th>1550</th>\n",
       "      <td>3162</td>\n",
       "      <td>1</td>\n",
       "    </tr>\n",
       "    <tr>\n",
       "      <th>1551</th>\n",
       "      <td>3163</td>\n",
       "      <td>1</td>\n",
       "    </tr>\n",
       "    <tr>\n",
       "      <th>1552</th>\n",
       "      <td>3164</td>\n",
       "      <td>1</td>\n",
       "    </tr>\n",
       "    <tr>\n",
       "      <th>1553</th>\n",
       "      <td>3165</td>\n",
       "      <td>1</td>\n",
       "    </tr>\n",
       "  </tbody>\n",
       "</table>\n",
       "</div>"
      ],
      "text/plain": [
       "        Id  Labels\n",
       "1549  3161       1\n",
       "1550  3162       1\n",
       "1551  3163       1\n",
       "1552  3164       1\n",
       "1553  3165       1"
      ]
     },
     "execution_count": 37,
     "metadata": {},
     "output_type": "execute_result"
    }
   ],
   "source": [
    "train_wp.tail()"
   ]
  },
  {
   "cell_type": "code",
   "execution_count": 38,
   "metadata": {},
   "outputs": [
    {
     "data": {
      "text/plain": [
       "(949, 2)"
      ]
     },
     "execution_count": 38,
     "metadata": {},
     "output_type": "execute_result"
    }
   ],
   "source": [
    "train_nwp.shape"
   ]
  },
  {
   "cell_type": "code",
   "execution_count": 39,
   "metadata": {},
   "outputs": [],
   "source": [
    "#now we balance the training sets to have an equal number of WP and NWP sequences (or an equal number of DIR and ND seqs)\n",
    "#take the set (either train_WP or train_NWP) with a lower number of h and k\n"
   ]
  },
  {
   "cell_type": "code",
   "execution_count": 40,
   "metadata": {},
   "outputs": [],
   "source": [
    "#make the number of WP seqs (or DIR) equal to the number of NWP (ND); use when there are more WP seqs\n",
    "train_wp1=train_wp.iloc[:min(h,k),:] "
   ]
  },
  {
   "cell_type": "code",
   "execution_count": 41,
   "metadata": {},
   "outputs": [],
   "source": [
    "#make the number of NWP seqs (or ND) equal to the number of WP (DIR); use when there are more NWP seqs\n",
    "#train_nwp1=train_nwp.iloc[:min(h,k),:] "
   ]
  },
  {
   "cell_type": "code",
   "execution_count": 42,
   "metadata": {},
   "outputs": [],
   "source": [
    "#balance training set to have equal WP and NWP seqs; use when more WP seqs initially\n",
    "frames = [train_wp1, train_nwp] "
   ]
  },
  {
   "cell_type": "code",
   "execution_count": 43,
   "metadata": {},
   "outputs": [],
   "source": [
    "#frames = [train_wp, train_nwp1] #balance training set to have equal WP and NWP seqs; use when more NWP seqs initially"
   ]
  },
  {
   "cell_type": "code",
   "execution_count": 44,
   "metadata": {},
   "outputs": [],
   "source": [
    "#convert balanced set to dataframe\n",
    "train_balanced = pd.concat(frames)"
   ]
  },
  {
   "cell_type": "code",
   "execution_count": 45,
   "metadata": {},
   "outputs": [],
   "source": [
    "#change IDs to int type\n",
    "train_balanced['Id']=train_balanced['Id'].astype('Int64')"
   ]
  },
  {
   "cell_type": "code",
   "execution_count": 46,
   "metadata": {},
   "outputs": [
    {
     "data": {
      "text/plain": [
       "<bound method NDFrame.head of        Id  Labels\n",
       "0       0       1\n",
       "1       1       1\n",
       "2       2       1\n",
       "3       4       1\n",
       "4       6       1\n",
       "..    ...     ...\n",
       "944  3097       0\n",
       "945  3137       0\n",
       "946  3138       0\n",
       "947  3148       0\n",
       "948  3149       0\n",
       "\n",
       "[1898 rows x 2 columns]>"
      ]
     },
     "execution_count": 46,
     "metadata": {},
     "output_type": "execute_result"
    }
   ],
   "source": [
    "train_balanced.head"
   ]
  },
  {
   "cell_type": "code",
   "execution_count": 47,
   "metadata": {},
   "outputs": [],
   "source": [
    "#store the labels for the balanced training set (1 means seq is WP, 0 means seq is NWP) \n",
    "#If training directability, 1 means seq is DIR, and 0 means it is ND\n",
    "y_train=train_balanced.iloc[:,1].values"
   ]
  },
  {
   "cell_type": "code",
   "execution_count": 48,
   "metadata": {},
   "outputs": [],
   "source": [
    "#balances the original training set containing the features\n",
    "X_train=X_train.loc[X_train['Id'].isin(train_balanced.iloc[:,0]),:]"
   ]
  },
  {
   "cell_type": "code",
   "execution_count": 49,
   "metadata": {},
   "outputs": [
    {
     "data": {
      "text/html": [
       "<div>\n",
       "<style scoped>\n",
       "    .dataframe tbody tr th:only-of-type {\n",
       "        vertical-align: middle;\n",
       "    }\n",
       "\n",
       "    .dataframe tbody tr th {\n",
       "        vertical-align: top;\n",
       "    }\n",
       "\n",
       "    .dataframe thead th {\n",
       "        text-align: right;\n",
       "    }\n",
       "</style>\n",
       "<table border=\"1\" class=\"dataframe\">\n",
       "  <thead>\n",
       "    <tr style=\"text-align: right;\">\n",
       "      <th></th>\n",
       "      <th>Id</th>\n",
       "      <th>Similarity</th>\n",
       "      <th>Variance</th>\n",
       "      <th>Acc MFE</th>\n",
       "      <th>Acc SHAPE</th>\n",
       "      <th>Similarity SHAPE33</th>\n",
       "      <th>Variance SHAPE33</th>\n",
       "      <th>PL norm0</th>\n",
       "      <th>PL norm1</th>\n",
       "      <th>PL norm0 SHAPE</th>\n",
       "      <th>PL norm1 SHAPE</th>\n",
       "    </tr>\n",
       "  </thead>\n",
       "  <tbody>\n",
       "    <tr>\n",
       "      <th>0</th>\n",
       "      <td>0</td>\n",
       "      <td>63.530786</td>\n",
       "      <td>510.139674</td>\n",
       "      <td>25.7</td>\n",
       "      <td>88.4</td>\n",
       "      <td>38.045195</td>\n",
       "      <td>25.589018</td>\n",
       "      <td>64.646573</td>\n",
       "      <td>0.001230</td>\n",
       "      <td>64.646545</td>\n",
       "      <td>0.001711</td>\n",
       "    </tr>\n",
       "    <tr>\n",
       "      <th>1</th>\n",
       "      <td>1</td>\n",
       "      <td>89.472191</td>\n",
       "      <td>81.662673</td>\n",
       "      <td>13.4</td>\n",
       "      <td>84.0</td>\n",
       "      <td>45.424910</td>\n",
       "      <td>128.552599</td>\n",
       "      <td>64.646553</td>\n",
       "      <td>0.000249</td>\n",
       "      <td>64.646711</td>\n",
       "      <td>0.001361</td>\n",
       "    </tr>\n",
       "    <tr>\n",
       "      <th>2</th>\n",
       "      <td>2</td>\n",
       "      <td>83.509512</td>\n",
       "      <td>14.298034</td>\n",
       "      <td>12.6</td>\n",
       "      <td>90.2</td>\n",
       "      <td>48.843246</td>\n",
       "      <td>28.679412</td>\n",
       "      <td>64.646542</td>\n",
       "      <td>0.000744</td>\n",
       "      <td>64.646542</td>\n",
       "      <td>0.000151</td>\n",
       "    </tr>\n",
       "    <tr>\n",
       "      <th>3</th>\n",
       "      <td>3</td>\n",
       "      <td>93.700939</td>\n",
       "      <td>42.010788</td>\n",
       "      <td>79.6</td>\n",
       "      <td>92.4</td>\n",
       "      <td>82.763514</td>\n",
       "      <td>72.320808</td>\n",
       "      <td>64.663145</td>\n",
       "      <td>0.000000</td>\n",
       "      <td>64.651603</td>\n",
       "      <td>0.003474</td>\n",
       "    </tr>\n",
       "    <tr>\n",
       "      <th>4</th>\n",
       "      <td>4</td>\n",
       "      <td>76.075650</td>\n",
       "      <td>42.247469</td>\n",
       "      <td>64.6</td>\n",
       "      <td>93.8</td>\n",
       "      <td>89.460440</td>\n",
       "      <td>8.769784</td>\n",
       "      <td>64.646543</td>\n",
       "      <td>0.003214</td>\n",
       "      <td>64.646558</td>\n",
       "      <td>0.000854</td>\n",
       "    </tr>\n",
       "  </tbody>\n",
       "</table>\n",
       "</div>"
      ],
      "text/plain": [
       "   Id  Similarity    Variance  Acc MFE  Acc SHAPE  Similarity SHAPE33  \\\n",
       "0   0   63.530786  510.139674     25.7       88.4           38.045195   \n",
       "1   1   89.472191   81.662673     13.4       84.0           45.424910   \n",
       "2   2   83.509512   14.298034     12.6       90.2           48.843246   \n",
       "3   3   93.700939   42.010788     79.6       92.4           82.763514   \n",
       "4   4   76.075650   42.247469     64.6       93.8           89.460440   \n",
       "\n",
       "   Variance SHAPE33   PL norm0  PL norm1  PL norm0 SHAPE  PL norm1 SHAPE  \n",
       "0         25.589018  64.646573  0.001230       64.646545        0.001711  \n",
       "1        128.552599  64.646553  0.000249       64.646711        0.001361  \n",
       "2         28.679412  64.646542  0.000744       64.646542        0.000151  \n",
       "3         72.320808  64.663145  0.000000       64.651603        0.003474  \n",
       "4          8.769784  64.646543  0.003214       64.646558        0.000854  "
      ]
     },
     "execution_count": 49,
     "metadata": {},
     "output_type": "execute_result"
    }
   ],
   "source": [
    "X_train.head()"
   ]
  },
  {
   "cell_type": "code",
   "execution_count": 50,
   "metadata": {},
   "outputs": [
    {
     "data": {
      "text/html": [
       "<div>\n",
       "<style scoped>\n",
       "    .dataframe tbody tr th:only-of-type {\n",
       "        vertical-align: middle;\n",
       "    }\n",
       "\n",
       "    .dataframe tbody tr th {\n",
       "        vertical-align: top;\n",
       "    }\n",
       "\n",
       "    .dataframe thead th {\n",
       "        text-align: right;\n",
       "    }\n",
       "</style>\n",
       "<table border=\"1\" class=\"dataframe\">\n",
       "  <thead>\n",
       "    <tr style=\"text-align: right;\">\n",
       "      <th></th>\n",
       "      <th>Similarity</th>\n",
       "      <th>Variance</th>\n",
       "      <th>Similarity SHAPE33</th>\n",
       "      <th>Variance SHAPE33</th>\n",
       "      <th>PL norm0</th>\n",
       "      <th>PL norm1</th>\n",
       "      <th>PL norm0 SHAPE</th>\n",
       "      <th>PL norm1 SHAPE</th>\n",
       "    </tr>\n",
       "  </thead>\n",
       "  <tbody>\n",
       "    <tr>\n",
       "      <th>0</th>\n",
       "      <td>63.530786</td>\n",
       "      <td>510.139674</td>\n",
       "      <td>38.045195</td>\n",
       "      <td>25.589018</td>\n",
       "      <td>64.646573</td>\n",
       "      <td>0.001230</td>\n",
       "      <td>64.646545</td>\n",
       "      <td>0.001711</td>\n",
       "    </tr>\n",
       "    <tr>\n",
       "      <th>1</th>\n",
       "      <td>89.472191</td>\n",
       "      <td>81.662673</td>\n",
       "      <td>45.424910</td>\n",
       "      <td>128.552599</td>\n",
       "      <td>64.646553</td>\n",
       "      <td>0.000249</td>\n",
       "      <td>64.646711</td>\n",
       "      <td>0.001361</td>\n",
       "    </tr>\n",
       "    <tr>\n",
       "      <th>2</th>\n",
       "      <td>83.509512</td>\n",
       "      <td>14.298034</td>\n",
       "      <td>48.843246</td>\n",
       "      <td>28.679412</td>\n",
       "      <td>64.646542</td>\n",
       "      <td>0.000744</td>\n",
       "      <td>64.646542</td>\n",
       "      <td>0.000151</td>\n",
       "    </tr>\n",
       "    <tr>\n",
       "      <th>3</th>\n",
       "      <td>93.700939</td>\n",
       "      <td>42.010788</td>\n",
       "      <td>82.763514</td>\n",
       "      <td>72.320808</td>\n",
       "      <td>64.663145</td>\n",
       "      <td>0.000000</td>\n",
       "      <td>64.651603</td>\n",
       "      <td>0.003474</td>\n",
       "    </tr>\n",
       "    <tr>\n",
       "      <th>4</th>\n",
       "      <td>76.075650</td>\n",
       "      <td>42.247469</td>\n",
       "      <td>89.460440</td>\n",
       "      <td>8.769784</td>\n",
       "      <td>64.646543</td>\n",
       "      <td>0.003214</td>\n",
       "      <td>64.646558</td>\n",
       "      <td>0.000854</td>\n",
       "    </tr>\n",
       "  </tbody>\n",
       "</table>\n",
       "</div>"
      ],
      "text/plain": [
       "   Similarity    Variance  Similarity SHAPE33  Variance SHAPE33   PL norm0  \\\n",
       "0   63.530786  510.139674           38.045195         25.589018  64.646573   \n",
       "1   89.472191   81.662673           45.424910        128.552599  64.646553   \n",
       "2   83.509512   14.298034           48.843246         28.679412  64.646542   \n",
       "3   93.700939   42.010788           82.763514         72.320808  64.663145   \n",
       "4   76.075650   42.247469           89.460440          8.769784  64.646543   \n",
       "\n",
       "   PL norm1  PL norm0 SHAPE  PL norm1 SHAPE  \n",
       "0  0.001230       64.646545        0.001711  \n",
       "1  0.000249       64.646711        0.001361  \n",
       "2  0.000744       64.646542        0.000151  \n",
       "3  0.000000       64.651603        0.003474  \n",
       "4  0.003214       64.646558        0.000854  "
      ]
     },
     "execution_count": 50,
     "metadata": {},
     "output_type": "execute_result"
    }
   ],
   "source": [
    "#make it so the Training set only contains the 8 similarity/var and topological features\n",
    "X_train=X_train.drop(columns=['Id','Acc MFE','Acc SHAPE'])\n",
    "X_train.head()"
   ]
  },
  {
   "cell_type": "code",
   "execution_count": 51,
   "metadata": {},
   "outputs": [
    {
     "data": {
      "text/plain": [
       "(1898, 8)"
      ]
     },
     "execution_count": 51,
     "metadata": {},
     "output_type": "execute_result"
    }
   ],
   "source": [
    "X_train.shape"
   ]
  },
  {
   "cell_type": "code",
   "execution_count": 52,
   "metadata": {},
   "outputs": [
    {
     "data": {
      "text/plain": [
       "False"
      ]
     },
     "execution_count": 52,
     "metadata": {},
     "output_type": "execute_result"
    }
   ],
   "source": [
    "X_train.isnull().values.any()"
   ]
  },
  {
   "cell_type": "code",
   "execution_count": 53,
   "metadata": {},
   "outputs": [],
   "source": [
    "##Option to remove the 4 similarity/variance features\n",
    "#X_train=X_train.drop(columns=['PL norm0','PL norm0 SHAPE','PL norm1','PL norm1 SHAPE'])"
   ]
  },
  {
   "cell_type": "code",
   "execution_count": 54,
   "metadata": {},
   "outputs": [],
   "source": [
    "##Option to remove the 4 topological features\n",
    "#X_train=X_train.drop(columns=['Similarity','Variance','Similarity SHAPE33','Variance SHAPE33'])"
   ]
  },
  {
   "cell_type": "code",
   "execution_count": 55,
   "metadata": {},
   "outputs": [],
   "source": [
    "#X_train.head()"
   ]
  },
  {
   "cell_type": "code",
   "execution_count": 56,
   "metadata": {},
   "outputs": [],
   "source": [
    "#for test set\n",
    "#to match indexes from Matt's data\n",
    "#puts all of the features in the training set in one dict\n",
    "#same process as match train, but for the test sets\n",
    "match_test = {}\n",
    "k=0\n",
    "for i in range(plTestSetA0.shape[0]):\n",
    "    for j in range(df3.shape[0]):\n",
    "        if (plTestSetA0.iloc[i,1]==df3.iloc[j,0]):\n",
    "            #match_test[k] =[df3.iloc[j,0],df3.iloc[j,1],df3.iloc[j,2],df3.iloc[j,3],df3.iloc[j,4],df4.iloc[j,1],df4.iloc[j,2],plTestSetA.iloc[i,3],plTestSetAShape.iloc[i,3]]\n",
    "            match_test[k] =[df3.iloc[j,0],df3.iloc[j,1],df3.iloc[j,2],df3.iloc[j,3],df3.iloc[j,4],df4.iloc[j,1],df4.iloc[j,2],plTestSetA0.iloc[i,3],plTestSetA1.iloc[i,3],plTestSetAShape0.iloc[i,3],plTestSetAShape1.iloc[i,3]]\n",
    "            k=k+1"
   ]
  },
  {
   "cell_type": "code",
   "execution_count": 57,
   "metadata": {},
   "outputs": [
    {
     "name": "stdout",
     "output_type": "stream",
     "text": [
      "426\n"
     ]
    }
   ],
   "source": [
    "print(k)"
   ]
  },
  {
   "cell_type": "code",
   "execution_count": 58,
   "metadata": {},
   "outputs": [],
   "source": [
    "#convert to dataframe\n",
    "X_test=pd.DataFrame.from_dict(match_test, orient='index', columns=['Id','Similarity','Variance','Acc MFE','Acc SHAPE','Similarity SHAPE33','Variance SHAPE33','PL norm0','PL norm1','PL norm0 SHAPE','PL norm1 SHAPE'])"
   ]
  },
  {
   "cell_type": "code",
   "execution_count": 59,
   "metadata": {},
   "outputs": [
    {
     "data": {
      "text/html": [
       "<div>\n",
       "<style scoped>\n",
       "    .dataframe tbody tr th:only-of-type {\n",
       "        vertical-align: middle;\n",
       "    }\n",
       "\n",
       "    .dataframe tbody tr th {\n",
       "        vertical-align: top;\n",
       "    }\n",
       "\n",
       "    .dataframe thead th {\n",
       "        text-align: right;\n",
       "    }\n",
       "</style>\n",
       "<table border=\"1\" class=\"dataframe\">\n",
       "  <thead>\n",
       "    <tr style=\"text-align: right;\">\n",
       "      <th></th>\n",
       "      <th>Id</th>\n",
       "      <th>Similarity</th>\n",
       "      <th>Variance</th>\n",
       "      <th>Acc MFE</th>\n",
       "      <th>Acc SHAPE</th>\n",
       "      <th>Similarity SHAPE33</th>\n",
       "      <th>Variance SHAPE33</th>\n",
       "      <th>PL norm0</th>\n",
       "      <th>PL norm1</th>\n",
       "      <th>PL norm0 SHAPE</th>\n",
       "      <th>PL norm1 SHAPE</th>\n",
       "    </tr>\n",
       "  </thead>\n",
       "  <tbody>\n",
       "    <tr>\n",
       "      <th>0</th>\n",
       "      <td>0</td>\n",
       "      <td>96.423690</td>\n",
       "      <td>58.736204</td>\n",
       "      <td>47.1</td>\n",
       "      <td>100.0</td>\n",
       "      <td>83.909287</td>\n",
       "      <td>62.903218</td>\n",
       "      <td>64.998215</td>\n",
       "      <td>0.000000</td>\n",
       "      <td>64.975018</td>\n",
       "      <td>0.000000</td>\n",
       "    </tr>\n",
       "    <tr>\n",
       "      <th>1</th>\n",
       "      <td>1</td>\n",
       "      <td>55.204598</td>\n",
       "      <td>1400.598193</td>\n",
       "      <td>54.7</td>\n",
       "      <td>100.0</td>\n",
       "      <td>98.291925</td>\n",
       "      <td>14.163227</td>\n",
       "      <td>65.194148</td>\n",
       "      <td>0.000000</td>\n",
       "      <td>64.982104</td>\n",
       "      <td>0.000000</td>\n",
       "    </tr>\n",
       "    <tr>\n",
       "      <th>2</th>\n",
       "      <td>2</td>\n",
       "      <td>81.206294</td>\n",
       "      <td>228.163154</td>\n",
       "      <td>73.2</td>\n",
       "      <td>97.6</td>\n",
       "      <td>91.866090</td>\n",
       "      <td>181.236396</td>\n",
       "      <td>64.758183</td>\n",
       "      <td>0.000000</td>\n",
       "      <td>64.896292</td>\n",
       "      <td>0.000000</td>\n",
       "    </tr>\n",
       "    <tr>\n",
       "      <th>3</th>\n",
       "      <td>3</td>\n",
       "      <td>94.482379</td>\n",
       "      <td>119.418192</td>\n",
       "      <td>90.7</td>\n",
       "      <td>97.6</td>\n",
       "      <td>98.162743</td>\n",
       "      <td>42.056933</td>\n",
       "      <td>64.873570</td>\n",
       "      <td>0.000161</td>\n",
       "      <td>65.111365</td>\n",
       "      <td>0.002203</td>\n",
       "    </tr>\n",
       "    <tr>\n",
       "      <th>4</th>\n",
       "      <td>4</td>\n",
       "      <td>38.345264</td>\n",
       "      <td>539.449350</td>\n",
       "      <td>55.1</td>\n",
       "      <td>97.4</td>\n",
       "      <td>96.204819</td>\n",
       "      <td>27.614676</td>\n",
       "      <td>64.819485</td>\n",
       "      <td>0.000000</td>\n",
       "      <td>64.738559</td>\n",
       "      <td>0.000000</td>\n",
       "    </tr>\n",
       "  </tbody>\n",
       "</table>\n",
       "</div>"
      ],
      "text/plain": [
       "   Id  Similarity     Variance  Acc MFE  Acc SHAPE  Similarity SHAPE33  \\\n",
       "0   0   96.423690    58.736204     47.1      100.0           83.909287   \n",
       "1   1   55.204598  1400.598193     54.7      100.0           98.291925   \n",
       "2   2   81.206294   228.163154     73.2       97.6           91.866090   \n",
       "3   3   94.482379   119.418192     90.7       97.6           98.162743   \n",
       "4   4   38.345264   539.449350     55.1       97.4           96.204819   \n",
       "\n",
       "   Variance SHAPE33   PL norm0  PL norm1  PL norm0 SHAPE  PL norm1 SHAPE  \n",
       "0         62.903218  64.998215  0.000000       64.975018        0.000000  \n",
       "1         14.163227  65.194148  0.000000       64.982104        0.000000  \n",
       "2        181.236396  64.758183  0.000000       64.896292        0.000000  \n",
       "3         42.056933  64.873570  0.000161       65.111365        0.002203  \n",
       "4         27.614676  64.819485  0.000000       64.738559        0.000000  "
      ]
     },
     "execution_count": 59,
     "metadata": {},
     "output_type": "execute_result"
    }
   ],
   "source": [
    "X_test.head()"
   ]
  },
  {
   "cell_type": "code",
   "execution_count": 60,
   "metadata": {},
   "outputs": [
    {
     "data": {
      "text/plain": [
       "(426, 11)"
      ]
     },
     "execution_count": 60,
     "metadata": {},
     "output_type": "execute_result"
    }
   ],
   "source": [
    "\n",
    "X_test.shape"
   ]
  },
  {
   "cell_type": "code",
   "execution_count": 61,
   "metadata": {},
   "outputs": [],
   "source": [
    "## test for accuracy (binary)\n",
    "##split test set into WP and NWP sequences\n",
    "\n",
    "#test_wp = {} #empty dict to add WP sequences\n",
    "#test_nwp = {} #empty dict to add NWP sequences\n",
    "#k=0 #number of WP seqs\n",
    "#h=0 #number of NWP seqs\n",
    "#for i in range(X_test.shape[0]):\n",
    "    #if (X_test.iloc[i,3])>th: #if accuracy is above the threshold:\n",
    "        #test_wp[k] = [X_test.iloc[i,0], 1] #seq is WP; add to dict; label is 1\n",
    "        #k=k+1\n",
    "    #else: #if acc below threshold:\n",
    "        #test_nwp[h] = [X_test.iloc[i,0], 0] #seq is NWP; add to dict; label is 0\n",
    "        #h=h+1\n",
    "#When testing for directability, comment this block of code out"
   ]
  },
  {
   "cell_type": "code",
   "execution_count": 62,
   "metadata": {},
   "outputs": [],
   "source": [
    "##Directability\n",
    "##split seq into directble (dir) and non-directable (ND) seqs\n",
    "test_wp = {} #empty dict to add DIR sequences\n",
    "test_nwp = {} #empty dict to add ND sequences\n",
    "k=0 #count the number of DIR seqs; initialize counter as 0\n",
    "h=0 #count the number of ND seqs; initialize as 0\n",
    "for i in range(X_test.shape[0]):\n",
    "    if (X_test.iloc[i,4]-X_test.iloc[i,3])>th: #if acc_after_shape-acc>threshold\n",
    "        test_wp[k] = [X_test.iloc[i,0], 1] #seq is dir; add to dict; label is 1\n",
    "        k=k+1\n",
    "    else: #if acc_after_shape-acc<=threshold\n",
    "        test_nwp[h] = [X_test.iloc[i,0], 0] #seq is ND; add to dict; label is 0\n",
    "        h=h+1\n",
    "#When testing for accuracy, comment this block of code out"
   ]
  },
  {
   "cell_type": "code",
   "execution_count": 63,
   "metadata": {},
   "outputs": [
    {
     "name": "stdout",
     "output_type": "stream",
     "text": [
      "259\n"
     ]
    }
   ],
   "source": [
    "print(k)"
   ]
  },
  {
   "cell_type": "code",
   "execution_count": 64,
   "metadata": {},
   "outputs": [
    {
     "name": "stdout",
     "output_type": "stream",
     "text": [
      "167\n"
     ]
    }
   ],
   "source": [
    "print(h)"
   ]
  },
  {
   "cell_type": "code",
   "execution_count": 65,
   "metadata": {},
   "outputs": [],
   "source": [
    "test_wp=pd.DataFrame.from_dict(test_wp, orient='index', columns=['Id','Labels']) #convert to dataframe"
   ]
  },
  {
   "cell_type": "code",
   "execution_count": 66,
   "metadata": {},
   "outputs": [],
   "source": [
    "test_nwp=pd.DataFrame.from_dict(test_nwp, orient='index', columns=['Id','Labels']) #convert to dataframe"
   ]
  },
  {
   "cell_type": "code",
   "execution_count": 67,
   "metadata": {},
   "outputs": [],
   "source": [
    "#make the number of WP seqs (or DIR) equal to the number of NWP (ND); use when there are more WP seqs\n",
    "test_wp1=test_wp.iloc[:min(h,k),:] "
   ]
  },
  {
   "cell_type": "code",
   "execution_count": 68,
   "metadata": {},
   "outputs": [],
   "source": [
    "##make the number of NWP seqs (or ND) equal to the number of WP (DIR); use when there are more NWP seqs\n",
    "##otherwise comment this block out\n",
    "#test_nwp1=test_nwp.iloc[:min(h,k),:] "
   ]
  },
  {
   "cell_type": "code",
   "execution_count": 69,
   "metadata": {},
   "outputs": [],
   "source": [
    "#balance test set to have equal WP and NWP seqs; use when more WP seqs in test set\n",
    "#otherwise, comment this block of code out\n",
    "test_frames = [test_wp1, test_nwp] "
   ]
  },
  {
   "cell_type": "code",
   "execution_count": 70,
   "metadata": {},
   "outputs": [],
   "source": [
    "##balance test set; use when there are more NWP seqs\n",
    "##otherwise, comment this block of code out\n",
    "#test_frames = [test_wp, test_nwp1] "
   ]
  },
  {
   "cell_type": "code",
   "execution_count": 71,
   "metadata": {},
   "outputs": [],
   "source": [
    "test_balanced = pd.concat(test_frames) #convert to dataframe"
   ]
  },
  {
   "cell_type": "code",
   "execution_count": 72,
   "metadata": {},
   "outputs": [],
   "source": [
    "test_balanced['Id']=test_balanced['Id'].astype('Int64') #convert IDs to int"
   ]
  },
  {
   "cell_type": "code",
   "execution_count": 73,
   "metadata": {},
   "outputs": [
    {
     "data": {
      "text/plain": [
       "<bound method NDFrame.tail of       Id  Labels\n",
       "0      0       1\n",
       "1      1       1\n",
       "2      4       1\n",
       "3      6       1\n",
       "4      8       1\n",
       "..   ...     ...\n",
       "162  557       0\n",
       "163  563       0\n",
       "164  568       0\n",
       "165  569       0\n",
       "166  573       0\n",
       "\n",
       "[334 rows x 2 columns]>"
      ]
     },
     "execution_count": 73,
     "metadata": {},
     "output_type": "execute_result"
    }
   ],
   "source": [
    "test_balanced.tail"
   ]
  },
  {
   "cell_type": "code",
   "execution_count": 74,
   "metadata": {},
   "outputs": [],
   "source": [
    "y_test=test_balanced.iloc[:,1].values #store the labels of the test set"
   ]
  },
  {
   "cell_type": "code",
   "execution_count": 75,
   "metadata": {},
   "outputs": [],
   "source": [
    "#update original test set (containing features) to be balanced\n",
    "X_test=X_test.loc[X_test['Id'].isin(test_balanced.iloc[:,0]),:] "
   ]
  },
  {
   "cell_type": "code",
   "execution_count": 76,
   "metadata": {},
   "outputs": [
    {
     "data": {
      "text/html": [
       "<div>\n",
       "<style scoped>\n",
       "    .dataframe tbody tr th:only-of-type {\n",
       "        vertical-align: middle;\n",
       "    }\n",
       "\n",
       "    .dataframe tbody tr th {\n",
       "        vertical-align: top;\n",
       "    }\n",
       "\n",
       "    .dataframe thead th {\n",
       "        text-align: right;\n",
       "    }\n",
       "</style>\n",
       "<table border=\"1\" class=\"dataframe\">\n",
       "  <thead>\n",
       "    <tr style=\"text-align: right;\">\n",
       "      <th></th>\n",
       "      <th>Id</th>\n",
       "      <th>Similarity</th>\n",
       "      <th>Variance</th>\n",
       "      <th>Acc MFE</th>\n",
       "      <th>Acc SHAPE</th>\n",
       "      <th>Similarity SHAPE33</th>\n",
       "      <th>Variance SHAPE33</th>\n",
       "      <th>PL norm0</th>\n",
       "      <th>PL norm1</th>\n",
       "      <th>PL norm0 SHAPE</th>\n",
       "      <th>PL norm1 SHAPE</th>\n",
       "    </tr>\n",
       "  </thead>\n",
       "  <tbody>\n",
       "    <tr>\n",
       "      <th>392</th>\n",
       "      <td>557</td>\n",
       "      <td>57.179333</td>\n",
       "      <td>460.342321</td>\n",
       "      <td>91.6</td>\n",
       "      <td>93.3</td>\n",
       "      <td>99.760192</td>\n",
       "      <td>1.940893</td>\n",
       "      <td>64.773998</td>\n",
       "      <td>0.000174</td>\n",
       "      <td>65.407453</td>\n",
       "      <td>0.000000</td>\n",
       "    </tr>\n",
       "    <tr>\n",
       "      <th>398</th>\n",
       "      <td>563</td>\n",
       "      <td>97.328747</td>\n",
       "      <td>9.559739</td>\n",
       "      <td>94.6</td>\n",
       "      <td>98.5</td>\n",
       "      <td>98.089701</td>\n",
       "      <td>8.290126</td>\n",
       "      <td>64.755418</td>\n",
       "      <td>0.000000</td>\n",
       "      <td>64.935555</td>\n",
       "      <td>0.000000</td>\n",
       "    </tr>\n",
       "    <tr>\n",
       "      <th>403</th>\n",
       "      <td>568</td>\n",
       "      <td>96.889491</td>\n",
       "      <td>4.343076</td>\n",
       "      <td>91.0</td>\n",
       "      <td>96.8</td>\n",
       "      <td>97.539876</td>\n",
       "      <td>3.141534</td>\n",
       "      <td>64.648163</td>\n",
       "      <td>0.001078</td>\n",
       "      <td>64.658141</td>\n",
       "      <td>0.003022</td>\n",
       "    </tr>\n",
       "    <tr>\n",
       "      <th>404</th>\n",
       "      <td>569</td>\n",
       "      <td>93.965583</td>\n",
       "      <td>41.374295</td>\n",
       "      <td>83.8</td>\n",
       "      <td>84.9</td>\n",
       "      <td>96.042078</td>\n",
       "      <td>6.323308</td>\n",
       "      <td>64.748531</td>\n",
       "      <td>0.001685</td>\n",
       "      <td>64.903748</td>\n",
       "      <td>0.002185</td>\n",
       "    </tr>\n",
       "    <tr>\n",
       "      <th>408</th>\n",
       "      <td>573</td>\n",
       "      <td>52.245536</td>\n",
       "      <td>1239.987575</td>\n",
       "      <td>66.8</td>\n",
       "      <td>88.7</td>\n",
       "      <td>91.676610</td>\n",
       "      <td>14.435478</td>\n",
       "      <td>64.660375</td>\n",
       "      <td>0.001870</td>\n",
       "      <td>64.665217</td>\n",
       "      <td>0.001768</td>\n",
       "    </tr>\n",
       "  </tbody>\n",
       "</table>\n",
       "</div>"
      ],
      "text/plain": [
       "      Id  Similarity     Variance  Acc MFE  Acc SHAPE  Similarity SHAPE33  \\\n",
       "392  557   57.179333   460.342321     91.6       93.3           99.760192   \n",
       "398  563   97.328747     9.559739     94.6       98.5           98.089701   \n",
       "403  568   96.889491     4.343076     91.0       96.8           97.539876   \n",
       "404  569   93.965583    41.374295     83.8       84.9           96.042078   \n",
       "408  573   52.245536  1239.987575     66.8       88.7           91.676610   \n",
       "\n",
       "     Variance SHAPE33   PL norm0  PL norm1  PL norm0 SHAPE  PL norm1 SHAPE  \n",
       "392          1.940893  64.773998  0.000174       65.407453        0.000000  \n",
       "398          8.290126  64.755418  0.000000       64.935555        0.000000  \n",
       "403          3.141534  64.648163  0.001078       64.658141        0.003022  \n",
       "404          6.323308  64.748531  0.001685       64.903748        0.002185  \n",
       "408         14.435478  64.660375  0.001870       64.665217        0.001768  "
      ]
     },
     "execution_count": 76,
     "metadata": {},
     "output_type": "execute_result"
    }
   ],
   "source": [
    "X_test.tail() "
   ]
  },
  {
   "cell_type": "code",
   "execution_count": 77,
   "metadata": {},
   "outputs": [],
   "source": [
    "#remove everything but the 8 features\n",
    "X_test=X_test.drop(columns=['Id','Acc MFE','Acc SHAPE'])"
   ]
  },
  {
   "cell_type": "code",
   "execution_count": 78,
   "metadata": {},
   "outputs": [
    {
     "data": {
      "text/html": [
       "<div>\n",
       "<style scoped>\n",
       "    .dataframe tbody tr th:only-of-type {\n",
       "        vertical-align: middle;\n",
       "    }\n",
       "\n",
       "    .dataframe tbody tr th {\n",
       "        vertical-align: top;\n",
       "    }\n",
       "\n",
       "    .dataframe thead th {\n",
       "        text-align: right;\n",
       "    }\n",
       "</style>\n",
       "<table border=\"1\" class=\"dataframe\">\n",
       "  <thead>\n",
       "    <tr style=\"text-align: right;\">\n",
       "      <th></th>\n",
       "      <th>Similarity</th>\n",
       "      <th>Variance</th>\n",
       "      <th>Similarity SHAPE33</th>\n",
       "      <th>Variance SHAPE33</th>\n",
       "      <th>PL norm0</th>\n",
       "      <th>PL norm1</th>\n",
       "      <th>PL norm0 SHAPE</th>\n",
       "      <th>PL norm1 SHAPE</th>\n",
       "    </tr>\n",
       "  </thead>\n",
       "  <tbody>\n",
       "    <tr>\n",
       "      <th>0</th>\n",
       "      <td>96.423690</td>\n",
       "      <td>58.736204</td>\n",
       "      <td>83.909287</td>\n",
       "      <td>62.903218</td>\n",
       "      <td>64.998215</td>\n",
       "      <td>0.000000</td>\n",
       "      <td>64.975018</td>\n",
       "      <td>0.000000</td>\n",
       "    </tr>\n",
       "    <tr>\n",
       "      <th>1</th>\n",
       "      <td>55.204598</td>\n",
       "      <td>1400.598193</td>\n",
       "      <td>98.291925</td>\n",
       "      <td>14.163227</td>\n",
       "      <td>65.194148</td>\n",
       "      <td>0.000000</td>\n",
       "      <td>64.982104</td>\n",
       "      <td>0.000000</td>\n",
       "    </tr>\n",
       "    <tr>\n",
       "      <th>2</th>\n",
       "      <td>81.206294</td>\n",
       "      <td>228.163154</td>\n",
       "      <td>91.866090</td>\n",
       "      <td>181.236396</td>\n",
       "      <td>64.758183</td>\n",
       "      <td>0.000000</td>\n",
       "      <td>64.896292</td>\n",
       "      <td>0.000000</td>\n",
       "    </tr>\n",
       "    <tr>\n",
       "      <th>3</th>\n",
       "      <td>94.482379</td>\n",
       "      <td>119.418192</td>\n",
       "      <td>98.162743</td>\n",
       "      <td>42.056933</td>\n",
       "      <td>64.873570</td>\n",
       "      <td>0.000161</td>\n",
       "      <td>65.111365</td>\n",
       "      <td>0.002203</td>\n",
       "    </tr>\n",
       "    <tr>\n",
       "      <th>4</th>\n",
       "      <td>38.345264</td>\n",
       "      <td>539.449350</td>\n",
       "      <td>96.204819</td>\n",
       "      <td>27.614676</td>\n",
       "      <td>64.819485</td>\n",
       "      <td>0.000000</td>\n",
       "      <td>64.738559</td>\n",
       "      <td>0.000000</td>\n",
       "    </tr>\n",
       "  </tbody>\n",
       "</table>\n",
       "</div>"
      ],
      "text/plain": [
       "   Similarity     Variance  Similarity SHAPE33  Variance SHAPE33   PL norm0  \\\n",
       "0   96.423690    58.736204           83.909287         62.903218  64.998215   \n",
       "1   55.204598  1400.598193           98.291925         14.163227  65.194148   \n",
       "2   81.206294   228.163154           91.866090        181.236396  64.758183   \n",
       "3   94.482379   119.418192           98.162743         42.056933  64.873570   \n",
       "4   38.345264   539.449350           96.204819         27.614676  64.819485   \n",
       "\n",
       "   PL norm1  PL norm0 SHAPE  PL norm1 SHAPE  \n",
       "0  0.000000       64.975018        0.000000  \n",
       "1  0.000000       64.982104        0.000000  \n",
       "2  0.000000       64.896292        0.000000  \n",
       "3  0.000161       65.111365        0.002203  \n",
       "4  0.000000       64.738559        0.000000  "
      ]
     },
     "execution_count": 78,
     "metadata": {},
     "output_type": "execute_result"
    }
   ],
   "source": [
    "X_test.head()"
   ]
  },
  {
   "cell_type": "code",
   "execution_count": 79,
   "metadata": {},
   "outputs": [
    {
     "data": {
      "text/plain": [
       "(334, 8)"
      ]
     },
     "execution_count": 79,
     "metadata": {},
     "output_type": "execute_result"
    }
   ],
   "source": [
    "X_test.shape"
   ]
  },
  {
   "cell_type": "code",
   "execution_count": 80,
   "metadata": {},
   "outputs": [
    {
     "data": {
      "text/plain": [
       "False"
      ]
     },
     "execution_count": 80,
     "metadata": {},
     "output_type": "execute_result"
    }
   ],
   "source": [
    "X_test.isnull().values.any()"
   ]
  },
  {
   "cell_type": "code",
   "execution_count": 81,
   "metadata": {},
   "outputs": [],
   "source": [
    "##option to remove the 4 similarity features\n",
    "#X_test=X_test.drop(columns=['Similarity','Variance','Similarity SHAPE33','Variance SHAPE33'])"
   ]
  },
  {
   "cell_type": "code",
   "execution_count": 82,
   "metadata": {},
   "outputs": [],
   "source": [
    "##option to remove the 4 topological data features\n",
    "#X_test=X_test.drop(columns=['PL norm0','PL norm0 SHAPE','PL norm1','PL norm1 SHAPE'])"
   ]
  },
  {
   "cell_type": "code",
   "execution_count": 83,
   "metadata": {},
   "outputs": [
    {
     "data": {
      "text/plain": [
       "0.5449101796407185"
      ]
     },
     "execution_count": 83,
     "metadata": {},
     "output_type": "execute_result"
    }
   ],
   "source": [
    "#Random forest Classifier\n",
    "from sklearn.ensemble import RandomForestClassifier\n",
    "\n",
    "clf1 = RandomForestClassifier(max_depth=10, random_state=0, n_estimators=1000) \n",
    "clf1.fit(X_train, y_train) #build a classifier based on the training sets\n",
    "clf1.score(X_test, y_test) #identify percentage of test set classified correctly"
   ]
  },
  {
   "cell_type": "code",
   "execution_count": 84,
   "metadata": {},
   "outputs": [
    {
     "name": "stdout",
     "output_type": "stream",
     "text": [
      "[0.13310568 0.12692764 0.18561724 0.1473555  0.11381075 0.07133124\n",
      " 0.12944363 0.09240832]\n"
     ]
    }
   ],
   "source": [
    "#prints the importance of each feature in building the classifier\n",
    "feature_importances = clf1.feature_importances_\n",
    "print(feature_importances)"
   ]
  },
  {
   "cell_type": "code",
   "execution_count": 85,
   "metadata": {},
   "outputs": [
    {
     "data": {
      "text/plain": [
       "(1898, 8)"
      ]
     },
     "execution_count": 85,
     "metadata": {},
     "output_type": "execute_result"
    }
   ],
   "source": [
    "X_train.shape #number seqs in training"
   ]
  },
  {
   "cell_type": "code",
   "execution_count": 86,
   "metadata": {},
   "outputs": [
    {
     "data": {
      "text/plain": [
       "(334, 8)"
      ]
     },
     "execution_count": 86,
     "metadata": {},
     "output_type": "execute_result"
    }
   ],
   "source": [
    "X_test.shape #number seqs in test"
   ]
  },
  {
   "cell_type": "code",
   "execution_count": null,
   "metadata": {},
   "outputs": [],
   "source": []
  }
 ],
 "metadata": {
  "kernelspec": {
   "display_name": "Python 3",
   "language": "python",
   "name": "python3"
  },
  "language_info": {
   "codemirror_mode": {
    "name": "ipython",
    "version": 3
   },
   "file_extension": ".py",
   "mimetype": "text/x-python",
   "name": "python",
   "nbconvert_exporter": "python",
   "pygments_lexer": "ipython3",
   "version": "3.8.3"
  }
 },
 "nbformat": 4,
 "nbformat_minor": 5
}
